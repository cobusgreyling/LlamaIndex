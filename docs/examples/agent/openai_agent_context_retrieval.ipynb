{
  "cells": [
    {
      "cell_type": "markdown",
      "id": "9e34586b",
      "metadata": {
        "id": "9e34586b"
      },
      "source": [
        "<a href=\"https://colab.research.google.com/github/run-llama/llama_index/blob/main/docs/examples/agent/openai_agent_context_retrieval.ipynb\" target=\"_parent\"><img src=\"https://colab.research.google.com/assets/colab-badge.svg\" alt=\"Open In Colab\"/></a>"
      ]
    },
    {
      "cell_type": "markdown",
      "id": "99cea58c-48bc-4af6-8358-df9695659983",
      "metadata": {
        "id": "99cea58c-48bc-4af6-8358-df9695659983"
      },
      "source": [
        "# Context-Augmented OpenAI Agent"
      ]
    },
    {
      "cell_type": "markdown",
      "id": "673df1fe-eb6c-46ea-9a73-a96e7ae7942e",
      "metadata": {
        "id": "673df1fe-eb6c-46ea-9a73-a96e7ae7942e"
      },
      "source": [
        "In this tutorial, we show you how to use our `ContextRetrieverOpenAIAgent` implementation\n",
        "to build an agent on top of OpenAI's function API and store/index an arbitrary number of tools. Our indexing/retrieval modules help to remove the complexity of having too many functions to fit in the prompt."
      ]
    },
    {
      "cell_type": "markdown",
      "id": "54b7bc2e-606f-411a-9490-fcfab9236dfc",
      "metadata": {
        "id": "54b7bc2e-606f-411a-9490-fcfab9236dfc"
      },
      "source": [
        "## Initial Setup"
      ]
    },
    {
      "cell_type": "markdown",
      "id": "23e80e5b-aaee-4f23-b338-7ae62b08141f",
      "metadata": {
        "id": "23e80e5b-aaee-4f23-b338-7ae62b08141f"
      },
      "source": [
        "Here we setup a ContextRetrieverOpenAIAgent. This agent will perform retrieval first before calling any tools. This can help ground the agent's tool picking and answering capabilities in context."
      ]
    },
    {
      "cell_type": "markdown",
      "id": "d6d2e0ae",
      "metadata": {
        "id": "d6d2e0ae"
      },
      "source": [
        "If you're opening this Notebook on colab, you will probably need to install LlamaIndex 🦙."
      ]
    },
    {
      "cell_type": "code",
      "execution_count": 1,
      "id": "c40cadb6",
      "metadata": {
        "id": "c40cadb6",
        "outputId": "8a27418f-0862-484c-aee6-0ddd762946ba",
        "colab": {
          "base_uri": "https://localhost:8080/"
        }
      },
      "outputs": [
        {
          "output_type": "stream",
          "name": "stdout",
          "text": [
            "Collecting llama-index-agent-openai-legacy\n",
            "  Downloading llama_index_agent_openai_legacy-0.1.2-py3-none-any.whl (9.4 kB)\n",
            "Collecting llama-index-core<0.11.0,>=0.10.1 (from llama-index-agent-openai-legacy)\n",
            "  Downloading llama_index_core-0.10.19-py3-none-any.whl (15.3 MB)\n",
            "\u001b[2K     \u001b[90m━━━━━━━━━━━━━━━━━━━━━━━━━━━━━━━━━━━━━━━━\u001b[0m \u001b[32m15.3/15.3 MB\u001b[0m \u001b[31m53.3 MB/s\u001b[0m eta \u001b[36m0:00:00\u001b[0m\n",
            "\u001b[?25hCollecting llama-index-llms-openai<0.2.0,>=0.1.1 (from llama-index-agent-openai-legacy)\n",
            "  Downloading llama_index_llms_openai-0.1.9-py3-none-any.whl (10.0 kB)\n",
            "Requirement already satisfied: PyYAML>=6.0.1 in /usr/local/lib/python3.10/dist-packages (from llama-index-core<0.11.0,>=0.10.1->llama-index-agent-openai-legacy) (6.0.1)\n",
            "Requirement already satisfied: SQLAlchemy[asyncio]>=1.4.49 in /usr/local/lib/python3.10/dist-packages (from llama-index-core<0.11.0,>=0.10.1->llama-index-agent-openai-legacy) (2.0.28)\n",
            "Requirement already satisfied: aiohttp<4.0.0,>=3.8.6 in /usr/local/lib/python3.10/dist-packages (from llama-index-core<0.11.0,>=0.10.1->llama-index-agent-openai-legacy) (3.9.3)\n",
            "Collecting dataclasses-json (from llama-index-core<0.11.0,>=0.10.1->llama-index-agent-openai-legacy)\n",
            "  Downloading dataclasses_json-0.6.4-py3-none-any.whl (28 kB)\n",
            "Collecting deprecated>=1.2.9.3 (from llama-index-core<0.11.0,>=0.10.1->llama-index-agent-openai-legacy)\n",
            "  Downloading Deprecated-1.2.14-py2.py3-none-any.whl (9.6 kB)\n",
            "Collecting dirtyjson<2.0.0,>=1.0.8 (from llama-index-core<0.11.0,>=0.10.1->llama-index-agent-openai-legacy)\n",
            "  Downloading dirtyjson-1.0.8-py3-none-any.whl (25 kB)\n",
            "Requirement already satisfied: fsspec>=2023.5.0 in /usr/local/lib/python3.10/dist-packages (from llama-index-core<0.11.0,>=0.10.1->llama-index-agent-openai-legacy) (2023.6.0)\n",
            "Collecting httpx (from llama-index-core<0.11.0,>=0.10.1->llama-index-agent-openai-legacy)\n",
            "  Downloading httpx-0.27.0-py3-none-any.whl (75 kB)\n",
            "\u001b[2K     \u001b[90m━━━━━━━━━━━━━━━━━━━━━━━━━━━━━━━━━━━━━━━━\u001b[0m \u001b[32m75.6/75.6 kB\u001b[0m \u001b[31m8.1 MB/s\u001b[0m eta \u001b[36m0:00:00\u001b[0m\n",
            "\u001b[?25hCollecting llamaindex-py-client<0.2.0,>=0.1.13 (from llama-index-core<0.11.0,>=0.10.1->llama-index-agent-openai-legacy)\n",
            "  Downloading llamaindex_py_client-0.1.13-py3-none-any.whl (107 kB)\n",
            "\u001b[2K     \u001b[90m━━━━━━━━━━━━━━━━━━━━━━━━━━━━━━━━━━━━━━━━\u001b[0m \u001b[32m108.0/108.0 kB\u001b[0m \u001b[31m11.9 MB/s\u001b[0m eta \u001b[36m0:00:00\u001b[0m\n",
            "\u001b[?25hRequirement already satisfied: nest-asyncio<2.0.0,>=1.5.8 in /usr/local/lib/python3.10/dist-packages (from llama-index-core<0.11.0,>=0.10.1->llama-index-agent-openai-legacy) (1.6.0)\n",
            "Requirement already satisfied: networkx>=3.0 in /usr/local/lib/python3.10/dist-packages (from llama-index-core<0.11.0,>=0.10.1->llama-index-agent-openai-legacy) (3.2.1)\n",
            "Requirement already satisfied: nltk<4.0.0,>=3.8.1 in /usr/local/lib/python3.10/dist-packages (from llama-index-core<0.11.0,>=0.10.1->llama-index-agent-openai-legacy) (3.8.1)\n",
            "Requirement already satisfied: numpy in /usr/local/lib/python3.10/dist-packages (from llama-index-core<0.11.0,>=0.10.1->llama-index-agent-openai-legacy) (1.25.2)\n",
            "Collecting openai>=1.1.0 (from llama-index-core<0.11.0,>=0.10.1->llama-index-agent-openai-legacy)\n",
            "  Downloading openai-1.14.0-py3-none-any.whl (257 kB)\n",
            "\u001b[2K     \u001b[90m━━━━━━━━━━━━━━━━━━━━━━━━━━━━━━━━━━━━━━━━\u001b[0m \u001b[32m257.5/257.5 kB\u001b[0m \u001b[31m10.4 MB/s\u001b[0m eta \u001b[36m0:00:00\u001b[0m\n",
            "\u001b[?25hRequirement already satisfied: pandas in /usr/local/lib/python3.10/dist-packages (from llama-index-core<0.11.0,>=0.10.1->llama-index-agent-openai-legacy) (1.5.3)\n",
            "Requirement already satisfied: pillow>=9.0.0 in /usr/local/lib/python3.10/dist-packages (from llama-index-core<0.11.0,>=0.10.1->llama-index-agent-openai-legacy) (9.4.0)\n",
            "Requirement already satisfied: requests>=2.31.0 in /usr/local/lib/python3.10/dist-packages (from llama-index-core<0.11.0,>=0.10.1->llama-index-agent-openai-legacy) (2.31.0)\n",
            "Requirement already satisfied: tenacity<9.0.0,>=8.2.0 in /usr/local/lib/python3.10/dist-packages (from llama-index-core<0.11.0,>=0.10.1->llama-index-agent-openai-legacy) (8.2.3)\n",
            "Collecting tiktoken>=0.3.3 (from llama-index-core<0.11.0,>=0.10.1->llama-index-agent-openai-legacy)\n",
            "  Downloading tiktoken-0.6.0-cp310-cp310-manylinux_2_17_x86_64.manylinux2014_x86_64.whl (1.8 MB)\n",
            "\u001b[2K     \u001b[90m━━━━━━━━━━━━━━━━━━━━━━━━━━━━━━━━━━━━━━━━\u001b[0m \u001b[32m1.8/1.8 MB\u001b[0m \u001b[31m55.6 MB/s\u001b[0m eta \u001b[36m0:00:00\u001b[0m\n",
            "\u001b[?25hRequirement already satisfied: tqdm<5.0.0,>=4.66.1 in /usr/local/lib/python3.10/dist-packages (from llama-index-core<0.11.0,>=0.10.1->llama-index-agent-openai-legacy) (4.66.2)\n",
            "Requirement already satisfied: typing-extensions>=4.5.0 in /usr/local/lib/python3.10/dist-packages (from llama-index-core<0.11.0,>=0.10.1->llama-index-agent-openai-legacy) (4.10.0)\n",
            "Collecting typing-inspect>=0.8.0 (from llama-index-core<0.11.0,>=0.10.1->llama-index-agent-openai-legacy)\n",
            "  Downloading typing_inspect-0.9.0-py3-none-any.whl (8.8 kB)\n",
            "Requirement already satisfied: aiosignal>=1.1.2 in /usr/local/lib/python3.10/dist-packages (from aiohttp<4.0.0,>=3.8.6->llama-index-core<0.11.0,>=0.10.1->llama-index-agent-openai-legacy) (1.3.1)\n",
            "Requirement already satisfied: attrs>=17.3.0 in /usr/local/lib/python3.10/dist-packages (from aiohttp<4.0.0,>=3.8.6->llama-index-core<0.11.0,>=0.10.1->llama-index-agent-openai-legacy) (23.2.0)\n",
            "Requirement already satisfied: frozenlist>=1.1.1 in /usr/local/lib/python3.10/dist-packages (from aiohttp<4.0.0,>=3.8.6->llama-index-core<0.11.0,>=0.10.1->llama-index-agent-openai-legacy) (1.4.1)\n",
            "Requirement already satisfied: multidict<7.0,>=4.5 in /usr/local/lib/python3.10/dist-packages (from aiohttp<4.0.0,>=3.8.6->llama-index-core<0.11.0,>=0.10.1->llama-index-agent-openai-legacy) (6.0.5)\n",
            "Requirement already satisfied: yarl<2.0,>=1.0 in /usr/local/lib/python3.10/dist-packages (from aiohttp<4.0.0,>=3.8.6->llama-index-core<0.11.0,>=0.10.1->llama-index-agent-openai-legacy) (1.9.4)\n",
            "Requirement already satisfied: async-timeout<5.0,>=4.0 in /usr/local/lib/python3.10/dist-packages (from aiohttp<4.0.0,>=3.8.6->llama-index-core<0.11.0,>=0.10.1->llama-index-agent-openai-legacy) (4.0.3)\n",
            "Requirement already satisfied: wrapt<2,>=1.10 in /usr/local/lib/python3.10/dist-packages (from deprecated>=1.2.9.3->llama-index-core<0.11.0,>=0.10.1->llama-index-agent-openai-legacy) (1.14.1)\n",
            "Requirement already satisfied: pydantic>=1.10 in /usr/local/lib/python3.10/dist-packages (from llamaindex-py-client<0.2.0,>=0.1.13->llama-index-core<0.11.0,>=0.10.1->llama-index-agent-openai-legacy) (2.6.3)\n",
            "Requirement already satisfied: anyio in /usr/local/lib/python3.10/dist-packages (from httpx->llama-index-core<0.11.0,>=0.10.1->llama-index-agent-openai-legacy) (3.7.1)\n",
            "Requirement already satisfied: certifi in /usr/local/lib/python3.10/dist-packages (from httpx->llama-index-core<0.11.0,>=0.10.1->llama-index-agent-openai-legacy) (2024.2.2)\n",
            "Collecting httpcore==1.* (from httpx->llama-index-core<0.11.0,>=0.10.1->llama-index-agent-openai-legacy)\n",
            "  Downloading httpcore-1.0.4-py3-none-any.whl (77 kB)\n",
            "\u001b[2K     \u001b[90m━━━━━━━━━━━━━━━━━━━━━━━━━━━━━━━━━━━━━━━━\u001b[0m \u001b[32m77.8/77.8 kB\u001b[0m \u001b[31m6.4 MB/s\u001b[0m eta \u001b[36m0:00:00\u001b[0m\n",
            "\u001b[?25hRequirement already satisfied: idna in /usr/local/lib/python3.10/dist-packages (from httpx->llama-index-core<0.11.0,>=0.10.1->llama-index-agent-openai-legacy) (3.6)\n",
            "Requirement already satisfied: sniffio in /usr/local/lib/python3.10/dist-packages (from httpx->llama-index-core<0.11.0,>=0.10.1->llama-index-agent-openai-legacy) (1.3.1)\n",
            "Collecting h11<0.15,>=0.13 (from httpcore==1.*->httpx->llama-index-core<0.11.0,>=0.10.1->llama-index-agent-openai-legacy)\n",
            "  Downloading h11-0.14.0-py3-none-any.whl (58 kB)\n",
            "\u001b[2K     \u001b[90m━━━━━━━━━━━━━━━━━━━━━━━━━━━━━━━━━━━━━━━━\u001b[0m \u001b[32m58.3/58.3 kB\u001b[0m \u001b[31m6.2 MB/s\u001b[0m eta \u001b[36m0:00:00\u001b[0m\n",
            "\u001b[?25hRequirement already satisfied: click in /usr/local/lib/python3.10/dist-packages (from nltk<4.0.0,>=3.8.1->llama-index-core<0.11.0,>=0.10.1->llama-index-agent-openai-legacy) (8.1.7)\n",
            "Requirement already satisfied: joblib in /usr/local/lib/python3.10/dist-packages (from nltk<4.0.0,>=3.8.1->llama-index-core<0.11.0,>=0.10.1->llama-index-agent-openai-legacy) (1.3.2)\n",
            "Requirement already satisfied: regex>=2021.8.3 in /usr/local/lib/python3.10/dist-packages (from nltk<4.0.0,>=3.8.1->llama-index-core<0.11.0,>=0.10.1->llama-index-agent-openai-legacy) (2023.12.25)\n",
            "Requirement already satisfied: distro<2,>=1.7.0 in /usr/lib/python3/dist-packages (from openai>=1.1.0->llama-index-core<0.11.0,>=0.10.1->llama-index-agent-openai-legacy) (1.7.0)\n",
            "Requirement already satisfied: charset-normalizer<4,>=2 in /usr/local/lib/python3.10/dist-packages (from requests>=2.31.0->llama-index-core<0.11.0,>=0.10.1->llama-index-agent-openai-legacy) (3.3.2)\n",
            "Requirement already satisfied: urllib3<3,>=1.21.1 in /usr/local/lib/python3.10/dist-packages (from requests>=2.31.0->llama-index-core<0.11.0,>=0.10.1->llama-index-agent-openai-legacy) (2.0.7)\n",
            "Requirement already satisfied: greenlet!=0.4.17 in /usr/local/lib/python3.10/dist-packages (from SQLAlchemy[asyncio]>=1.4.49->llama-index-core<0.11.0,>=0.10.1->llama-index-agent-openai-legacy) (3.0.3)\n",
            "Collecting mypy-extensions>=0.3.0 (from typing-inspect>=0.8.0->llama-index-core<0.11.0,>=0.10.1->llama-index-agent-openai-legacy)\n",
            "  Downloading mypy_extensions-1.0.0-py3-none-any.whl (4.7 kB)\n",
            "Collecting marshmallow<4.0.0,>=3.18.0 (from dataclasses-json->llama-index-core<0.11.0,>=0.10.1->llama-index-agent-openai-legacy)\n",
            "  Downloading marshmallow-3.21.1-py3-none-any.whl (49 kB)\n",
            "\u001b[2K     \u001b[90m━━━━━━━━━━━━━━━━━━━━━━━━━━━━━━━━━━━━━━━━\u001b[0m \u001b[32m49.4/49.4 kB\u001b[0m \u001b[31m3.9 MB/s\u001b[0m eta \u001b[36m0:00:00\u001b[0m\n",
            "\u001b[?25hRequirement already satisfied: python-dateutil>=2.8.1 in /usr/local/lib/python3.10/dist-packages (from pandas->llama-index-core<0.11.0,>=0.10.1->llama-index-agent-openai-legacy) (2.8.2)\n",
            "Requirement already satisfied: pytz>=2020.1 in /usr/local/lib/python3.10/dist-packages (from pandas->llama-index-core<0.11.0,>=0.10.1->llama-index-agent-openai-legacy) (2023.4)\n",
            "Requirement already satisfied: exceptiongroup in /usr/local/lib/python3.10/dist-packages (from anyio->httpx->llama-index-core<0.11.0,>=0.10.1->llama-index-agent-openai-legacy) (1.2.0)\n",
            "Requirement already satisfied: packaging>=17.0 in /usr/local/lib/python3.10/dist-packages (from marshmallow<4.0.0,>=3.18.0->dataclasses-json->llama-index-core<0.11.0,>=0.10.1->llama-index-agent-openai-legacy) (24.0)\n",
            "Requirement already satisfied: annotated-types>=0.4.0 in /usr/local/lib/python3.10/dist-packages (from pydantic>=1.10->llamaindex-py-client<0.2.0,>=0.1.13->llama-index-core<0.11.0,>=0.10.1->llama-index-agent-openai-legacy) (0.6.0)\n",
            "Requirement already satisfied: pydantic-core==2.16.3 in /usr/local/lib/python3.10/dist-packages (from pydantic>=1.10->llamaindex-py-client<0.2.0,>=0.1.13->llama-index-core<0.11.0,>=0.10.1->llama-index-agent-openai-legacy) (2.16.3)\n",
            "Requirement already satisfied: six>=1.5 in /usr/local/lib/python3.10/dist-packages (from python-dateutil>=2.8.1->pandas->llama-index-core<0.11.0,>=0.10.1->llama-index-agent-openai-legacy) (1.16.0)\n",
            "Installing collected packages: dirtyjson, mypy-extensions, marshmallow, h11, deprecated, typing-inspect, tiktoken, httpcore, httpx, dataclasses-json, openai, llamaindex-py-client, llama-index-core, llama-index-llms-openai, llama-index-agent-openai-legacy\n",
            "Successfully installed dataclasses-json-0.6.4 deprecated-1.2.14 dirtyjson-1.0.8 h11-0.14.0 httpcore-1.0.4 httpx-0.27.0 llama-index-agent-openai-legacy-0.1.2 llama-index-core-0.10.19 llama-index-llms-openai-0.1.9 llamaindex-py-client-0.1.13 marshmallow-3.21.1 mypy-extensions-1.0.0 openai-1.14.0 tiktoken-0.6.0 typing-inspect-0.9.0\n"
          ]
        }
      ],
      "source": [
        "%pip install llama-index-agent-openai-legacy"
      ]
    },
    {
      "cell_type": "code",
      "execution_count": 2,
      "id": "21770827",
      "metadata": {
        "id": "21770827",
        "outputId": "d63812b0-36d7-476c-f7bf-7dc559e00fdb",
        "colab": {
          "base_uri": "https://localhost:8080/"
        }
      },
      "outputs": [
        {
          "output_type": "stream",
          "name": "stdout",
          "text": [
            "Collecting llama-index\n",
            "  Downloading llama_index-0.10.19-py3-none-any.whl (5.6 kB)\n",
            "Collecting llama-index-agent-openai<0.2.0,>=0.1.4 (from llama-index)\n",
            "  Downloading llama_index_agent_openai-0.1.5-py3-none-any.whl (12 kB)\n",
            "Collecting llama-index-cli<0.2.0,>=0.1.2 (from llama-index)\n",
            "  Downloading llama_index_cli-0.1.9-py3-none-any.whl (25 kB)\n",
            "Requirement already satisfied: llama-index-core<0.11.0,>=0.10.19 in /usr/local/lib/python3.10/dist-packages (from llama-index) (0.10.19)\n",
            "Collecting llama-index-embeddings-openai<0.2.0,>=0.1.5 (from llama-index)\n",
            "  Downloading llama_index_embeddings_openai-0.1.6-py3-none-any.whl (6.0 kB)\n",
            "Collecting llama-index-indices-managed-llama-cloud<0.2.0,>=0.1.2 (from llama-index)\n",
            "  Downloading llama_index_indices_managed_llama_cloud-0.1.4-py3-none-any.whl (6.6 kB)\n",
            "Collecting llama-index-legacy<0.10.0,>=0.9.48 (from llama-index)\n",
            "  Downloading llama_index_legacy-0.9.48-py3-none-any.whl (2.0 MB)\n",
            "\u001b[2K     \u001b[90m━━━━━━━━━━━━━━━━━━━━━━━━━━━━━━━━━━━━━━━━\u001b[0m \u001b[32m2.0/2.0 MB\u001b[0m \u001b[31m33.2 MB/s\u001b[0m eta \u001b[36m0:00:00\u001b[0m\n",
            "\u001b[?25hRequirement already satisfied: llama-index-llms-openai<0.2.0,>=0.1.5 in /usr/local/lib/python3.10/dist-packages (from llama-index) (0.1.9)\n",
            "Collecting llama-index-multi-modal-llms-openai<0.2.0,>=0.1.3 (from llama-index)\n",
            "  Downloading llama_index_multi_modal_llms_openai-0.1.4-py3-none-any.whl (5.8 kB)\n",
            "Collecting llama-index-program-openai<0.2.0,>=0.1.3 (from llama-index)\n",
            "  Downloading llama_index_program_openai-0.1.4-py3-none-any.whl (4.1 kB)\n",
            "Collecting llama-index-question-gen-openai<0.2.0,>=0.1.2 (from llama-index)\n",
            "  Downloading llama_index_question_gen_openai-0.1.3-py3-none-any.whl (2.9 kB)\n",
            "Collecting llama-index-readers-file<0.2.0,>=0.1.4 (from llama-index)\n",
            "  Downloading llama_index_readers_file-0.1.11-py3-none-any.whl (36 kB)\n",
            "Collecting llama-index-readers-llama-parse<0.2.0,>=0.1.2 (from llama-index)\n",
            "  Downloading llama_index_readers_llama_parse-0.1.3-py3-none-any.whl (2.5 kB)\n",
            "Requirement already satisfied: PyYAML>=6.0.1 in /usr/local/lib/python3.10/dist-packages (from llama-index-core<0.11.0,>=0.10.19->llama-index) (6.0.1)\n",
            "Requirement already satisfied: SQLAlchemy[asyncio]>=1.4.49 in /usr/local/lib/python3.10/dist-packages (from llama-index-core<0.11.0,>=0.10.19->llama-index) (2.0.28)\n",
            "Requirement already satisfied: aiohttp<4.0.0,>=3.8.6 in /usr/local/lib/python3.10/dist-packages (from llama-index-core<0.11.0,>=0.10.19->llama-index) (3.9.3)\n",
            "Requirement already satisfied: dataclasses-json in /usr/local/lib/python3.10/dist-packages (from llama-index-core<0.11.0,>=0.10.19->llama-index) (0.6.4)\n",
            "Requirement already satisfied: deprecated>=1.2.9.3 in /usr/local/lib/python3.10/dist-packages (from llama-index-core<0.11.0,>=0.10.19->llama-index) (1.2.14)\n",
            "Requirement already satisfied: dirtyjson<2.0.0,>=1.0.8 in /usr/local/lib/python3.10/dist-packages (from llama-index-core<0.11.0,>=0.10.19->llama-index) (1.0.8)\n",
            "Requirement already satisfied: fsspec>=2023.5.0 in /usr/local/lib/python3.10/dist-packages (from llama-index-core<0.11.0,>=0.10.19->llama-index) (2023.6.0)\n",
            "Requirement already satisfied: httpx in /usr/local/lib/python3.10/dist-packages (from llama-index-core<0.11.0,>=0.10.19->llama-index) (0.27.0)\n",
            "Requirement already satisfied: llamaindex-py-client<0.2.0,>=0.1.13 in /usr/local/lib/python3.10/dist-packages (from llama-index-core<0.11.0,>=0.10.19->llama-index) (0.1.13)\n",
            "Requirement already satisfied: nest-asyncio<2.0.0,>=1.5.8 in /usr/local/lib/python3.10/dist-packages (from llama-index-core<0.11.0,>=0.10.19->llama-index) (1.6.0)\n",
            "Requirement already satisfied: networkx>=3.0 in /usr/local/lib/python3.10/dist-packages (from llama-index-core<0.11.0,>=0.10.19->llama-index) (3.2.1)\n",
            "Requirement already satisfied: nltk<4.0.0,>=3.8.1 in /usr/local/lib/python3.10/dist-packages (from llama-index-core<0.11.0,>=0.10.19->llama-index) (3.8.1)\n",
            "Requirement already satisfied: numpy in /usr/local/lib/python3.10/dist-packages (from llama-index-core<0.11.0,>=0.10.19->llama-index) (1.25.2)\n",
            "Requirement already satisfied: openai>=1.1.0 in /usr/local/lib/python3.10/dist-packages (from llama-index-core<0.11.0,>=0.10.19->llama-index) (1.14.0)\n",
            "Requirement already satisfied: pandas in /usr/local/lib/python3.10/dist-packages (from llama-index-core<0.11.0,>=0.10.19->llama-index) (1.5.3)\n",
            "Requirement already satisfied: pillow>=9.0.0 in /usr/local/lib/python3.10/dist-packages (from llama-index-core<0.11.0,>=0.10.19->llama-index) (9.4.0)\n",
            "Requirement already satisfied: requests>=2.31.0 in /usr/local/lib/python3.10/dist-packages (from llama-index-core<0.11.0,>=0.10.19->llama-index) (2.31.0)\n",
            "Requirement already satisfied: tenacity<9.0.0,>=8.2.0 in /usr/local/lib/python3.10/dist-packages (from llama-index-core<0.11.0,>=0.10.19->llama-index) (8.2.3)\n",
            "Requirement already satisfied: tiktoken>=0.3.3 in /usr/local/lib/python3.10/dist-packages (from llama-index-core<0.11.0,>=0.10.19->llama-index) (0.6.0)\n",
            "Requirement already satisfied: tqdm<5.0.0,>=4.66.1 in /usr/local/lib/python3.10/dist-packages (from llama-index-core<0.11.0,>=0.10.19->llama-index) (4.66.2)\n",
            "Requirement already satisfied: typing-extensions>=4.5.0 in /usr/local/lib/python3.10/dist-packages (from llama-index-core<0.11.0,>=0.10.19->llama-index) (4.10.0)\n",
            "Requirement already satisfied: typing-inspect>=0.8.0 in /usr/local/lib/python3.10/dist-packages (from llama-index-core<0.11.0,>=0.10.19->llama-index) (0.9.0)\n",
            "Requirement already satisfied: beautifulsoup4<5.0.0,>=4.12.3 in /usr/local/lib/python3.10/dist-packages (from llama-index-readers-file<0.2.0,>=0.1.4->llama-index) (4.12.3)\n",
            "Collecting bs4<0.0.3,>=0.0.2 (from llama-index-readers-file<0.2.0,>=0.1.4->llama-index)\n",
            "  Downloading bs4-0.0.2-py2.py3-none-any.whl (1.2 kB)\n",
            "Collecting pymupdf<2.0.0,>=1.23.21 (from llama-index-readers-file<0.2.0,>=0.1.4->llama-index)\n",
            "  Downloading PyMuPDF-1.23.26-cp310-none-manylinux2014_x86_64.whl (4.4 MB)\n",
            "\u001b[2K     \u001b[90m━━━━━━━━━━━━━━━━━━━━━━━━━━━━━━━━━━━━━━━━\u001b[0m \u001b[32m4.4/4.4 MB\u001b[0m \u001b[31m63.5 MB/s\u001b[0m eta \u001b[36m0:00:00\u001b[0m\n",
            "\u001b[?25hCollecting pypdf<5.0.0,>=4.0.1 (from llama-index-readers-file<0.2.0,>=0.1.4->llama-index)\n",
            "  Downloading pypdf-4.1.0-py3-none-any.whl (286 kB)\n",
            "\u001b[2K     \u001b[90m━━━━━━━━━━━━━━━━━━━━━━━━━━━━━━━━━━━━━━━━\u001b[0m \u001b[32m286.1/286.1 kB\u001b[0m \u001b[31m26.4 MB/s\u001b[0m eta \u001b[36m0:00:00\u001b[0m\n",
            "\u001b[?25hCollecting striprtf<0.0.27,>=0.0.26 (from llama-index-readers-file<0.2.0,>=0.1.4->llama-index)\n",
            "  Downloading striprtf-0.0.26-py3-none-any.whl (6.9 kB)\n",
            "Collecting llama-parse<0.4.0,>=0.3.3 (from llama-index-readers-llama-parse<0.2.0,>=0.1.2->llama-index)\n",
            "  Downloading llama_parse-0.3.9-py3-none-any.whl (6.8 kB)\n",
            "Requirement already satisfied: aiosignal>=1.1.2 in /usr/local/lib/python3.10/dist-packages (from aiohttp<4.0.0,>=3.8.6->llama-index-core<0.11.0,>=0.10.19->llama-index) (1.3.1)\n",
            "Requirement already satisfied: attrs>=17.3.0 in /usr/local/lib/python3.10/dist-packages (from aiohttp<4.0.0,>=3.8.6->llama-index-core<0.11.0,>=0.10.19->llama-index) (23.2.0)\n",
            "Requirement already satisfied: frozenlist>=1.1.1 in /usr/local/lib/python3.10/dist-packages (from aiohttp<4.0.0,>=3.8.6->llama-index-core<0.11.0,>=0.10.19->llama-index) (1.4.1)\n",
            "Requirement already satisfied: multidict<7.0,>=4.5 in /usr/local/lib/python3.10/dist-packages (from aiohttp<4.0.0,>=3.8.6->llama-index-core<0.11.0,>=0.10.19->llama-index) (6.0.5)\n",
            "Requirement already satisfied: yarl<2.0,>=1.0 in /usr/local/lib/python3.10/dist-packages (from aiohttp<4.0.0,>=3.8.6->llama-index-core<0.11.0,>=0.10.19->llama-index) (1.9.4)\n",
            "Requirement already satisfied: async-timeout<5.0,>=4.0 in /usr/local/lib/python3.10/dist-packages (from aiohttp<4.0.0,>=3.8.6->llama-index-core<0.11.0,>=0.10.19->llama-index) (4.0.3)\n",
            "Requirement already satisfied: soupsieve>1.2 in /usr/local/lib/python3.10/dist-packages (from beautifulsoup4<5.0.0,>=4.12.3->llama-index-readers-file<0.2.0,>=0.1.4->llama-index) (2.5)\n",
            "Requirement already satisfied: wrapt<2,>=1.10 in /usr/local/lib/python3.10/dist-packages (from deprecated>=1.2.9.3->llama-index-core<0.11.0,>=0.10.19->llama-index) (1.14.1)\n",
            "Requirement already satisfied: pydantic>=1.10 in /usr/local/lib/python3.10/dist-packages (from llamaindex-py-client<0.2.0,>=0.1.13->llama-index-core<0.11.0,>=0.10.19->llama-index) (2.6.3)\n",
            "Requirement already satisfied: anyio in /usr/local/lib/python3.10/dist-packages (from httpx->llama-index-core<0.11.0,>=0.10.19->llama-index) (3.7.1)\n",
            "Requirement already satisfied: certifi in /usr/local/lib/python3.10/dist-packages (from httpx->llama-index-core<0.11.0,>=0.10.19->llama-index) (2024.2.2)\n",
            "Requirement already satisfied: httpcore==1.* in /usr/local/lib/python3.10/dist-packages (from httpx->llama-index-core<0.11.0,>=0.10.19->llama-index) (1.0.4)\n",
            "Requirement already satisfied: idna in /usr/local/lib/python3.10/dist-packages (from httpx->llama-index-core<0.11.0,>=0.10.19->llama-index) (3.6)\n",
            "Requirement already satisfied: sniffio in /usr/local/lib/python3.10/dist-packages (from httpx->llama-index-core<0.11.0,>=0.10.19->llama-index) (1.3.1)\n",
            "Requirement already satisfied: h11<0.15,>=0.13 in /usr/local/lib/python3.10/dist-packages (from httpcore==1.*->httpx->llama-index-core<0.11.0,>=0.10.19->llama-index) (0.14.0)\n",
            "Requirement already satisfied: click in /usr/local/lib/python3.10/dist-packages (from nltk<4.0.0,>=3.8.1->llama-index-core<0.11.0,>=0.10.19->llama-index) (8.1.7)\n",
            "Requirement already satisfied: joblib in /usr/local/lib/python3.10/dist-packages (from nltk<4.0.0,>=3.8.1->llama-index-core<0.11.0,>=0.10.19->llama-index) (1.3.2)\n",
            "Requirement already satisfied: regex>=2021.8.3 in /usr/local/lib/python3.10/dist-packages (from nltk<4.0.0,>=3.8.1->llama-index-core<0.11.0,>=0.10.19->llama-index) (2023.12.25)\n",
            "Requirement already satisfied: distro<2,>=1.7.0 in /usr/lib/python3/dist-packages (from openai>=1.1.0->llama-index-core<0.11.0,>=0.10.19->llama-index) (1.7.0)\n",
            "Collecting PyMuPDFb==1.23.22 (from pymupdf<2.0.0,>=1.23.21->llama-index-readers-file<0.2.0,>=0.1.4->llama-index)\n",
            "  Downloading PyMuPDFb-1.23.22-py3-none-manylinux2014_x86_64.manylinux_2_17_x86_64.whl (30.6 MB)\n",
            "\u001b[2K     \u001b[90m━━━━━━━━━━━━━━━━━━━━━━━━━━━━━━━━━━━━━━━━\u001b[0m \u001b[32m30.6/30.6 MB\u001b[0m \u001b[31m37.4 MB/s\u001b[0m eta \u001b[36m0:00:00\u001b[0m\n",
            "\u001b[?25hRequirement already satisfied: charset-normalizer<4,>=2 in /usr/local/lib/python3.10/dist-packages (from requests>=2.31.0->llama-index-core<0.11.0,>=0.10.19->llama-index) (3.3.2)\n",
            "Requirement already satisfied: urllib3<3,>=1.21.1 in /usr/local/lib/python3.10/dist-packages (from requests>=2.31.0->llama-index-core<0.11.0,>=0.10.19->llama-index) (2.0.7)\n",
            "Requirement already satisfied: greenlet!=0.4.17 in /usr/local/lib/python3.10/dist-packages (from SQLAlchemy[asyncio]>=1.4.49->llama-index-core<0.11.0,>=0.10.19->llama-index) (3.0.3)\n",
            "Requirement already satisfied: mypy-extensions>=0.3.0 in /usr/local/lib/python3.10/dist-packages (from typing-inspect>=0.8.0->llama-index-core<0.11.0,>=0.10.19->llama-index) (1.0.0)\n",
            "Requirement already satisfied: marshmallow<4.0.0,>=3.18.0 in /usr/local/lib/python3.10/dist-packages (from dataclasses-json->llama-index-core<0.11.0,>=0.10.19->llama-index) (3.21.1)\n",
            "Requirement already satisfied: python-dateutil>=2.8.1 in /usr/local/lib/python3.10/dist-packages (from pandas->llama-index-core<0.11.0,>=0.10.19->llama-index) (2.8.2)\n",
            "Requirement already satisfied: pytz>=2020.1 in /usr/local/lib/python3.10/dist-packages (from pandas->llama-index-core<0.11.0,>=0.10.19->llama-index) (2023.4)\n",
            "Requirement already satisfied: exceptiongroup in /usr/local/lib/python3.10/dist-packages (from anyio->httpx->llama-index-core<0.11.0,>=0.10.19->llama-index) (1.2.0)\n",
            "Requirement already satisfied: packaging>=17.0 in /usr/local/lib/python3.10/dist-packages (from marshmallow<4.0.0,>=3.18.0->dataclasses-json->llama-index-core<0.11.0,>=0.10.19->llama-index) (24.0)\n",
            "Requirement already satisfied: annotated-types>=0.4.0 in /usr/local/lib/python3.10/dist-packages (from pydantic>=1.10->llamaindex-py-client<0.2.0,>=0.1.13->llama-index-core<0.11.0,>=0.10.19->llama-index) (0.6.0)\n",
            "Requirement already satisfied: pydantic-core==2.16.3 in /usr/local/lib/python3.10/dist-packages (from pydantic>=1.10->llamaindex-py-client<0.2.0,>=0.1.13->llama-index-core<0.11.0,>=0.10.19->llama-index) (2.16.3)\n",
            "Requirement already satisfied: six>=1.5 in /usr/local/lib/python3.10/dist-packages (from python-dateutil>=2.8.1->pandas->llama-index-core<0.11.0,>=0.10.19->llama-index) (1.16.0)\n",
            "Installing collected packages: striprtf, pypdf, PyMuPDFb, pymupdf, bs4, llama-index-legacy, llama-parse, llama-index-readers-file, llama-index-indices-managed-llama-cloud, llama-index-embeddings-openai, llama-index-readers-llama-parse, llama-index-multi-modal-llms-openai, llama-index-cli, llama-index-agent-openai, llama-index-program-openai, llama-index-question-gen-openai, llama-index\n",
            "Successfully installed PyMuPDFb-1.23.22 bs4-0.0.2 llama-index-0.10.19 llama-index-agent-openai-0.1.5 llama-index-cli-0.1.9 llama-index-embeddings-openai-0.1.6 llama-index-indices-managed-llama-cloud-0.1.4 llama-index-legacy-0.9.48 llama-index-multi-modal-llms-openai-0.1.4 llama-index-program-openai-0.1.4 llama-index-question-gen-openai-0.1.3 llama-index-readers-file-0.1.11 llama-index-readers-llama-parse-0.1.3 llama-parse-0.3.9 pymupdf-1.23.26 pypdf-4.1.0 striprtf-0.0.26\n"
          ]
        }
      ],
      "source": [
        "!pip install llama-index"
      ]
    },
    {
      "cell_type": "code",
      "source": [
        "import os\n",
        "import openai\n",
        "\n",
        "os.environ[\"OPENAI_API_KEY\"] = \"< Your API Key Goes Here>\""
      ],
      "metadata": {
        "id": "mTPUdqhw-P3N"
      },
      "id": "mTPUdqhw-P3N",
      "execution_count": 3,
      "outputs": []
    },
    {
      "cell_type": "code",
      "execution_count": 4,
      "id": "9d47283b-025e-4874-88ed-76245b22f82e",
      "metadata": {
        "id": "9d47283b-025e-4874-88ed-76245b22f82e"
      },
      "outputs": [],
      "source": [
        "import json\n",
        "from typing import Sequence\n",
        "\n",
        "from llama_index.core import (\n",
        "    SimpleDirectoryReader,\n",
        "    VectorStoreIndex,\n",
        "    StorageContext,\n",
        "    load_index_from_storage,\n",
        ")\n",
        "from llama_index.core.tools import QueryEngineTool, ToolMetadata"
      ]
    },
    {
      "cell_type": "code",
      "execution_count": 5,
      "id": "9f034df0-f6f1-4ffb-9c4b-d68c2202051c",
      "metadata": {
        "id": "9f034df0-f6f1-4ffb-9c4b-d68c2202051c"
      },
      "outputs": [],
      "source": [
        "try:\n",
        "    storage_context = StorageContext.from_defaults(\n",
        "        persist_dir=\"./storage/march\"\n",
        "    )\n",
        "    march_index = load_index_from_storage(storage_context)\n",
        "\n",
        "    storage_context = StorageContext.from_defaults(\n",
        "        persist_dir=\"./storage/june\"\n",
        "    )\n",
        "    june_index = load_index_from_storage(storage_context)\n",
        "\n",
        "    storage_context = StorageContext.from_defaults(\n",
        "        persist_dir=\"./storage/sept\"\n",
        "    )\n",
        "    sept_index = load_index_from_storage(storage_context)\n",
        "\n",
        "    index_loaded = True\n",
        "except:\n",
        "    index_loaded = False"
      ]
    },
    {
      "cell_type": "markdown",
      "id": "f9010d88",
      "metadata": {
        "id": "f9010d88"
      },
      "source": [
        "Download Data"
      ]
    },
    {
      "cell_type": "code",
      "execution_count": 6,
      "id": "75aa7b79",
      "metadata": {
        "id": "75aa7b79",
        "outputId": "dd50f715-b8a4-46c5-f14d-df06b421eff6",
        "colab": {
          "base_uri": "https://localhost:8080/"
        }
      },
      "outputs": [
        {
          "output_type": "stream",
          "name": "stdout",
          "text": [
            "--2024-03-14 08:01:05--  https://raw.githubusercontent.com/run-llama/llama_index/main/docs/examples/data/10q/uber_10q_march_2022.pdf\n",
            "Resolving raw.githubusercontent.com (raw.githubusercontent.com)... 185.199.108.133, 185.199.109.133, 185.199.110.133, ...\n",
            "Connecting to raw.githubusercontent.com (raw.githubusercontent.com)|185.199.108.133|:443... connected.\n",
            "HTTP request sent, awaiting response... 200 OK\n",
            "Length: 1260185 (1.2M) [application/octet-stream]\n",
            "Saving to: ‘data/10q/uber_10q_march_2022.pdf’\n",
            "\n",
            "\r          data/10q/   0%[                    ]       0  --.-KB/s               \rdata/10q/uber_10q_m 100%[===================>]   1.20M  --.-KB/s    in 0.01s   \n",
            "\n",
            "2024-03-14 08:01:05 (99.2 MB/s) - ‘data/10q/uber_10q_march_2022.pdf’ saved [1260185/1260185]\n",
            "\n",
            "--2024-03-14 08:01:05--  https://raw.githubusercontent.com/run-llama/llama_index/main/docs/examples/data/10q/uber_10q_june_2022.pdf\n",
            "Resolving raw.githubusercontent.com (raw.githubusercontent.com)... 185.199.108.133, 185.199.109.133, 185.199.110.133, ...\n",
            "Connecting to raw.githubusercontent.com (raw.githubusercontent.com)|185.199.108.133|:443... connected.\n",
            "HTTP request sent, awaiting response... 200 OK\n",
            "Length: 1238483 (1.2M) [application/octet-stream]\n",
            "Saving to: ‘data/10q/uber_10q_june_2022.pdf’\n",
            "\n",
            "data/10q/uber_10q_j 100%[===================>]   1.18M  --.-KB/s    in 0.01s   \n",
            "\n",
            "2024-03-14 08:01:05 (115 MB/s) - ‘data/10q/uber_10q_june_2022.pdf’ saved [1238483/1238483]\n",
            "\n",
            "--2024-03-14 08:01:05--  https://raw.githubusercontent.com/run-llama/llama_index/main/docs/examples/data/10q/uber_10q_sept_2022.pdf\n",
            "Resolving raw.githubusercontent.com (raw.githubusercontent.com)... 185.199.108.133, 185.199.109.133, 185.199.110.133, ...\n",
            "Connecting to raw.githubusercontent.com (raw.githubusercontent.com)|185.199.108.133|:443... connected.\n",
            "HTTP request sent, awaiting response... 200 OK\n",
            "Length: 1178622 (1.1M) [application/octet-stream]\n",
            "Saving to: ‘data/10q/uber_10q_sept_2022.pdf’\n",
            "\n",
            "data/10q/uber_10q_s 100%[===================>]   1.12M  --.-KB/s    in 0.01s   \n",
            "\n",
            "2024-03-14 08:01:06 (104 MB/s) - ‘data/10q/uber_10q_sept_2022.pdf’ saved [1178622/1178622]\n",
            "\n"
          ]
        }
      ],
      "source": [
        "!mkdir -p 'data/10q/'\n",
        "!wget 'https://raw.githubusercontent.com/run-llama/llama_index/main/docs/examples/data/10q/uber_10q_march_2022.pdf' -O 'data/10q/uber_10q_march_2022.pdf'\n",
        "!wget 'https://raw.githubusercontent.com/run-llama/llama_index/main/docs/examples/data/10q/uber_10q_june_2022.pdf' -O 'data/10q/uber_10q_june_2022.pdf'\n",
        "!wget 'https://raw.githubusercontent.com/run-llama/llama_index/main/docs/examples/data/10q/uber_10q_sept_2022.pdf' -O 'data/10q/uber_10q_sept_2022.pdf'"
      ]
    },
    {
      "cell_type": "code",
      "execution_count": 7,
      "id": "2a90e4d4-589b-4349-a134-a2ef931d8e89",
      "metadata": {
        "id": "2a90e4d4-589b-4349-a134-a2ef931d8e89"
      },
      "outputs": [],
      "source": [
        "# build indexes across the three data sources\n",
        "\n",
        "if not index_loaded:\n",
        "    # load data\n",
        "    march_docs = SimpleDirectoryReader(\n",
        "        input_files=[\"./data/10q/uber_10q_march_2022.pdf\"]\n",
        "    ).load_data()\n",
        "    june_docs = SimpleDirectoryReader(\n",
        "        input_files=[\"./data/10q/uber_10q_june_2022.pdf\"]\n",
        "    ).load_data()\n",
        "    sept_docs = SimpleDirectoryReader(\n",
        "        input_files=[\"./data/10q/uber_10q_sept_2022.pdf\"]\n",
        "    ).load_data()\n",
        "\n",
        "    # build index\n",
        "    march_index = VectorStoreIndex.from_documents(march_docs)\n",
        "    june_index = VectorStoreIndex.from_documents(june_docs)\n",
        "    sept_index = VectorStoreIndex.from_documents(sept_docs)\n",
        "\n",
        "    # persist index\n",
        "    march_index.storage_context.persist(persist_dir=\"./storage/march\")\n",
        "    june_index.storage_context.persist(persist_dir=\"./storage/june\")\n",
        "    sept_index.storage_context.persist(persist_dir=\"./storage/sept\")"
      ]
    },
    {
      "cell_type": "code",
      "execution_count": 8,
      "id": "00f82f26-83a6-4a37-8a9f-55bf49d8b247",
      "metadata": {
        "id": "00f82f26-83a6-4a37-8a9f-55bf49d8b247"
      },
      "outputs": [],
      "source": [
        "march_engine = march_index.as_query_engine(similarity_top_k=3)\n",
        "june_engine = june_index.as_query_engine(similarity_top_k=3)\n",
        "sept_engine = sept_index.as_query_engine(similarity_top_k=3)"
      ]
    },
    {
      "cell_type": "code",
      "execution_count": 9,
      "id": "1edb4379-75b8-4b83-8a2d-16170fa6cb67",
      "metadata": {
        "id": "1edb4379-75b8-4b83-8a2d-16170fa6cb67"
      },
      "outputs": [],
      "source": [
        "query_engine_tools = [\n",
        "    QueryEngineTool(\n",
        "        query_engine=march_engine,\n",
        "        metadata=ToolMetadata(\n",
        "            name=\"uber_march_10q\",\n",
        "            description=(\n",
        "                \"Provides information about Uber 10Q filings for March 2022. \"\n",
        "                \"Use a detailed plain text question as input to the tool.\"\n",
        "            ),\n",
        "        ),\n",
        "    ),\n",
        "    QueryEngineTool(\n",
        "        query_engine=june_engine,\n",
        "        metadata=ToolMetadata(\n",
        "            name=\"uber_june_10q\",\n",
        "            description=(\n",
        "                \"Provides information about Uber financials for June 2021. \"\n",
        "                \"Use a detailed plain text question as input to the tool.\"\n",
        "            ),\n",
        "        ),\n",
        "    ),\n",
        "    QueryEngineTool(\n",
        "        query_engine=sept_engine,\n",
        "        metadata=ToolMetadata(\n",
        "            name=\"uber_sept_10q\",\n",
        "            description=(\n",
        "                \"Provides information about Uber financials for Sept 2021. \"\n",
        "                \"Use a detailed plain text question as input to the tool.\"\n",
        "            ),\n",
        "        ),\n",
        "    ),\n",
        "]"
      ]
    },
    {
      "cell_type": "markdown",
      "id": "b08efb96-ce44-4706-a22d-b0c670b23a60",
      "metadata": {
        "id": "b08efb96-ce44-4706-a22d-b0c670b23a60"
      },
      "source": [
        "### Try Context-Augmented Agent\n",
        "\n",
        "Here we augment our agent with context in different settings:\n",
        "- toy context: we define some abbreviations that map to financial terms (e.g. R=Revenue). We supply this as context to the agent"
      ]
    },
    {
      "cell_type": "code",
      "execution_count": 10,
      "id": "72709da5-785e-4b9d-9e8f-231a2d2fbb53",
      "metadata": {
        "id": "72709da5-785e-4b9d-9e8f-231a2d2fbb53"
      },
      "outputs": [],
      "source": [
        "from llama_index.core import Document\n",
        "from llama_index.agent.openai_legacy import ContextRetrieverOpenAIAgent"
      ]
    },
    {
      "cell_type": "code",
      "execution_count": 11,
      "id": "d2b235ed-d2a0-46cb-830b-d1a3affeb0c2",
      "metadata": {
        "id": "d2b235ed-d2a0-46cb-830b-d1a3affeb0c2"
      },
      "outputs": [],
      "source": [
        "# toy index - stores a list of abbreviations\n",
        "texts = [\n",
        "    \"Abbreviation: X = Revenue\",\n",
        "    \"Abbreviation: YZ = Risk Factors\",\n",
        "    \"Abbreviation: Z = Costs\",\n",
        "]\n",
        "docs = [Document(text=t) for t in texts]\n",
        "context_index = VectorStoreIndex.from_documents(docs)"
      ]
    },
    {
      "cell_type": "code",
      "execution_count": 12,
      "id": "7b58bac2-dbc2-40b2-a29e-f96c02ef5396",
      "metadata": {
        "id": "7b58bac2-dbc2-40b2-a29e-f96c02ef5396"
      },
      "outputs": [],
      "source": [
        "context_agent = ContextRetrieverOpenAIAgent.from_tools_and_retriever(\n",
        "    query_engine_tools,\n",
        "    context_index.as_retriever(similarity_top_k=1),\n",
        "    verbose=True,\n",
        ")"
      ]
    },
    {
      "cell_type": "code",
      "execution_count": 13,
      "id": "b44e9819-69a5-4085-9957-27d8eb940d24",
      "metadata": {
        "id": "b44e9819-69a5-4085-9957-27d8eb940d24",
        "outputId": "4144b1bc-7bd3-4c7e-d3f0-a96ffb647da9",
        "colab": {
          "base_uri": "https://localhost:8080/"
        }
      },
      "outputs": [
        {
          "output_type": "stream",
          "name": "stdout",
          "text": [
            "\u001b[1;3;33mContext information is below.\n",
            "---------------------\n",
            "Abbreviation: YZ = Risk Factors\n",
            "---------------------\n",
            "Given the context information and not prior knowledge, either pick the corresponding tool or answer the function: What is the YZ of March 2022?\n",
            "\n",
            "\u001b[0mSTARTING TURN 1\n",
            "---------------\n",
            "\n",
            "=== Calling Function ===\n",
            "Calling function: uber_march_10q with args: {\"input\":\"What is the YZ of March 2022?\"}\n",
            "Got output: The YZ of March 2022 is 17%.\n",
            "========================\n",
            "\n",
            "STARTING TURN 2\n",
            "---------------\n",
            "\n"
          ]
        }
      ],
      "source": [
        "response = context_agent.chat(\"What is the YZ of March 2022?\")"
      ]
    },
    {
      "cell_type": "code",
      "execution_count": 14,
      "id": "9969fceb-d9b2-491f-92f2-d5e0fe5a8ed2",
      "metadata": {
        "id": "9969fceb-d9b2-491f-92f2-d5e0fe5a8ed2",
        "outputId": "374461e2-bb3f-40c3-9058-9a940322421b",
        "colab": {
          "base_uri": "https://localhost:8080/"
        }
      },
      "outputs": [
        {
          "output_type": "stream",
          "name": "stdout",
          "text": [
            "The YZ (Risk Factors) of March 2022 for Uber is 17%.\n"
          ]
        }
      ],
      "source": [
        "print(str(response))"
      ]
    },
    {
      "cell_type": "code",
      "execution_count": 15,
      "id": "c407dd42-39a3-4bda-8294-27ac043a5adb",
      "metadata": {
        "id": "c407dd42-39a3-4bda-8294-27ac043a5adb",
        "outputId": "3f5a36a8-0615-4a75-9260-ac2712dc378d",
        "colab": {
          "base_uri": "https://localhost:8080/"
        }
      },
      "outputs": [
        {
          "output_type": "stream",
          "name": "stdout",
          "text": [
            "\u001b[1;3;33mContext information is below.\n",
            "---------------------\n",
            "Abbreviation: Z = Costs\n",
            "---------------------\n",
            "Given the context information and not prior knowledge, either pick the corresponding tool or answer the function: What is the X and Z in September 2022?\n",
            "\n",
            "\u001b[0mSTARTING TURN 1\n",
            "---------------\n",
            "\n",
            "=== Calling Function ===\n",
            "Calling function: uber_sept_10q with args: {\"input\": \"What is the X in September 2022?\"}\n",
            "Got output: $13 million\n",
            "========================\n",
            "\n",
            "=== Calling Function ===\n",
            "Calling function: uber_sept_10q with args: {\"input\": \"What is the Z in September 2022?\"}\n",
            "Got output: $550 million\n",
            "========================\n",
            "\n",
            "=== Calling Function ===\n",
            "Calling function: uber_sept_10q with args: {\"input\": \"What is the Z in September 2022?\"}\n",
            "Got output: $550 million\n",
            "========================\n",
            "\n",
            "STARTING TURN 2\n",
            "---------------\n",
            "\n"
          ]
        },
        {
          "output_type": "execute_result",
          "data": {
            "text/plain": [
              "AgentChatResponse(response='In September 2022, the X value for Uber was $13 million, and the Z value (Costs) was $550 million.', sources=[ToolOutput(content='$13 million', tool_name='uber_sept_10q', raw_input={'input': 'What is the X in September 2022?'}, raw_output=Response(response='$13 million', source_nodes=[NodeWithScore(node=TextNode(id_='96aa69d3-49f6-4c40-9ff0-a4f8d2a01892', embedding=None, metadata={'page_label': '14', 'file_name': 'uber_10q_sept_2022.pdf', 'file_path': 'data/10q/uber_10q_sept_2022.pdf', 'file_type': 'application/pdf', 'file_size': 1178622, 'creation_date': '2024-03-14', 'last_modified_date': '2024-03-14'}, excluded_embed_metadata_keys=['file_name', 'file_type', 'file_size', 'creation_date', 'last_modified_date', 'last_accessed_date'], excluded_llm_metadata_keys=['file_name', 'file_type', 'file_size', 'creation_date', 'last_modified_date', 'last_accessed_date'], relationships={<NodeRelationship.SOURCE: '1'>: RelatedNodeInfo(node_id='83634784-b273-4ce2-9e01-aa460e1848a1', node_type=<ObjectType.DOCUMENT: '4'>, metadata={'page_label': '14', 'file_name': 'uber_10q_sept_2022.pdf', 'file_path': 'data/10q/uber_10q_sept_2022.pdf', 'file_type': 'application/pdf', 'file_size': 1178622, 'creation_date': '2024-03-14', 'last_modified_date': '2024-03-14'}, hash='71ec5831e076febb4b74695ec6c49d9146e82ebbb7961f2672fbdfe59ac21c29'), <NodeRelationship.PREVIOUS: '2'>: RelatedNodeInfo(node_id='d75c968e-6bcd-4ba8-b7c8-2d476871745d', node_type=<ObjectType.TEXT: '1'>, metadata={'page_label': '13', 'file_name': 'uber_10q_sept_2022.pdf', 'file_path': 'data/10q/uber_10q_sept_2022.pdf', 'file_type': 'application/pdf', 'file_size': 1178622, 'creation_date': '2024-03-14', 'last_modified_date': '2024-03-14'}, hash='b4e48ea489353df656c4553d279410b202e085a635c7b89bd73be5c52fb8b3c8'), <NodeRelationship.NEXT: '3'>: RelatedNodeInfo(node_id='bc2efec6-6ce3-4e3c-90ba-90e73626d09c', node_type=<ObjectType.TEXT: '1'>, metadata={}, hash='269419bab9d5eedfb547f03d976667039ce06d4f0abea22deeffe6aec16118c5')}, text='States; the administration, adoption and efficacy of vaccines globally; the impact on capital, foreign currencies exchange and financial markets; governmental or\\nregulatory orders that impact our business; and whether the impacts may result in permanent changes to our end-users’ behavior, all of which are highly uncertain\\nand cannot be predicted.\\nRecently Adopted Accounting Pronouncements\\nIn November 2021, the FASB issued ASU 2021-10, “Government Assistance (Topic 832): Disclosures by Business Entities about Government Assistance,”\\nwhich requires disclosures about transactions with a government that are accounted for by applying a grant or contribution accounting model by analogy. The\\nstandard is effective for public companies for fiscal years beginning after December 15, 2021. Early adoption is permitted. We adopted the ASU prospectively on\\nJanuary 1, 2022. The additional required annual disclosures are not expected to have a material impact on our consolidated financial statements.\\nRecently Issued Accounting Pronouncements Not Yet Adopted\\nIn October 2021, the FASB issued ASU 2021-08, “Business Combinations (Topic 805): Accounting for Contract Assets and Contract Liabilities from Contracts\\nwith Customers,” which requires entities to apply Topic 606 to recognize and measure contract assets and contract liabilities in a business combination as if the\\nacquiring entity had originated the contracts. The standard is effective for public companies for fiscal years, and interim periods within those fiscal years, beginning\\nafter December 15, 2022. Early adoption is permitted. We are currently evaluating the impact of this accounting standard update on our consolidated financial\\nstatements.\\nIn June 2022, the FASB issued ASU 2022-03, “Fair Value Measurement (Topic 820): Fair Value Measurement of Equity Securities Subject to Contractual Sale\\nRestrictions,” which clarifies that contractual sale restrictions are not considered in measuring fair value of equity securities and requires additional disclosures for\\nequity securities subject to contractual sale restrictions. The standard is effective for public companies for fiscal years beginning after December 15, 2023. Early\\nadoption is permitted. This accounting standard update is not expected to have a material impact on our consolidated financial statements as the amendments align\\nwith our existing policy.\\nIn September 2022, the FASB issued ASU 2022-04, “Liabilities—Supplier Finance Programs (Subtopic 405-50): Disclosure of Supplier Finance Program\\nObligations,” which requires entities that use supplier finance programs in connection with the purchase of goods and services to disclose sufficient information\\nabout the program. The amendments do not affect the recognition, measurement or financial statement presentation of obligations covered by supplier finance\\nprograms. The standard is effective for public companies for fiscal years, and interim periods within those fiscal years, beginning after December 15, 2022, except\\nfor the amendment on roll-forward information, which is effective for fiscal years beginning after December 15, 2023. Early adoption is permitted. We are\\ncurrently evaluating the impact of this accounting standard update on our consolidated financial statements.\\nNote 2 – Revenue\\nThe following tables present our revenues disaggregated by offering and geographical region. Revenue by geographical region is based on where the\\ntransaction occurred. This level of disaggregation takes into consideration how the nature, amount, timing, and uncertainty of revenue and cash flows are affected\\nby economic factors (in millions):\\nThree Months Ended September 30, Nine Months Ended September 30,\\n2021 2022 2021 2022\\nMobility revenue $ 2,205 $ 3,822 $ 4,676 $ 9,893 \\nDelivery revenue 2,238 2,770 5,942 7,970 \\nFreight revenue 402 1,751 1,051 5,407 \\nAll Other revenue — — 8 — \\nTotal revenue $ 4,845 $ 8,343 $ 11,677 $ 23,270 \\nWe offer subscription memberships to end-users including Uber One, Uber Pass, Rides Pass, and Eats Pass (“Subscription”). We recognize Subscription fees\\nratably over the life of the pass. We allocate Subscription fees earned to Mobility and Delivery revenue on a proportional basis, based on usage for each offering\\nduring the respective period.', start_char_idx=0, end_char_idx=4274, text_template='{metadata_str}\\n\\n{content}', metadata_template='{key}: {value}', metadata_seperator='\\n'), score=0.7647527182907055), NodeWithScore(node=TextNode(id_='6ea809f1-0301-49cb-af11-9c4d3881bca0', embedding=None, metadata={'page_label': '42', 'file_name': 'uber_10q_sept_2022.pdf', 'file_path': 'data/10q/uber_10q_sept_2022.pdf', 'file_type': 'application/pdf', 'file_size': 1178622, 'creation_date': '2024-03-14', 'last_modified_date': '2024-03-14'}, excluded_embed_metadata_keys=['file_name', 'file_type', 'file_size', 'creation_date', 'last_modified_date', 'last_accessed_date'], excluded_llm_metadata_keys=['file_name', 'file_type', 'file_size', 'creation_date', 'last_modified_date', 'last_accessed_date'], relationships={<NodeRelationship.SOURCE: '1'>: RelatedNodeInfo(node_id='f49df15d-ea7b-4885-ac74-f741e9cb47a6', node_type=<ObjectType.DOCUMENT: '4'>, metadata={'page_label': '42', 'file_name': 'uber_10q_sept_2022.pdf', 'file_path': 'data/10q/uber_10q_sept_2022.pdf', 'file_type': 'application/pdf', 'file_size': 1178622, 'creation_date': '2024-03-14', 'last_modified_date': '2024-03-14'}, hash='8c63b6eabdd8e095caab42263394f6819b44ffeffee2dfecb0c1ae2bb0ae62b2'), <NodeRelationship.PREVIOUS: '2'>: RelatedNodeInfo(node_id='c9fe6597-e1ba-4a5e-8634-be84ae40bc1e', node_type=<ObjectType.TEXT: '1'>, metadata={'page_label': '41', 'file_name': 'uber_10q_sept_2022.pdf', 'file_path': 'data/10q/uber_10q_sept_2022.pdf', 'file_type': 'application/pdf', 'file_size': 1178622, 'creation_date': '2024-03-14', 'last_modified_date': '2024-03-14'}, hash='9360a496011f0301a144ff08eca1c08cda3323f51aea371b21bda9249fd0acce'), <NodeRelationship.NEXT: '3'>: RelatedNodeInfo(node_id='87f326d9-c336-4cd2-b76d-622c09c96492', node_type=<ObjectType.TEXT: '1'>, metadata={}, hash='b82e12b06c00fa85b960a2fb21cc734222ec758e0918d640fcf2658d2da2f0c1')}, text='Three Months Ended September 30, Nine Months Ended September 30,\\n2021 2022 2021 2022\\nRevenue 100 % 100 % 100 % 100 %\\nCosts and expenses\\nCost of revenue, exclusive of depreciation and amortization shown separately\\nbelow 50 % 62 % 53 % 62 %\\nOperations and support 10 % 7 % 11 % 8 %\\nSales and marketing 24 % 14 % 30 % 16 %\\nResearch and development 10 % 9 % 13 % 9 %\\nGeneral and administrative 13 % 11 % 15 % 10 %\\nDepreciation and amortization 4 % 3 % 6 % 3 %\\nTotal costs and expenses 112 % 106 % 128 % 107 %\\nLoss from operations (12)% (6)% (28)% (7)%\\nInterest expense (3)% (2)% (3)% (2)%\\nOther income (expense), net (38)% (6)% 16 % (34)%\\nLoss before income taxes and income (loss) from equity method\\ninvestments (52)% (14)% (16)% (43)%\\nProvision for (benefit from) income taxes (2)% 1 % (3)% — %\\nIncome (loss) from equity method investments — % — % — % — %\\nNet loss including non-controlling interests (50)% (14)% (12)% (42)%\\nLess: net income (loss) attributable to non-controlling interests,\\nnet of tax — % — % (1)% — %\\nNet loss attributable to Uber Technologies, Inc. (50)% (14)% (12)% (42)%\\n Totals of percentage of revenues may not foot due to rounding.\\nThe following discussion and analysis is for the three and nine months ended September 30, 2022 compared to same period in 2021.\\nRevenue\\nThree Months Ended September 30, Nine Months Ended September 30,\\n(In millions, except per centages) 2021 2022 % Change 2021 2022 % Change\\nRevenue $ 4,845 $ 8,343 72 %$ 11,677 $ 23,270 99 %\\nThree Months Ended September 30, 2022 Compared with the Same Period in 2021\\nRevenue increased $3.5 billion, or 72%, primarily attributable to an increase in Gross Bookings of 26%, or 32% on a constant currency basis. The increase in\\nGross Bookings was primarily driven by increases in Mobility Trip volumes as the business recovers from the impacts of COVID-19 and a $1.3 billion increase in\\nFreight Gross Bookings resulting primarily from the acquisition of Transplace in the fourth quarter of 2021. Additionally, during the third quarter of 2022, we saw a\\n$1.1 billion increase in Mobility revenue as a result of business model changes in the UK. We also saw a $164 million increase in Delivery revenue resulting from\\nan increase in certain Courier payments and incentives that are recorded in cost of revenue, exclusive of depreciation and amortization, for certain markets where\\nwe are primarily responsible for Delivery services and pay Couriers for services provided.\\nNine Months Ended September 30, 2022 Compared with the Same Period in 2021\\nRevenue increased $11.6 billion, or 99%, primarily attributable to an increase in Gross Bookings of 31%, or 36% on a constant currency basis. The increase in\\nGross Bookings was primarily driven by increases in Mobility Trip volumes as the business recovers from the impacts of COVID-19 and a $4.4 billion increase in\\nFreight Gross Bookings resulting primarily from the acquisition of Transplace in the fourth quarter of 2021. Additionally, during the first nine months of 2022, we\\nsaw a $2.2 billion net increase in Mobility revenue as a result of business model changes in the UK and an accrual made for the resolution of historical claims in\\nthe UK relating to the classification of drivers. We also saw a $751 million increase in Delivery revenue resulting from an increase in certain Courier payments and\\nincentives that are recorded in cost of revenue, exclusive of depreciation and amortization, for certain markets where we are primarily responsible for Delivery\\nservices and pay Couriers for services provided.(1)\\n41', start_char_idx=0, end_char_idx=3554, text_template='{metadata_str}\\n\\n{content}', metadata_template='{key}: {value}', metadata_seperator='\\n'), score=0.7596752817466292), NodeWithScore(node=TextNode(id_='e8e9885b-9eca-4a41-b5f6-6db27433792c', embedding=None, metadata={'page_label': '19', 'file_name': 'uber_10q_sept_2022.pdf', 'file_path': 'data/10q/uber_10q_sept_2022.pdf', 'file_type': 'application/pdf', 'file_size': 1178622, 'creation_date': '2024-03-14', 'last_modified_date': '2024-03-14'}, excluded_embed_metadata_keys=['file_name', 'file_type', 'file_size', 'creation_date', 'last_modified_date', 'last_accessed_date'], excluded_llm_metadata_keys=['file_name', 'file_type', 'file_size', 'creation_date', 'last_modified_date', 'last_accessed_date'], relationships={<NodeRelationship.SOURCE: '1'>: RelatedNodeInfo(node_id='9fbb5b4e-6334-4725-a37e-69d25c741cea', node_type=<ObjectType.DOCUMENT: '4'>, metadata={'page_label': '19', 'file_name': 'uber_10q_sept_2022.pdf', 'file_path': 'data/10q/uber_10q_sept_2022.pdf', 'file_type': 'application/pdf', 'file_size': 1178622, 'creation_date': '2024-03-14', 'last_modified_date': '2024-03-14'}, hash='a38a901c554377e3f6218f36b366a44ad3fa12bfa06644acbc1813640f2c71a5'), <NodeRelationship.PREVIOUS: '2'>: RelatedNodeInfo(node_id='ce5e29aa-d711-4161-88c1-0421ca7e2f69', node_type=<ObjectType.TEXT: '1'>, metadata={'page_label': '18', 'file_name': 'uber_10q_sept_2022.pdf', 'file_path': 'data/10q/uber_10q_sept_2022.pdf', 'file_type': 'application/pdf', 'file_size': 1178622, 'creation_date': '2024-03-14', 'last_modified_date': '2024-03-14'}, hash='9b5f11bfd9dc1b1b3af6e62ff380c8a37bb098dd55cf89a04d7e9481d6e6cc56'), <NodeRelationship.NEXT: '3'>: RelatedNodeInfo(node_id='b6899be5-0aba-493c-834b-7046f0fb5701', node_type=<ObjectType.TEXT: '1'>, metadata={}, hash='2183f780f952357fc530106289d86ca0faab4902927f30afaff3336d44bc2227')}, text='The functional currency of the investee depreciated against the U.S. dollar by approximately 8% between June 30, 2022 and September 30, 2022. The\\nmovement in exchange rates will be reflected in the carrying value of the investment with a corresponding adjustment to other comprehensive income (loss) in our\\nconsolidated financial statements at December 31, 2022.\\nThe table below provides the composition of the basis difference (in millions):\\nAs of September 30, 2022\\nEquity method goodwill $ 320 \\nIntangible assets, net of accumulated amortization 37 \\nDeferred tax liabilities (10)\\nCumulative currency translation adjustments 40 \\nBasis difference $ 387 \\nWe amortize the basis difference related to the intangible assets over the estimated useful lives of the assets that gave rise to the difference using the straight-\\nline method. The weighted-average life of the intangible assets is approximately 3.0 years as of September 30, 2022. Equity method goodwill is not amortized.\\nMLU B.V. Call Option\\nOn August 30, 2021, we granted Yandex an option (“MLU B.V. Call Option”) to acquire our remaining equity interest in MLU B.V. during a two-year period\\nas part of the agreement with Yandex to restructure our joint ventures in 2021. The MLU B.V. Call Option is recorded as a liability in accrued and other current\\nliabilities on our condensed consolidated balance sheets and measured at fair value on a recurring basis with changes in fair value recorded in other income\\n(expense), net in the condensed consolidated statements of operations. As of September 30, 2022, the exercise price of the MLU B.V. Call Option is approximately\\n$1.9 billion, subject to certain adjustments based on the timing of the option exercise.\\nAs of December 31, 2021, the fair value of the MLU B.V. Call Option was $193 million. To determine the fair value of the MLU B.V. Call Option as of\\nDecember 31, 2021, we used a lattice model which simulated multiple scenarios of the exercise behaviors and the corresponding strike prices over the term of the\\ncall option. Key inputs to the lattice model were: the underlying business value; option term of 1.7 years; volatility of 50%; risk-free interest rates; and strike price\\n(Level 3).\\nAs of September 30, 2022, the fair value of the MLU B.V. Call Option was $13 million. We recorded a $180 million net gain for the fair value change during\\nthe nine months ended September 30, 2022. To determine the fair value of the MLU B.V. Call Option as of September 30, 2022, we used a lattice model which\\nsimulated multiple scenarios of the exercise behaviors and the corresponding strike prices over the term of the call option. Key inputs to the lattice model were: the\\nunderlying business value; option term of 0.94 years; volatility of 65%; risk-free interest rates; and strike price (Level 3).\\nNote 5 – Goodwill and Intangible Assets\\nGoodwill\\nThe following table presents the changes in the carrying value of goodwill by reportable segment for the nine months ended September 30, 2022 (in millions):\\nMobility Delivery Freight Total Goodwill\\nBalance as of December 31, 2021 $ 2,581 $ 4,401 $ 1,438 $ 8,420 \\nAcquisitions 64 — — 64 \\nMeasurement period adjustment — — 1 1 \\nDivestiture (16) — — (16)\\nForeign currency translation adjustment (167) (2) — (169)\\nBalance as of September 30, 2022 $ 2,462 $ 4,399 $ 1,439 $ 8,300 \\n18', start_char_idx=0, end_char_idx=3338, text_template='{metadata_str}\\n\\n{content}', metadata_template='{key}: {value}', metadata_seperator='\\n'), score=0.7560807305654875)], metadata={'96aa69d3-49f6-4c40-9ff0-a4f8d2a01892': {'page_label': '14', 'file_name': 'uber_10q_sept_2022.pdf', 'file_path': 'data/10q/uber_10q_sept_2022.pdf', 'file_type': 'application/pdf', 'file_size': 1178622, 'creation_date': '2024-03-14', 'last_modified_date': '2024-03-14'}, '6ea809f1-0301-49cb-af11-9c4d3881bca0': {'page_label': '42', 'file_name': 'uber_10q_sept_2022.pdf', 'file_path': 'data/10q/uber_10q_sept_2022.pdf', 'file_type': 'application/pdf', 'file_size': 1178622, 'creation_date': '2024-03-14', 'last_modified_date': '2024-03-14'}, 'e8e9885b-9eca-4a41-b5f6-6db27433792c': {'page_label': '19', 'file_name': 'uber_10q_sept_2022.pdf', 'file_path': 'data/10q/uber_10q_sept_2022.pdf', 'file_type': 'application/pdf', 'file_size': 1178622, 'creation_date': '2024-03-14', 'last_modified_date': '2024-03-14'}})), ToolOutput(content='$550 million', tool_name='uber_sept_10q', raw_input={'input': 'What is the Z in September 2022?'}, raw_output=Response(response='$550 million', source_nodes=[NodeWithScore(node=TextNode(id_='96aa69d3-49f6-4c40-9ff0-a4f8d2a01892', embedding=None, metadata={'page_label': '14', 'file_name': 'uber_10q_sept_2022.pdf', 'file_path': 'data/10q/uber_10q_sept_2022.pdf', 'file_type': 'application/pdf', 'file_size': 1178622, 'creation_date': '2024-03-14', 'last_modified_date': '2024-03-14'}, excluded_embed_metadata_keys=['file_name', 'file_type', 'file_size', 'creation_date', 'last_modified_date', 'last_accessed_date'], excluded_llm_metadata_keys=['file_name', 'file_type', 'file_size', 'creation_date', 'last_modified_date', 'last_accessed_date'], relationships={<NodeRelationship.SOURCE: '1'>: RelatedNodeInfo(node_id='83634784-b273-4ce2-9e01-aa460e1848a1', node_type=<ObjectType.DOCUMENT: '4'>, metadata={'page_label': '14', 'file_name': 'uber_10q_sept_2022.pdf', 'file_path': 'data/10q/uber_10q_sept_2022.pdf', 'file_type': 'application/pdf', 'file_size': 1178622, 'creation_date': '2024-03-14', 'last_modified_date': '2024-03-14'}, hash='71ec5831e076febb4b74695ec6c49d9146e82ebbb7961f2672fbdfe59ac21c29'), <NodeRelationship.PREVIOUS: '2'>: RelatedNodeInfo(node_id='d75c968e-6bcd-4ba8-b7c8-2d476871745d', node_type=<ObjectType.TEXT: '1'>, metadata={'page_label': '13', 'file_name': 'uber_10q_sept_2022.pdf', 'file_path': 'data/10q/uber_10q_sept_2022.pdf', 'file_type': 'application/pdf', 'file_size': 1178622, 'creation_date': '2024-03-14', 'last_modified_date': '2024-03-14'}, hash='b4e48ea489353df656c4553d279410b202e085a635c7b89bd73be5c52fb8b3c8'), <NodeRelationship.NEXT: '3'>: RelatedNodeInfo(node_id='bc2efec6-6ce3-4e3c-90ba-90e73626d09c', node_type=<ObjectType.TEXT: '1'>, metadata={}, hash='269419bab9d5eedfb547f03d976667039ce06d4f0abea22deeffe6aec16118c5')}, text='States; the administration, adoption and efficacy of vaccines globally; the impact on capital, foreign currencies exchange and financial markets; governmental or\\nregulatory orders that impact our business; and whether the impacts may result in permanent changes to our end-users’ behavior, all of which are highly uncertain\\nand cannot be predicted.\\nRecently Adopted Accounting Pronouncements\\nIn November 2021, the FASB issued ASU 2021-10, “Government Assistance (Topic 832): Disclosures by Business Entities about Government Assistance,”\\nwhich requires disclosures about transactions with a government that are accounted for by applying a grant or contribution accounting model by analogy. The\\nstandard is effective for public companies for fiscal years beginning after December 15, 2021. Early adoption is permitted. We adopted the ASU prospectively on\\nJanuary 1, 2022. The additional required annual disclosures are not expected to have a material impact on our consolidated financial statements.\\nRecently Issued Accounting Pronouncements Not Yet Adopted\\nIn October 2021, the FASB issued ASU 2021-08, “Business Combinations (Topic 805): Accounting for Contract Assets and Contract Liabilities from Contracts\\nwith Customers,” which requires entities to apply Topic 606 to recognize and measure contract assets and contract liabilities in a business combination as if the\\nacquiring entity had originated the contracts. The standard is effective for public companies for fiscal years, and interim periods within those fiscal years, beginning\\nafter December 15, 2022. Early adoption is permitted. We are currently evaluating the impact of this accounting standard update on our consolidated financial\\nstatements.\\nIn June 2022, the FASB issued ASU 2022-03, “Fair Value Measurement (Topic 820): Fair Value Measurement of Equity Securities Subject to Contractual Sale\\nRestrictions,” which clarifies that contractual sale restrictions are not considered in measuring fair value of equity securities and requires additional disclosures for\\nequity securities subject to contractual sale restrictions. The standard is effective for public companies for fiscal years beginning after December 15, 2023. Early\\nadoption is permitted. This accounting standard update is not expected to have a material impact on our consolidated financial statements as the amendments align\\nwith our existing policy.\\nIn September 2022, the FASB issued ASU 2022-04, “Liabilities—Supplier Finance Programs (Subtopic 405-50): Disclosure of Supplier Finance Program\\nObligations,” which requires entities that use supplier finance programs in connection with the purchase of goods and services to disclose sufficient information\\nabout the program. The amendments do not affect the recognition, measurement or financial statement presentation of obligations covered by supplier finance\\nprograms. The standard is effective for public companies for fiscal years, and interim periods within those fiscal years, beginning after December 15, 2022, except\\nfor the amendment on roll-forward information, which is effective for fiscal years beginning after December 15, 2023. Early adoption is permitted. We are\\ncurrently evaluating the impact of this accounting standard update on our consolidated financial statements.\\nNote 2 – Revenue\\nThe following tables present our revenues disaggregated by offering and geographical region. Revenue by geographical region is based on where the\\ntransaction occurred. This level of disaggregation takes into consideration how the nature, amount, timing, and uncertainty of revenue and cash flows are affected\\nby economic factors (in millions):\\nThree Months Ended September 30, Nine Months Ended September 30,\\n2021 2022 2021 2022\\nMobility revenue $ 2,205 $ 3,822 $ 4,676 $ 9,893 \\nDelivery revenue 2,238 2,770 5,942 7,970 \\nFreight revenue 402 1,751 1,051 5,407 \\nAll Other revenue — — 8 — \\nTotal revenue $ 4,845 $ 8,343 $ 11,677 $ 23,270 \\nWe offer subscription memberships to end-users including Uber One, Uber Pass, Rides Pass, and Eats Pass (“Subscription”). We recognize Subscription fees\\nratably over the life of the pass. We allocate Subscription fees earned to Mobility and Delivery revenue on a proportional basis, based on usage for each offering\\nduring the respective period.', start_char_idx=0, end_char_idx=4274, text_template='{metadata_str}\\n\\n{content}', metadata_template='{key}: {value}', metadata_seperator='\\n'), score=0.7677614735930945), NodeWithScore(node=TextNode(id_='b747a2fc-beb7-4276-997d-bcf235131a1f', embedding=None, metadata={'page_label': '45', 'file_name': 'uber_10q_sept_2022.pdf', 'file_path': 'data/10q/uber_10q_sept_2022.pdf', 'file_type': 'application/pdf', 'file_size': 1178622, 'creation_date': '2024-03-14', 'last_modified_date': '2024-03-14'}, excluded_embed_metadata_keys=['file_name', 'file_type', 'file_size', 'creation_date', 'last_modified_date', 'last_accessed_date'], excluded_llm_metadata_keys=['file_name', 'file_type', 'file_size', 'creation_date', 'last_modified_date', 'last_accessed_date'], relationships={<NodeRelationship.SOURCE: '1'>: RelatedNodeInfo(node_id='1820dbc9-43b1-430e-9fc1-55b17ea993e7', node_type=<ObjectType.DOCUMENT: '4'>, metadata={'page_label': '45', 'file_name': 'uber_10q_sept_2022.pdf', 'file_path': 'data/10q/uber_10q_sept_2022.pdf', 'file_type': 'application/pdf', 'file_size': 1178622, 'creation_date': '2024-03-14', 'last_modified_date': '2024-03-14'}, hash='bf6962512aa38cacb11143f29194155d77246872c61d8b7ac53b3d522ac55c1c'), <NodeRelationship.PREVIOUS: '2'>: RelatedNodeInfo(node_id='b8031666-4242-42c5-afb1-f3fe0438fce3', node_type=<ObjectType.TEXT: '1'>, metadata={'page_label': '44', 'file_name': 'uber_10q_sept_2022.pdf', 'file_path': 'data/10q/uber_10q_sept_2022.pdf', 'file_type': 'application/pdf', 'file_size': 1178622, 'creation_date': '2024-03-14', 'last_modified_date': '2024-03-14'}, hash='f974c535428a00b8e633696d165dc5043f71627d44b96a1015fb8f089f1ccdbb'), <NodeRelationship.NEXT: '3'>: RelatedNodeInfo(node_id='8869514e-8c78-454a-8240-99fd3cab55aa', node_type=<ObjectType.TEXT: '1'>, metadata={}, hash='4c775d5a0dc95f5b0ced413953d4947e87c981946ddff084fe70e7bdd9b922e0')}, text='Interest Expense\\nThree Months Ended September 30, Nine Months Ended September 30,\\n(In millions, except per centages) 2021 2022 % Change 2021 2022 % Change\\nInterest expense $ (123) $ (146) 19 %$ (353) $ (414) 17 %\\nPercentage of revenue (3)% (2)% (3)% (2)%\\nThree Months Ended September 30, 2022 Compared with the Same Period in 2021\\nInterest expense increased $23 million, or 19%, primarily attributable to $13 million increase in interest expense on our term loans due to higher LIBOR rate\\nand $8 million interest expense resulting from the issuance of our $1.5 billion 2029 Senior Notes in August 2021.\\nNine Months Ended September 30, 2022 Compared with the Same Period in 2021\\nInterest expense increased $61 million, or 17%, primarily attributable to $43 million interest expense resulting from the issuance of our $1.5 billion 2029\\nSenior Notes in August 2021 and $18 million increase in interest expense on our term loans due to higher LIBOR rate.\\nOther Income (Expense), Net\\nThree Months Ended September 30, Nine Months Ended September 30,\\n(In millions, except per centages) 2021 2022 % Change 2021 2022 % Change\\nInterest income $ 10 $ 38 280 %$ 28 $ 66 136 %\\nForeign currency exchange gains (losses), net (13) (48) (269)% (38) (76) (100)%\\nGain on business divestitures — 14 ** 1,684 14 (99)%\\nUnrealized loss on debt and equity securities,\\nnet (2,031) (550) 73 % (56) (7,797) **\\nImpairment of equity method investment — — ** — (182) **\\nRevaluation of MLU B.V. call option — 10 ** — 180 **\\nOther, net 202 1 (100)% 203 (1) **\\nOther income (expense), net $ (1,832) $ (535) 71 %$ 1,821 $ (7,796) **\\nPercentage of revenue (38)% (6)% 16 % (34)%\\n** Percentage not meaningful.\\nThree Months Ended September 30, 2022 Compared with the Same Period in 2021\\nUnrealized loss on debt and equity securities, net decreased by $1.5 billion primarily due to changes in the fair value of our equity securities, including $641\\nmillion loss on our Didi investment, partially offset by a $90 million gain on our Aurora Investments recognized during the third quarter of 2022, compared with a\\n$3.2 billion loss on our Didi investment, partially offset by a $994 million gain on our Zomato investment, a $102 million gain on our Aurora Investments and a\\n$73 million net gain on our other investments in securities accounted for under the fair value option recognized during the third quarter of 2021. For additional\\ninformation, refer to Note 3 – Investments and Fair Value Measurement in the notes to the condensed consolidated financial statements included in Part I, Item 1, of\\nthis Quarterly Report on Form 10-Q.\\nNine Months Ended September 30, 2022 Compared with the Same Period in 2021\\nGain on business divestitures decreased $1.7 billion primarily due to a $1.6 billion gain on the sale of our ATG Business to Aurora recognized in the first\\nquarter of 2021. For additional information, refer to Note 16 – Divestiture in the notes to the condensed consolidated financial statements included in Part I, Item 1,\\nof this Quarterly Report on Form 10-Q.\\nUnrealized loss on debt and equity securities, net increased by $7.7 billion primarily due to changes in the fair value of our equity securities, including $2.7\\nbillion net loss on our Aurora Investments, a $2.4 billion net loss on our Grab investment, a $1.8 billion net loss on our Didi investment, a $747 million loss on our\\nZomato investment, as well as a $106 million net loss on our other investments in securities during the nine months ended September 30, 2022. For additional\\ninformation, refer to Note 3 – Investments and Fair Value Measurement in the notes to the condensed consolidated financial statements included in Part I, Item 1, of\\nthis Quarterly Report on Form 10-Q.\\n44', start_char_idx=0, end_char_idx=3722, text_template='{metadata_str}\\n\\n{content}', metadata_template='{key}: {value}', metadata_seperator='\\n'), score=0.7656543757992433), NodeWithScore(node=TextNode(id_='6ea809f1-0301-49cb-af11-9c4d3881bca0', embedding=None, metadata={'page_label': '42', 'file_name': 'uber_10q_sept_2022.pdf', 'file_path': 'data/10q/uber_10q_sept_2022.pdf', 'file_type': 'application/pdf', 'file_size': 1178622, 'creation_date': '2024-03-14', 'last_modified_date': '2024-03-14'}, excluded_embed_metadata_keys=['file_name', 'file_type', 'file_size', 'creation_date', 'last_modified_date', 'last_accessed_date'], excluded_llm_metadata_keys=['file_name', 'file_type', 'file_size', 'creation_date', 'last_modified_date', 'last_accessed_date'], relationships={<NodeRelationship.SOURCE: '1'>: RelatedNodeInfo(node_id='f49df15d-ea7b-4885-ac74-f741e9cb47a6', node_type=<ObjectType.DOCUMENT: '4'>, metadata={'page_label': '42', 'file_name': 'uber_10q_sept_2022.pdf', 'file_path': 'data/10q/uber_10q_sept_2022.pdf', 'file_type': 'application/pdf', 'file_size': 1178622, 'creation_date': '2024-03-14', 'last_modified_date': '2024-03-14'}, hash='8c63b6eabdd8e095caab42263394f6819b44ffeffee2dfecb0c1ae2bb0ae62b2'), <NodeRelationship.PREVIOUS: '2'>: RelatedNodeInfo(node_id='c9fe6597-e1ba-4a5e-8634-be84ae40bc1e', node_type=<ObjectType.TEXT: '1'>, metadata={'page_label': '41', 'file_name': 'uber_10q_sept_2022.pdf', 'file_path': 'data/10q/uber_10q_sept_2022.pdf', 'file_type': 'application/pdf', 'file_size': 1178622, 'creation_date': '2024-03-14', 'last_modified_date': '2024-03-14'}, hash='9360a496011f0301a144ff08eca1c08cda3323f51aea371b21bda9249fd0acce'), <NodeRelationship.NEXT: '3'>: RelatedNodeInfo(node_id='87f326d9-c336-4cd2-b76d-622c09c96492', node_type=<ObjectType.TEXT: '1'>, metadata={}, hash='b82e12b06c00fa85b960a2fb21cc734222ec758e0918d640fcf2658d2da2f0c1')}, text='Three Months Ended September 30, Nine Months Ended September 30,\\n2021 2022 2021 2022\\nRevenue 100 % 100 % 100 % 100 %\\nCosts and expenses\\nCost of revenue, exclusive of depreciation and amortization shown separately\\nbelow 50 % 62 % 53 % 62 %\\nOperations and support 10 % 7 % 11 % 8 %\\nSales and marketing 24 % 14 % 30 % 16 %\\nResearch and development 10 % 9 % 13 % 9 %\\nGeneral and administrative 13 % 11 % 15 % 10 %\\nDepreciation and amortization 4 % 3 % 6 % 3 %\\nTotal costs and expenses 112 % 106 % 128 % 107 %\\nLoss from operations (12)% (6)% (28)% (7)%\\nInterest expense (3)% (2)% (3)% (2)%\\nOther income (expense), net (38)% (6)% 16 % (34)%\\nLoss before income taxes and income (loss) from equity method\\ninvestments (52)% (14)% (16)% (43)%\\nProvision for (benefit from) income taxes (2)% 1 % (3)% — %\\nIncome (loss) from equity method investments — % — % — % — %\\nNet loss including non-controlling interests (50)% (14)% (12)% (42)%\\nLess: net income (loss) attributable to non-controlling interests,\\nnet of tax — % — % (1)% — %\\nNet loss attributable to Uber Technologies, Inc. (50)% (14)% (12)% (42)%\\n Totals of percentage of revenues may not foot due to rounding.\\nThe following discussion and analysis is for the three and nine months ended September 30, 2022 compared to same period in 2021.\\nRevenue\\nThree Months Ended September 30, Nine Months Ended September 30,\\n(In millions, except per centages) 2021 2022 % Change 2021 2022 % Change\\nRevenue $ 4,845 $ 8,343 72 %$ 11,677 $ 23,270 99 %\\nThree Months Ended September 30, 2022 Compared with the Same Period in 2021\\nRevenue increased $3.5 billion, or 72%, primarily attributable to an increase in Gross Bookings of 26%, or 32% on a constant currency basis. The increase in\\nGross Bookings was primarily driven by increases in Mobility Trip volumes as the business recovers from the impacts of COVID-19 and a $1.3 billion increase in\\nFreight Gross Bookings resulting primarily from the acquisition of Transplace in the fourth quarter of 2021. Additionally, during the third quarter of 2022, we saw a\\n$1.1 billion increase in Mobility revenue as a result of business model changes in the UK. We also saw a $164 million increase in Delivery revenue resulting from\\nan increase in certain Courier payments and incentives that are recorded in cost of revenue, exclusive of depreciation and amortization, for certain markets where\\nwe are primarily responsible for Delivery services and pay Couriers for services provided.\\nNine Months Ended September 30, 2022 Compared with the Same Period in 2021\\nRevenue increased $11.6 billion, or 99%, primarily attributable to an increase in Gross Bookings of 31%, or 36% on a constant currency basis. The increase in\\nGross Bookings was primarily driven by increases in Mobility Trip volumes as the business recovers from the impacts of COVID-19 and a $4.4 billion increase in\\nFreight Gross Bookings resulting primarily from the acquisition of Transplace in the fourth quarter of 2021. Additionally, during the first nine months of 2022, we\\nsaw a $2.2 billion net increase in Mobility revenue as a result of business model changes in the UK and an accrual made for the resolution of historical claims in\\nthe UK relating to the classification of drivers. We also saw a $751 million increase in Delivery revenue resulting from an increase in certain Courier payments and\\nincentives that are recorded in cost of revenue, exclusive of depreciation and amortization, for certain markets where we are primarily responsible for Delivery\\nservices and pay Couriers for services provided.(1)\\n41', start_char_idx=0, end_char_idx=3554, text_template='{metadata_str}\\n\\n{content}', metadata_template='{key}: {value}', metadata_seperator='\\n'), score=0.7630362081186747)], metadata={'96aa69d3-49f6-4c40-9ff0-a4f8d2a01892': {'page_label': '14', 'file_name': 'uber_10q_sept_2022.pdf', 'file_path': 'data/10q/uber_10q_sept_2022.pdf', 'file_type': 'application/pdf', 'file_size': 1178622, 'creation_date': '2024-03-14', 'last_modified_date': '2024-03-14'}, 'b747a2fc-beb7-4276-997d-bcf235131a1f': {'page_label': '45', 'file_name': 'uber_10q_sept_2022.pdf', 'file_path': 'data/10q/uber_10q_sept_2022.pdf', 'file_type': 'application/pdf', 'file_size': 1178622, 'creation_date': '2024-03-14', 'last_modified_date': '2024-03-14'}, '6ea809f1-0301-49cb-af11-9c4d3881bca0': {'page_label': '42', 'file_name': 'uber_10q_sept_2022.pdf', 'file_path': 'data/10q/uber_10q_sept_2022.pdf', 'file_type': 'application/pdf', 'file_size': 1178622, 'creation_date': '2024-03-14', 'last_modified_date': '2024-03-14'}})), ToolOutput(content='$550 million', tool_name='uber_sept_10q', raw_input={'input': 'What is the Z in September 2022?'}, raw_output=Response(response='$550 million', source_nodes=[NodeWithScore(node=TextNode(id_='96aa69d3-49f6-4c40-9ff0-a4f8d2a01892', embedding=None, metadata={'page_label': '14', 'file_name': 'uber_10q_sept_2022.pdf', 'file_path': 'data/10q/uber_10q_sept_2022.pdf', 'file_type': 'application/pdf', 'file_size': 1178622, 'creation_date': '2024-03-14', 'last_modified_date': '2024-03-14'}, excluded_embed_metadata_keys=['file_name', 'file_type', 'file_size', 'creation_date', 'last_modified_date', 'last_accessed_date'], excluded_llm_metadata_keys=['file_name', 'file_type', 'file_size', 'creation_date', 'last_modified_date', 'last_accessed_date'], relationships={<NodeRelationship.SOURCE: '1'>: RelatedNodeInfo(node_id='83634784-b273-4ce2-9e01-aa460e1848a1', node_type=<ObjectType.DOCUMENT: '4'>, metadata={'page_label': '14', 'file_name': 'uber_10q_sept_2022.pdf', 'file_path': 'data/10q/uber_10q_sept_2022.pdf', 'file_type': 'application/pdf', 'file_size': 1178622, 'creation_date': '2024-03-14', 'last_modified_date': '2024-03-14'}, hash='71ec5831e076febb4b74695ec6c49d9146e82ebbb7961f2672fbdfe59ac21c29'), <NodeRelationship.PREVIOUS: '2'>: RelatedNodeInfo(node_id='d75c968e-6bcd-4ba8-b7c8-2d476871745d', node_type=<ObjectType.TEXT: '1'>, metadata={'page_label': '13', 'file_name': 'uber_10q_sept_2022.pdf', 'file_path': 'data/10q/uber_10q_sept_2022.pdf', 'file_type': 'application/pdf', 'file_size': 1178622, 'creation_date': '2024-03-14', 'last_modified_date': '2024-03-14'}, hash='b4e48ea489353df656c4553d279410b202e085a635c7b89bd73be5c52fb8b3c8'), <NodeRelationship.NEXT: '3'>: RelatedNodeInfo(node_id='bc2efec6-6ce3-4e3c-90ba-90e73626d09c', node_type=<ObjectType.TEXT: '1'>, metadata={}, hash='269419bab9d5eedfb547f03d976667039ce06d4f0abea22deeffe6aec16118c5')}, text='States; the administration, adoption and efficacy of vaccines globally; the impact on capital, foreign currencies exchange and financial markets; governmental or\\nregulatory orders that impact our business; and whether the impacts may result in permanent changes to our end-users’ behavior, all of which are highly uncertain\\nand cannot be predicted.\\nRecently Adopted Accounting Pronouncements\\nIn November 2021, the FASB issued ASU 2021-10, “Government Assistance (Topic 832): Disclosures by Business Entities about Government Assistance,”\\nwhich requires disclosures about transactions with a government that are accounted for by applying a grant or contribution accounting model by analogy. The\\nstandard is effective for public companies for fiscal years beginning after December 15, 2021. Early adoption is permitted. We adopted the ASU prospectively on\\nJanuary 1, 2022. The additional required annual disclosures are not expected to have a material impact on our consolidated financial statements.\\nRecently Issued Accounting Pronouncements Not Yet Adopted\\nIn October 2021, the FASB issued ASU 2021-08, “Business Combinations (Topic 805): Accounting for Contract Assets and Contract Liabilities from Contracts\\nwith Customers,” which requires entities to apply Topic 606 to recognize and measure contract assets and contract liabilities in a business combination as if the\\nacquiring entity had originated the contracts. The standard is effective for public companies for fiscal years, and interim periods within those fiscal years, beginning\\nafter December 15, 2022. Early adoption is permitted. We are currently evaluating the impact of this accounting standard update on our consolidated financial\\nstatements.\\nIn June 2022, the FASB issued ASU 2022-03, “Fair Value Measurement (Topic 820): Fair Value Measurement of Equity Securities Subject to Contractual Sale\\nRestrictions,” which clarifies that contractual sale restrictions are not considered in measuring fair value of equity securities and requires additional disclosures for\\nequity securities subject to contractual sale restrictions. The standard is effective for public companies for fiscal years beginning after December 15, 2023. Early\\nadoption is permitted. This accounting standard update is not expected to have a material impact on our consolidated financial statements as the amendments align\\nwith our existing policy.\\nIn September 2022, the FASB issued ASU 2022-04, “Liabilities—Supplier Finance Programs (Subtopic 405-50): Disclosure of Supplier Finance Program\\nObligations,” which requires entities that use supplier finance programs in connection with the purchase of goods and services to disclose sufficient information\\nabout the program. The amendments do not affect the recognition, measurement or financial statement presentation of obligations covered by supplier finance\\nprograms. The standard is effective for public companies for fiscal years, and interim periods within those fiscal years, beginning after December 15, 2022, except\\nfor the amendment on roll-forward information, which is effective for fiscal years beginning after December 15, 2023. Early adoption is permitted. We are\\ncurrently evaluating the impact of this accounting standard update on our consolidated financial statements.\\nNote 2 – Revenue\\nThe following tables present our revenues disaggregated by offering and geographical region. Revenue by geographical region is based on where the\\ntransaction occurred. This level of disaggregation takes into consideration how the nature, amount, timing, and uncertainty of revenue and cash flows are affected\\nby economic factors (in millions):\\nThree Months Ended September 30, Nine Months Ended September 30,\\n2021 2022 2021 2022\\nMobility revenue $ 2,205 $ 3,822 $ 4,676 $ 9,893 \\nDelivery revenue 2,238 2,770 5,942 7,970 \\nFreight revenue 402 1,751 1,051 5,407 \\nAll Other revenue — — 8 — \\nTotal revenue $ 4,845 $ 8,343 $ 11,677 $ 23,270 \\nWe offer subscription memberships to end-users including Uber One, Uber Pass, Rides Pass, and Eats Pass (“Subscription”). We recognize Subscription fees\\nratably over the life of the pass. We allocate Subscription fees earned to Mobility and Delivery revenue on a proportional basis, based on usage for each offering\\nduring the respective period.', start_char_idx=0, end_char_idx=4274, text_template='{metadata_str}\\n\\n{content}', metadata_template='{key}: {value}', metadata_seperator='\\n'), score=0.7677614735930945), NodeWithScore(node=TextNode(id_='b747a2fc-beb7-4276-997d-bcf235131a1f', embedding=None, metadata={'page_label': '45', 'file_name': 'uber_10q_sept_2022.pdf', 'file_path': 'data/10q/uber_10q_sept_2022.pdf', 'file_type': 'application/pdf', 'file_size': 1178622, 'creation_date': '2024-03-14', 'last_modified_date': '2024-03-14'}, excluded_embed_metadata_keys=['file_name', 'file_type', 'file_size', 'creation_date', 'last_modified_date', 'last_accessed_date'], excluded_llm_metadata_keys=['file_name', 'file_type', 'file_size', 'creation_date', 'last_modified_date', 'last_accessed_date'], relationships={<NodeRelationship.SOURCE: '1'>: RelatedNodeInfo(node_id='1820dbc9-43b1-430e-9fc1-55b17ea993e7', node_type=<ObjectType.DOCUMENT: '4'>, metadata={'page_label': '45', 'file_name': 'uber_10q_sept_2022.pdf', 'file_path': 'data/10q/uber_10q_sept_2022.pdf', 'file_type': 'application/pdf', 'file_size': 1178622, 'creation_date': '2024-03-14', 'last_modified_date': '2024-03-14'}, hash='bf6962512aa38cacb11143f29194155d77246872c61d8b7ac53b3d522ac55c1c'), <NodeRelationship.PREVIOUS: '2'>: RelatedNodeInfo(node_id='b8031666-4242-42c5-afb1-f3fe0438fce3', node_type=<ObjectType.TEXT: '1'>, metadata={'page_label': '44', 'file_name': 'uber_10q_sept_2022.pdf', 'file_path': 'data/10q/uber_10q_sept_2022.pdf', 'file_type': 'application/pdf', 'file_size': 1178622, 'creation_date': '2024-03-14', 'last_modified_date': '2024-03-14'}, hash='f974c535428a00b8e633696d165dc5043f71627d44b96a1015fb8f089f1ccdbb'), <NodeRelationship.NEXT: '3'>: RelatedNodeInfo(node_id='8869514e-8c78-454a-8240-99fd3cab55aa', node_type=<ObjectType.TEXT: '1'>, metadata={}, hash='4c775d5a0dc95f5b0ced413953d4947e87c981946ddff084fe70e7bdd9b922e0')}, text='Interest Expense\\nThree Months Ended September 30, Nine Months Ended September 30,\\n(In millions, except per centages) 2021 2022 % Change 2021 2022 % Change\\nInterest expense $ (123) $ (146) 19 %$ (353) $ (414) 17 %\\nPercentage of revenue (3)% (2)% (3)% (2)%\\nThree Months Ended September 30, 2022 Compared with the Same Period in 2021\\nInterest expense increased $23 million, or 19%, primarily attributable to $13 million increase in interest expense on our term loans due to higher LIBOR rate\\nand $8 million interest expense resulting from the issuance of our $1.5 billion 2029 Senior Notes in August 2021.\\nNine Months Ended September 30, 2022 Compared with the Same Period in 2021\\nInterest expense increased $61 million, or 17%, primarily attributable to $43 million interest expense resulting from the issuance of our $1.5 billion 2029\\nSenior Notes in August 2021 and $18 million increase in interest expense on our term loans due to higher LIBOR rate.\\nOther Income (Expense), Net\\nThree Months Ended September 30, Nine Months Ended September 30,\\n(In millions, except per centages) 2021 2022 % Change 2021 2022 % Change\\nInterest income $ 10 $ 38 280 %$ 28 $ 66 136 %\\nForeign currency exchange gains (losses), net (13) (48) (269)% (38) (76) (100)%\\nGain on business divestitures — 14 ** 1,684 14 (99)%\\nUnrealized loss on debt and equity securities,\\nnet (2,031) (550) 73 % (56) (7,797) **\\nImpairment of equity method investment — — ** — (182) **\\nRevaluation of MLU B.V. call option — 10 ** — 180 **\\nOther, net 202 1 (100)% 203 (1) **\\nOther income (expense), net $ (1,832) $ (535) 71 %$ 1,821 $ (7,796) **\\nPercentage of revenue (38)% (6)% 16 % (34)%\\n** Percentage not meaningful.\\nThree Months Ended September 30, 2022 Compared with the Same Period in 2021\\nUnrealized loss on debt and equity securities, net decreased by $1.5 billion primarily due to changes in the fair value of our equity securities, including $641\\nmillion loss on our Didi investment, partially offset by a $90 million gain on our Aurora Investments recognized during the third quarter of 2022, compared with a\\n$3.2 billion loss on our Didi investment, partially offset by a $994 million gain on our Zomato investment, a $102 million gain on our Aurora Investments and a\\n$73 million net gain on our other investments in securities accounted for under the fair value option recognized during the third quarter of 2021. For additional\\ninformation, refer to Note 3 – Investments and Fair Value Measurement in the notes to the condensed consolidated financial statements included in Part I, Item 1, of\\nthis Quarterly Report on Form 10-Q.\\nNine Months Ended September 30, 2022 Compared with the Same Period in 2021\\nGain on business divestitures decreased $1.7 billion primarily due to a $1.6 billion gain on the sale of our ATG Business to Aurora recognized in the first\\nquarter of 2021. For additional information, refer to Note 16 – Divestiture in the notes to the condensed consolidated financial statements included in Part I, Item 1,\\nof this Quarterly Report on Form 10-Q.\\nUnrealized loss on debt and equity securities, net increased by $7.7 billion primarily due to changes in the fair value of our equity securities, including $2.7\\nbillion net loss on our Aurora Investments, a $2.4 billion net loss on our Grab investment, a $1.8 billion net loss on our Didi investment, a $747 million loss on our\\nZomato investment, as well as a $106 million net loss on our other investments in securities during the nine months ended September 30, 2022. For additional\\ninformation, refer to Note 3 – Investments and Fair Value Measurement in the notes to the condensed consolidated financial statements included in Part I, Item 1, of\\nthis Quarterly Report on Form 10-Q.\\n44', start_char_idx=0, end_char_idx=3722, text_template='{metadata_str}\\n\\n{content}', metadata_template='{key}: {value}', metadata_seperator='\\n'), score=0.7656543757992433), NodeWithScore(node=TextNode(id_='6ea809f1-0301-49cb-af11-9c4d3881bca0', embedding=None, metadata={'page_label': '42', 'file_name': 'uber_10q_sept_2022.pdf', 'file_path': 'data/10q/uber_10q_sept_2022.pdf', 'file_type': 'application/pdf', 'file_size': 1178622, 'creation_date': '2024-03-14', 'last_modified_date': '2024-03-14'}, excluded_embed_metadata_keys=['file_name', 'file_type', 'file_size', 'creation_date', 'last_modified_date', 'last_accessed_date'], excluded_llm_metadata_keys=['file_name', 'file_type', 'file_size', 'creation_date', 'last_modified_date', 'last_accessed_date'], relationships={<NodeRelationship.SOURCE: '1'>: RelatedNodeInfo(node_id='f49df15d-ea7b-4885-ac74-f741e9cb47a6', node_type=<ObjectType.DOCUMENT: '4'>, metadata={'page_label': '42', 'file_name': 'uber_10q_sept_2022.pdf', 'file_path': 'data/10q/uber_10q_sept_2022.pdf', 'file_type': 'application/pdf', 'file_size': 1178622, 'creation_date': '2024-03-14', 'last_modified_date': '2024-03-14'}, hash='8c63b6eabdd8e095caab42263394f6819b44ffeffee2dfecb0c1ae2bb0ae62b2'), <NodeRelationship.PREVIOUS: '2'>: RelatedNodeInfo(node_id='c9fe6597-e1ba-4a5e-8634-be84ae40bc1e', node_type=<ObjectType.TEXT: '1'>, metadata={'page_label': '41', 'file_name': 'uber_10q_sept_2022.pdf', 'file_path': 'data/10q/uber_10q_sept_2022.pdf', 'file_type': 'application/pdf', 'file_size': 1178622, 'creation_date': '2024-03-14', 'last_modified_date': '2024-03-14'}, hash='9360a496011f0301a144ff08eca1c08cda3323f51aea371b21bda9249fd0acce'), <NodeRelationship.NEXT: '3'>: RelatedNodeInfo(node_id='87f326d9-c336-4cd2-b76d-622c09c96492', node_type=<ObjectType.TEXT: '1'>, metadata={}, hash='b82e12b06c00fa85b960a2fb21cc734222ec758e0918d640fcf2658d2da2f0c1')}, text='Three Months Ended September 30, Nine Months Ended September 30,\\n2021 2022 2021 2022\\nRevenue 100 % 100 % 100 % 100 %\\nCosts and expenses\\nCost of revenue, exclusive of depreciation and amortization shown separately\\nbelow 50 % 62 % 53 % 62 %\\nOperations and support 10 % 7 % 11 % 8 %\\nSales and marketing 24 % 14 % 30 % 16 %\\nResearch and development 10 % 9 % 13 % 9 %\\nGeneral and administrative 13 % 11 % 15 % 10 %\\nDepreciation and amortization 4 % 3 % 6 % 3 %\\nTotal costs and expenses 112 % 106 % 128 % 107 %\\nLoss from operations (12)% (6)% (28)% (7)%\\nInterest expense (3)% (2)% (3)% (2)%\\nOther income (expense), net (38)% (6)% 16 % (34)%\\nLoss before income taxes and income (loss) from equity method\\ninvestments (52)% (14)% (16)% (43)%\\nProvision for (benefit from) income taxes (2)% 1 % (3)% — %\\nIncome (loss) from equity method investments — % — % — % — %\\nNet loss including non-controlling interests (50)% (14)% (12)% (42)%\\nLess: net income (loss) attributable to non-controlling interests,\\nnet of tax — % — % (1)% — %\\nNet loss attributable to Uber Technologies, Inc. (50)% (14)% (12)% (42)%\\n Totals of percentage of revenues may not foot due to rounding.\\nThe following discussion and analysis is for the three and nine months ended September 30, 2022 compared to same period in 2021.\\nRevenue\\nThree Months Ended September 30, Nine Months Ended September 30,\\n(In millions, except per centages) 2021 2022 % Change 2021 2022 % Change\\nRevenue $ 4,845 $ 8,343 72 %$ 11,677 $ 23,270 99 %\\nThree Months Ended September 30, 2022 Compared with the Same Period in 2021\\nRevenue increased $3.5 billion, or 72%, primarily attributable to an increase in Gross Bookings of 26%, or 32% on a constant currency basis. The increase in\\nGross Bookings was primarily driven by increases in Mobility Trip volumes as the business recovers from the impacts of COVID-19 and a $1.3 billion increase in\\nFreight Gross Bookings resulting primarily from the acquisition of Transplace in the fourth quarter of 2021. Additionally, during the third quarter of 2022, we saw a\\n$1.1 billion increase in Mobility revenue as a result of business model changes in the UK. We also saw a $164 million increase in Delivery revenue resulting from\\nan increase in certain Courier payments and incentives that are recorded in cost of revenue, exclusive of depreciation and amortization, for certain markets where\\nwe are primarily responsible for Delivery services and pay Couriers for services provided.\\nNine Months Ended September 30, 2022 Compared with the Same Period in 2021\\nRevenue increased $11.6 billion, or 99%, primarily attributable to an increase in Gross Bookings of 31%, or 36% on a constant currency basis. The increase in\\nGross Bookings was primarily driven by increases in Mobility Trip volumes as the business recovers from the impacts of COVID-19 and a $4.4 billion increase in\\nFreight Gross Bookings resulting primarily from the acquisition of Transplace in the fourth quarter of 2021. Additionally, during the first nine months of 2022, we\\nsaw a $2.2 billion net increase in Mobility revenue as a result of business model changes in the UK and an accrual made for the resolution of historical claims in\\nthe UK relating to the classification of drivers. We also saw a $751 million increase in Delivery revenue resulting from an increase in certain Courier payments and\\nincentives that are recorded in cost of revenue, exclusive of depreciation and amortization, for certain markets where we are primarily responsible for Delivery\\nservices and pay Couriers for services provided.(1)\\n41', start_char_idx=0, end_char_idx=3554, text_template='{metadata_str}\\n\\n{content}', metadata_template='{key}: {value}', metadata_seperator='\\n'), score=0.7630362081186747)], metadata={'96aa69d3-49f6-4c40-9ff0-a4f8d2a01892': {'page_label': '14', 'file_name': 'uber_10q_sept_2022.pdf', 'file_path': 'data/10q/uber_10q_sept_2022.pdf', 'file_type': 'application/pdf', 'file_size': 1178622, 'creation_date': '2024-03-14', 'last_modified_date': '2024-03-14'}, 'b747a2fc-beb7-4276-997d-bcf235131a1f': {'page_label': '45', 'file_name': 'uber_10q_sept_2022.pdf', 'file_path': 'data/10q/uber_10q_sept_2022.pdf', 'file_type': 'application/pdf', 'file_size': 1178622, 'creation_date': '2024-03-14', 'last_modified_date': '2024-03-14'}, '6ea809f1-0301-49cb-af11-9c4d3881bca0': {'page_label': '42', 'file_name': 'uber_10q_sept_2022.pdf', 'file_path': 'data/10q/uber_10q_sept_2022.pdf', 'file_type': 'application/pdf', 'file_size': 1178622, 'creation_date': '2024-03-14', 'last_modified_date': '2024-03-14'}}))], source_nodes=[NodeWithScore(node=TextNode(id_='96aa69d3-49f6-4c40-9ff0-a4f8d2a01892', embedding=None, metadata={'page_label': '14', 'file_name': 'uber_10q_sept_2022.pdf', 'file_path': 'data/10q/uber_10q_sept_2022.pdf', 'file_type': 'application/pdf', 'file_size': 1178622, 'creation_date': '2024-03-14', 'last_modified_date': '2024-03-14'}, excluded_embed_metadata_keys=['file_name', 'file_type', 'file_size', 'creation_date', 'last_modified_date', 'last_accessed_date'], excluded_llm_metadata_keys=['file_name', 'file_type', 'file_size', 'creation_date', 'last_modified_date', 'last_accessed_date'], relationships={<NodeRelationship.SOURCE: '1'>: RelatedNodeInfo(node_id='83634784-b273-4ce2-9e01-aa460e1848a1', node_type=<ObjectType.DOCUMENT: '4'>, metadata={'page_label': '14', 'file_name': 'uber_10q_sept_2022.pdf', 'file_path': 'data/10q/uber_10q_sept_2022.pdf', 'file_type': 'application/pdf', 'file_size': 1178622, 'creation_date': '2024-03-14', 'last_modified_date': '2024-03-14'}, hash='71ec5831e076febb4b74695ec6c49d9146e82ebbb7961f2672fbdfe59ac21c29'), <NodeRelationship.PREVIOUS: '2'>: RelatedNodeInfo(node_id='d75c968e-6bcd-4ba8-b7c8-2d476871745d', node_type=<ObjectType.TEXT: '1'>, metadata={'page_label': '13', 'file_name': 'uber_10q_sept_2022.pdf', 'file_path': 'data/10q/uber_10q_sept_2022.pdf', 'file_type': 'application/pdf', 'file_size': 1178622, 'creation_date': '2024-03-14', 'last_modified_date': '2024-03-14'}, hash='b4e48ea489353df656c4553d279410b202e085a635c7b89bd73be5c52fb8b3c8'), <NodeRelationship.NEXT: '3'>: RelatedNodeInfo(node_id='bc2efec6-6ce3-4e3c-90ba-90e73626d09c', node_type=<ObjectType.TEXT: '1'>, metadata={}, hash='269419bab9d5eedfb547f03d976667039ce06d4f0abea22deeffe6aec16118c5')}, text='States; the administration, adoption and efficacy of vaccines globally; the impact on capital, foreign currencies exchange and financial markets; governmental or\\nregulatory orders that impact our business; and whether the impacts may result in permanent changes to our end-users’ behavior, all of which are highly uncertain\\nand cannot be predicted.\\nRecently Adopted Accounting Pronouncements\\nIn November 2021, the FASB issued ASU 2021-10, “Government Assistance (Topic 832): Disclosures by Business Entities about Government Assistance,”\\nwhich requires disclosures about transactions with a government that are accounted for by applying a grant or contribution accounting model by analogy. The\\nstandard is effective for public companies for fiscal years beginning after December 15, 2021. Early adoption is permitted. We adopted the ASU prospectively on\\nJanuary 1, 2022. The additional required annual disclosures are not expected to have a material impact on our consolidated financial statements.\\nRecently Issued Accounting Pronouncements Not Yet Adopted\\nIn October 2021, the FASB issued ASU 2021-08, “Business Combinations (Topic 805): Accounting for Contract Assets and Contract Liabilities from Contracts\\nwith Customers,” which requires entities to apply Topic 606 to recognize and measure contract assets and contract liabilities in a business combination as if the\\nacquiring entity had originated the contracts. The standard is effective for public companies for fiscal years, and interim periods within those fiscal years, beginning\\nafter December 15, 2022. Early adoption is permitted. We are currently evaluating the impact of this accounting standard update on our consolidated financial\\nstatements.\\nIn June 2022, the FASB issued ASU 2022-03, “Fair Value Measurement (Topic 820): Fair Value Measurement of Equity Securities Subject to Contractual Sale\\nRestrictions,” which clarifies that contractual sale restrictions are not considered in measuring fair value of equity securities and requires additional disclosures for\\nequity securities subject to contractual sale restrictions. The standard is effective for public companies for fiscal years beginning after December 15, 2023. Early\\nadoption is permitted. This accounting standard update is not expected to have a material impact on our consolidated financial statements as the amendments align\\nwith our existing policy.\\nIn September 2022, the FASB issued ASU 2022-04, “Liabilities—Supplier Finance Programs (Subtopic 405-50): Disclosure of Supplier Finance Program\\nObligations,” which requires entities that use supplier finance programs in connection with the purchase of goods and services to disclose sufficient information\\nabout the program. The amendments do not affect the recognition, measurement or financial statement presentation of obligations covered by supplier finance\\nprograms. The standard is effective for public companies for fiscal years, and interim periods within those fiscal years, beginning after December 15, 2022, except\\nfor the amendment on roll-forward information, which is effective for fiscal years beginning after December 15, 2023. Early adoption is permitted. We are\\ncurrently evaluating the impact of this accounting standard update on our consolidated financial statements.\\nNote 2 – Revenue\\nThe following tables present our revenues disaggregated by offering and geographical region. Revenue by geographical region is based on where the\\ntransaction occurred. This level of disaggregation takes into consideration how the nature, amount, timing, and uncertainty of revenue and cash flows are affected\\nby economic factors (in millions):\\nThree Months Ended September 30, Nine Months Ended September 30,\\n2021 2022 2021 2022\\nMobility revenue $ 2,205 $ 3,822 $ 4,676 $ 9,893 \\nDelivery revenue 2,238 2,770 5,942 7,970 \\nFreight revenue 402 1,751 1,051 5,407 \\nAll Other revenue — — 8 — \\nTotal revenue $ 4,845 $ 8,343 $ 11,677 $ 23,270 \\nWe offer subscription memberships to end-users including Uber One, Uber Pass, Rides Pass, and Eats Pass (“Subscription”). We recognize Subscription fees\\nratably over the life of the pass. We allocate Subscription fees earned to Mobility and Delivery revenue on a proportional basis, based on usage for each offering\\nduring the respective period.', start_char_idx=0, end_char_idx=4274, text_template='{metadata_str}\\n\\n{content}', metadata_template='{key}: {value}', metadata_seperator='\\n'), score=0.7647527182907055), NodeWithScore(node=TextNode(id_='6ea809f1-0301-49cb-af11-9c4d3881bca0', embedding=None, metadata={'page_label': '42', 'file_name': 'uber_10q_sept_2022.pdf', 'file_path': 'data/10q/uber_10q_sept_2022.pdf', 'file_type': 'application/pdf', 'file_size': 1178622, 'creation_date': '2024-03-14', 'last_modified_date': '2024-03-14'}, excluded_embed_metadata_keys=['file_name', 'file_type', 'file_size', 'creation_date', 'last_modified_date', 'last_accessed_date'], excluded_llm_metadata_keys=['file_name', 'file_type', 'file_size', 'creation_date', 'last_modified_date', 'last_accessed_date'], relationships={<NodeRelationship.SOURCE: '1'>: RelatedNodeInfo(node_id='f49df15d-ea7b-4885-ac74-f741e9cb47a6', node_type=<ObjectType.DOCUMENT: '4'>, metadata={'page_label': '42', 'file_name': 'uber_10q_sept_2022.pdf', 'file_path': 'data/10q/uber_10q_sept_2022.pdf', 'file_type': 'application/pdf', 'file_size': 1178622, 'creation_date': '2024-03-14', 'last_modified_date': '2024-03-14'}, hash='8c63b6eabdd8e095caab42263394f6819b44ffeffee2dfecb0c1ae2bb0ae62b2'), <NodeRelationship.PREVIOUS: '2'>: RelatedNodeInfo(node_id='c9fe6597-e1ba-4a5e-8634-be84ae40bc1e', node_type=<ObjectType.TEXT: '1'>, metadata={'page_label': '41', 'file_name': 'uber_10q_sept_2022.pdf', 'file_path': 'data/10q/uber_10q_sept_2022.pdf', 'file_type': 'application/pdf', 'file_size': 1178622, 'creation_date': '2024-03-14', 'last_modified_date': '2024-03-14'}, hash='9360a496011f0301a144ff08eca1c08cda3323f51aea371b21bda9249fd0acce'), <NodeRelationship.NEXT: '3'>: RelatedNodeInfo(node_id='87f326d9-c336-4cd2-b76d-622c09c96492', node_type=<ObjectType.TEXT: '1'>, metadata={}, hash='b82e12b06c00fa85b960a2fb21cc734222ec758e0918d640fcf2658d2da2f0c1')}, text='Three Months Ended September 30, Nine Months Ended September 30,\\n2021 2022 2021 2022\\nRevenue 100 % 100 % 100 % 100 %\\nCosts and expenses\\nCost of revenue, exclusive of depreciation and amortization shown separately\\nbelow 50 % 62 % 53 % 62 %\\nOperations and support 10 % 7 % 11 % 8 %\\nSales and marketing 24 % 14 % 30 % 16 %\\nResearch and development 10 % 9 % 13 % 9 %\\nGeneral and administrative 13 % 11 % 15 % 10 %\\nDepreciation and amortization 4 % 3 % 6 % 3 %\\nTotal costs and expenses 112 % 106 % 128 % 107 %\\nLoss from operations (12)% (6)% (28)% (7)%\\nInterest expense (3)% (2)% (3)% (2)%\\nOther income (expense), net (38)% (6)% 16 % (34)%\\nLoss before income taxes and income (loss) from equity method\\ninvestments (52)% (14)% (16)% (43)%\\nProvision for (benefit from) income taxes (2)% 1 % (3)% — %\\nIncome (loss) from equity method investments — % — % — % — %\\nNet loss including non-controlling interests (50)% (14)% (12)% (42)%\\nLess: net income (loss) attributable to non-controlling interests,\\nnet of tax — % — % (1)% — %\\nNet loss attributable to Uber Technologies, Inc. (50)% (14)% (12)% (42)%\\n Totals of percentage of revenues may not foot due to rounding.\\nThe following discussion and analysis is for the three and nine months ended September 30, 2022 compared to same period in 2021.\\nRevenue\\nThree Months Ended September 30, Nine Months Ended September 30,\\n(In millions, except per centages) 2021 2022 % Change 2021 2022 % Change\\nRevenue $ 4,845 $ 8,343 72 %$ 11,677 $ 23,270 99 %\\nThree Months Ended September 30, 2022 Compared with the Same Period in 2021\\nRevenue increased $3.5 billion, or 72%, primarily attributable to an increase in Gross Bookings of 26%, or 32% on a constant currency basis. The increase in\\nGross Bookings was primarily driven by increases in Mobility Trip volumes as the business recovers from the impacts of COVID-19 and a $1.3 billion increase in\\nFreight Gross Bookings resulting primarily from the acquisition of Transplace in the fourth quarter of 2021. Additionally, during the third quarter of 2022, we saw a\\n$1.1 billion increase in Mobility revenue as a result of business model changes in the UK. We also saw a $164 million increase in Delivery revenue resulting from\\nan increase in certain Courier payments and incentives that are recorded in cost of revenue, exclusive of depreciation and amortization, for certain markets where\\nwe are primarily responsible for Delivery services and pay Couriers for services provided.\\nNine Months Ended September 30, 2022 Compared with the Same Period in 2021\\nRevenue increased $11.6 billion, or 99%, primarily attributable to an increase in Gross Bookings of 31%, or 36% on a constant currency basis. The increase in\\nGross Bookings was primarily driven by increases in Mobility Trip volumes as the business recovers from the impacts of COVID-19 and a $4.4 billion increase in\\nFreight Gross Bookings resulting primarily from the acquisition of Transplace in the fourth quarter of 2021. Additionally, during the first nine months of 2022, we\\nsaw a $2.2 billion net increase in Mobility revenue as a result of business model changes in the UK and an accrual made for the resolution of historical claims in\\nthe UK relating to the classification of drivers. We also saw a $751 million increase in Delivery revenue resulting from an increase in certain Courier payments and\\nincentives that are recorded in cost of revenue, exclusive of depreciation and amortization, for certain markets where we are primarily responsible for Delivery\\nservices and pay Couriers for services provided.(1)\\n41', start_char_idx=0, end_char_idx=3554, text_template='{metadata_str}\\n\\n{content}', metadata_template='{key}: {value}', metadata_seperator='\\n'), score=0.7596752817466292), NodeWithScore(node=TextNode(id_='e8e9885b-9eca-4a41-b5f6-6db27433792c', embedding=None, metadata={'page_label': '19', 'file_name': 'uber_10q_sept_2022.pdf', 'file_path': 'data/10q/uber_10q_sept_2022.pdf', 'file_type': 'application/pdf', 'file_size': 1178622, 'creation_date': '2024-03-14', 'last_modified_date': '2024-03-14'}, excluded_embed_metadata_keys=['file_name', 'file_type', 'file_size', 'creation_date', 'last_modified_date', 'last_accessed_date'], excluded_llm_metadata_keys=['file_name', 'file_type', 'file_size', 'creation_date', 'last_modified_date', 'last_accessed_date'], relationships={<NodeRelationship.SOURCE: '1'>: RelatedNodeInfo(node_id='9fbb5b4e-6334-4725-a37e-69d25c741cea', node_type=<ObjectType.DOCUMENT: '4'>, metadata={'page_label': '19', 'file_name': 'uber_10q_sept_2022.pdf', 'file_path': 'data/10q/uber_10q_sept_2022.pdf', 'file_type': 'application/pdf', 'file_size': 1178622, 'creation_date': '2024-03-14', 'last_modified_date': '2024-03-14'}, hash='a38a901c554377e3f6218f36b366a44ad3fa12bfa06644acbc1813640f2c71a5'), <NodeRelationship.PREVIOUS: '2'>: RelatedNodeInfo(node_id='ce5e29aa-d711-4161-88c1-0421ca7e2f69', node_type=<ObjectType.TEXT: '1'>, metadata={'page_label': '18', 'file_name': 'uber_10q_sept_2022.pdf', 'file_path': 'data/10q/uber_10q_sept_2022.pdf', 'file_type': 'application/pdf', 'file_size': 1178622, 'creation_date': '2024-03-14', 'last_modified_date': '2024-03-14'}, hash='9b5f11bfd9dc1b1b3af6e62ff380c8a37bb098dd55cf89a04d7e9481d6e6cc56'), <NodeRelationship.NEXT: '3'>: RelatedNodeInfo(node_id='b6899be5-0aba-493c-834b-7046f0fb5701', node_type=<ObjectType.TEXT: '1'>, metadata={}, hash='2183f780f952357fc530106289d86ca0faab4902927f30afaff3336d44bc2227')}, text='The functional currency of the investee depreciated against the U.S. dollar by approximately 8% between June 30, 2022 and September 30, 2022. The\\nmovement in exchange rates will be reflected in the carrying value of the investment with a corresponding adjustment to other comprehensive income (loss) in our\\nconsolidated financial statements at December 31, 2022.\\nThe table below provides the composition of the basis difference (in millions):\\nAs of September 30, 2022\\nEquity method goodwill $ 320 \\nIntangible assets, net of accumulated amortization 37 \\nDeferred tax liabilities (10)\\nCumulative currency translation adjustments 40 \\nBasis difference $ 387 \\nWe amortize the basis difference related to the intangible assets over the estimated useful lives of the assets that gave rise to the difference using the straight-\\nline method. The weighted-average life of the intangible assets is approximately 3.0 years as of September 30, 2022. Equity method goodwill is not amortized.\\nMLU B.V. Call Option\\nOn August 30, 2021, we granted Yandex an option (“MLU B.V. Call Option”) to acquire our remaining equity interest in MLU B.V. during a two-year period\\nas part of the agreement with Yandex to restructure our joint ventures in 2021. The MLU B.V. Call Option is recorded as a liability in accrued and other current\\nliabilities on our condensed consolidated balance sheets and measured at fair value on a recurring basis with changes in fair value recorded in other income\\n(expense), net in the condensed consolidated statements of operations. As of September 30, 2022, the exercise price of the MLU B.V. Call Option is approximately\\n$1.9 billion, subject to certain adjustments based on the timing of the option exercise.\\nAs of December 31, 2021, the fair value of the MLU B.V. Call Option was $193 million. To determine the fair value of the MLU B.V. Call Option as of\\nDecember 31, 2021, we used a lattice model which simulated multiple scenarios of the exercise behaviors and the corresponding strike prices over the term of the\\ncall option. Key inputs to the lattice model were: the underlying business value; option term of 1.7 years; volatility of 50%; risk-free interest rates; and strike price\\n(Level 3).\\nAs of September 30, 2022, the fair value of the MLU B.V. Call Option was $13 million. We recorded a $180 million net gain for the fair value change during\\nthe nine months ended September 30, 2022. To determine the fair value of the MLU B.V. Call Option as of September 30, 2022, we used a lattice model which\\nsimulated multiple scenarios of the exercise behaviors and the corresponding strike prices over the term of the call option. Key inputs to the lattice model were: the\\nunderlying business value; option term of 0.94 years; volatility of 65%; risk-free interest rates; and strike price (Level 3).\\nNote 5 – Goodwill and Intangible Assets\\nGoodwill\\nThe following table presents the changes in the carrying value of goodwill by reportable segment for the nine months ended September 30, 2022 (in millions):\\nMobility Delivery Freight Total Goodwill\\nBalance as of December 31, 2021 $ 2,581 $ 4,401 $ 1,438 $ 8,420 \\nAcquisitions 64 — — 64 \\nMeasurement period adjustment — — 1 1 \\nDivestiture (16) — — (16)\\nForeign currency translation adjustment (167) (2) — (169)\\nBalance as of September 30, 2022 $ 2,462 $ 4,399 $ 1,439 $ 8,300 \\n18', start_char_idx=0, end_char_idx=3338, text_template='{metadata_str}\\n\\n{content}', metadata_template='{key}: {value}', metadata_seperator='\\n'), score=0.7560807305654875), NodeWithScore(node=TextNode(id_='96aa69d3-49f6-4c40-9ff0-a4f8d2a01892', embedding=None, metadata={'page_label': '14', 'file_name': 'uber_10q_sept_2022.pdf', 'file_path': 'data/10q/uber_10q_sept_2022.pdf', 'file_type': 'application/pdf', 'file_size': 1178622, 'creation_date': '2024-03-14', 'last_modified_date': '2024-03-14'}, excluded_embed_metadata_keys=['file_name', 'file_type', 'file_size', 'creation_date', 'last_modified_date', 'last_accessed_date'], excluded_llm_metadata_keys=['file_name', 'file_type', 'file_size', 'creation_date', 'last_modified_date', 'last_accessed_date'], relationships={<NodeRelationship.SOURCE: '1'>: RelatedNodeInfo(node_id='83634784-b273-4ce2-9e01-aa460e1848a1', node_type=<ObjectType.DOCUMENT: '4'>, metadata={'page_label': '14', 'file_name': 'uber_10q_sept_2022.pdf', 'file_path': 'data/10q/uber_10q_sept_2022.pdf', 'file_type': 'application/pdf', 'file_size': 1178622, 'creation_date': '2024-03-14', 'last_modified_date': '2024-03-14'}, hash='71ec5831e076febb4b74695ec6c49d9146e82ebbb7961f2672fbdfe59ac21c29'), <NodeRelationship.PREVIOUS: '2'>: RelatedNodeInfo(node_id='d75c968e-6bcd-4ba8-b7c8-2d476871745d', node_type=<ObjectType.TEXT: '1'>, metadata={'page_label': '13', 'file_name': 'uber_10q_sept_2022.pdf', 'file_path': 'data/10q/uber_10q_sept_2022.pdf', 'file_type': 'application/pdf', 'file_size': 1178622, 'creation_date': '2024-03-14', 'last_modified_date': '2024-03-14'}, hash='b4e48ea489353df656c4553d279410b202e085a635c7b89bd73be5c52fb8b3c8'), <NodeRelationship.NEXT: '3'>: RelatedNodeInfo(node_id='bc2efec6-6ce3-4e3c-90ba-90e73626d09c', node_type=<ObjectType.TEXT: '1'>, metadata={}, hash='269419bab9d5eedfb547f03d976667039ce06d4f0abea22deeffe6aec16118c5')}, text='States; the administration, adoption and efficacy of vaccines globally; the impact on capital, foreign currencies exchange and financial markets; governmental or\\nregulatory orders that impact our business; and whether the impacts may result in permanent changes to our end-users’ behavior, all of which are highly uncertain\\nand cannot be predicted.\\nRecently Adopted Accounting Pronouncements\\nIn November 2021, the FASB issued ASU 2021-10, “Government Assistance (Topic 832): Disclosures by Business Entities about Government Assistance,”\\nwhich requires disclosures about transactions with a government that are accounted for by applying a grant or contribution accounting model by analogy. The\\nstandard is effective for public companies for fiscal years beginning after December 15, 2021. Early adoption is permitted. We adopted the ASU prospectively on\\nJanuary 1, 2022. The additional required annual disclosures are not expected to have a material impact on our consolidated financial statements.\\nRecently Issued Accounting Pronouncements Not Yet Adopted\\nIn October 2021, the FASB issued ASU 2021-08, “Business Combinations (Topic 805): Accounting for Contract Assets and Contract Liabilities from Contracts\\nwith Customers,” which requires entities to apply Topic 606 to recognize and measure contract assets and contract liabilities in a business combination as if the\\nacquiring entity had originated the contracts. The standard is effective for public companies for fiscal years, and interim periods within those fiscal years, beginning\\nafter December 15, 2022. Early adoption is permitted. We are currently evaluating the impact of this accounting standard update on our consolidated financial\\nstatements.\\nIn June 2022, the FASB issued ASU 2022-03, “Fair Value Measurement (Topic 820): Fair Value Measurement of Equity Securities Subject to Contractual Sale\\nRestrictions,” which clarifies that contractual sale restrictions are not considered in measuring fair value of equity securities and requires additional disclosures for\\nequity securities subject to contractual sale restrictions. The standard is effective for public companies for fiscal years beginning after December 15, 2023. Early\\nadoption is permitted. This accounting standard update is not expected to have a material impact on our consolidated financial statements as the amendments align\\nwith our existing policy.\\nIn September 2022, the FASB issued ASU 2022-04, “Liabilities—Supplier Finance Programs (Subtopic 405-50): Disclosure of Supplier Finance Program\\nObligations,” which requires entities that use supplier finance programs in connection with the purchase of goods and services to disclose sufficient information\\nabout the program. The amendments do not affect the recognition, measurement or financial statement presentation of obligations covered by supplier finance\\nprograms. The standard is effective for public companies for fiscal years, and interim periods within those fiscal years, beginning after December 15, 2022, except\\nfor the amendment on roll-forward information, which is effective for fiscal years beginning after December 15, 2023. Early adoption is permitted. We are\\ncurrently evaluating the impact of this accounting standard update on our consolidated financial statements.\\nNote 2 – Revenue\\nThe following tables present our revenues disaggregated by offering and geographical region. Revenue by geographical region is based on where the\\ntransaction occurred. This level of disaggregation takes into consideration how the nature, amount, timing, and uncertainty of revenue and cash flows are affected\\nby economic factors (in millions):\\nThree Months Ended September 30, Nine Months Ended September 30,\\n2021 2022 2021 2022\\nMobility revenue $ 2,205 $ 3,822 $ 4,676 $ 9,893 \\nDelivery revenue 2,238 2,770 5,942 7,970 \\nFreight revenue 402 1,751 1,051 5,407 \\nAll Other revenue — — 8 — \\nTotal revenue $ 4,845 $ 8,343 $ 11,677 $ 23,270 \\nWe offer subscription memberships to end-users including Uber One, Uber Pass, Rides Pass, and Eats Pass (“Subscription”). We recognize Subscription fees\\nratably over the life of the pass. We allocate Subscription fees earned to Mobility and Delivery revenue on a proportional basis, based on usage for each offering\\nduring the respective period.', start_char_idx=0, end_char_idx=4274, text_template='{metadata_str}\\n\\n{content}', metadata_template='{key}: {value}', metadata_seperator='\\n'), score=0.7677614735930945), NodeWithScore(node=TextNode(id_='b747a2fc-beb7-4276-997d-bcf235131a1f', embedding=None, metadata={'page_label': '45', 'file_name': 'uber_10q_sept_2022.pdf', 'file_path': 'data/10q/uber_10q_sept_2022.pdf', 'file_type': 'application/pdf', 'file_size': 1178622, 'creation_date': '2024-03-14', 'last_modified_date': '2024-03-14'}, excluded_embed_metadata_keys=['file_name', 'file_type', 'file_size', 'creation_date', 'last_modified_date', 'last_accessed_date'], excluded_llm_metadata_keys=['file_name', 'file_type', 'file_size', 'creation_date', 'last_modified_date', 'last_accessed_date'], relationships={<NodeRelationship.SOURCE: '1'>: RelatedNodeInfo(node_id='1820dbc9-43b1-430e-9fc1-55b17ea993e7', node_type=<ObjectType.DOCUMENT: '4'>, metadata={'page_label': '45', 'file_name': 'uber_10q_sept_2022.pdf', 'file_path': 'data/10q/uber_10q_sept_2022.pdf', 'file_type': 'application/pdf', 'file_size': 1178622, 'creation_date': '2024-03-14', 'last_modified_date': '2024-03-14'}, hash='bf6962512aa38cacb11143f29194155d77246872c61d8b7ac53b3d522ac55c1c'), <NodeRelationship.PREVIOUS: '2'>: RelatedNodeInfo(node_id='b8031666-4242-42c5-afb1-f3fe0438fce3', node_type=<ObjectType.TEXT: '1'>, metadata={'page_label': '44', 'file_name': 'uber_10q_sept_2022.pdf', 'file_path': 'data/10q/uber_10q_sept_2022.pdf', 'file_type': 'application/pdf', 'file_size': 1178622, 'creation_date': '2024-03-14', 'last_modified_date': '2024-03-14'}, hash='f974c535428a00b8e633696d165dc5043f71627d44b96a1015fb8f089f1ccdbb'), <NodeRelationship.NEXT: '3'>: RelatedNodeInfo(node_id='8869514e-8c78-454a-8240-99fd3cab55aa', node_type=<ObjectType.TEXT: '1'>, metadata={}, hash='4c775d5a0dc95f5b0ced413953d4947e87c981946ddff084fe70e7bdd9b922e0')}, text='Interest Expense\\nThree Months Ended September 30, Nine Months Ended September 30,\\n(In millions, except per centages) 2021 2022 % Change 2021 2022 % Change\\nInterest expense $ (123) $ (146) 19 %$ (353) $ (414) 17 %\\nPercentage of revenue (3)% (2)% (3)% (2)%\\nThree Months Ended September 30, 2022 Compared with the Same Period in 2021\\nInterest expense increased $23 million, or 19%, primarily attributable to $13 million increase in interest expense on our term loans due to higher LIBOR rate\\nand $8 million interest expense resulting from the issuance of our $1.5 billion 2029 Senior Notes in August 2021.\\nNine Months Ended September 30, 2022 Compared with the Same Period in 2021\\nInterest expense increased $61 million, or 17%, primarily attributable to $43 million interest expense resulting from the issuance of our $1.5 billion 2029\\nSenior Notes in August 2021 and $18 million increase in interest expense on our term loans due to higher LIBOR rate.\\nOther Income (Expense), Net\\nThree Months Ended September 30, Nine Months Ended September 30,\\n(In millions, except per centages) 2021 2022 % Change 2021 2022 % Change\\nInterest income $ 10 $ 38 280 %$ 28 $ 66 136 %\\nForeign currency exchange gains (losses), net (13) (48) (269)% (38) (76) (100)%\\nGain on business divestitures — 14 ** 1,684 14 (99)%\\nUnrealized loss on debt and equity securities,\\nnet (2,031) (550) 73 % (56) (7,797) **\\nImpairment of equity method investment — — ** — (182) **\\nRevaluation of MLU B.V. call option — 10 ** — 180 **\\nOther, net 202 1 (100)% 203 (1) **\\nOther income (expense), net $ (1,832) $ (535) 71 %$ 1,821 $ (7,796) **\\nPercentage of revenue (38)% (6)% 16 % (34)%\\n** Percentage not meaningful.\\nThree Months Ended September 30, 2022 Compared with the Same Period in 2021\\nUnrealized loss on debt and equity securities, net decreased by $1.5 billion primarily due to changes in the fair value of our equity securities, including $641\\nmillion loss on our Didi investment, partially offset by a $90 million gain on our Aurora Investments recognized during the third quarter of 2022, compared with a\\n$3.2 billion loss on our Didi investment, partially offset by a $994 million gain on our Zomato investment, a $102 million gain on our Aurora Investments and a\\n$73 million net gain on our other investments in securities accounted for under the fair value option recognized during the third quarter of 2021. For additional\\ninformation, refer to Note 3 – Investments and Fair Value Measurement in the notes to the condensed consolidated financial statements included in Part I, Item 1, of\\nthis Quarterly Report on Form 10-Q.\\nNine Months Ended September 30, 2022 Compared with the Same Period in 2021\\nGain on business divestitures decreased $1.7 billion primarily due to a $1.6 billion gain on the sale of our ATG Business to Aurora recognized in the first\\nquarter of 2021. For additional information, refer to Note 16 – Divestiture in the notes to the condensed consolidated financial statements included in Part I, Item 1,\\nof this Quarterly Report on Form 10-Q.\\nUnrealized loss on debt and equity securities, net increased by $7.7 billion primarily due to changes in the fair value of our equity securities, including $2.7\\nbillion net loss on our Aurora Investments, a $2.4 billion net loss on our Grab investment, a $1.8 billion net loss on our Didi investment, a $747 million loss on our\\nZomato investment, as well as a $106 million net loss on our other investments in securities during the nine months ended September 30, 2022. For additional\\ninformation, refer to Note 3 – Investments and Fair Value Measurement in the notes to the condensed consolidated financial statements included in Part I, Item 1, of\\nthis Quarterly Report on Form 10-Q.\\n44', start_char_idx=0, end_char_idx=3722, text_template='{metadata_str}\\n\\n{content}', metadata_template='{key}: {value}', metadata_seperator='\\n'), score=0.7656543757992433), NodeWithScore(node=TextNode(id_='6ea809f1-0301-49cb-af11-9c4d3881bca0', embedding=None, metadata={'page_label': '42', 'file_name': 'uber_10q_sept_2022.pdf', 'file_path': 'data/10q/uber_10q_sept_2022.pdf', 'file_type': 'application/pdf', 'file_size': 1178622, 'creation_date': '2024-03-14', 'last_modified_date': '2024-03-14'}, excluded_embed_metadata_keys=['file_name', 'file_type', 'file_size', 'creation_date', 'last_modified_date', 'last_accessed_date'], excluded_llm_metadata_keys=['file_name', 'file_type', 'file_size', 'creation_date', 'last_modified_date', 'last_accessed_date'], relationships={<NodeRelationship.SOURCE: '1'>: RelatedNodeInfo(node_id='f49df15d-ea7b-4885-ac74-f741e9cb47a6', node_type=<ObjectType.DOCUMENT: '4'>, metadata={'page_label': '42', 'file_name': 'uber_10q_sept_2022.pdf', 'file_path': 'data/10q/uber_10q_sept_2022.pdf', 'file_type': 'application/pdf', 'file_size': 1178622, 'creation_date': '2024-03-14', 'last_modified_date': '2024-03-14'}, hash='8c63b6eabdd8e095caab42263394f6819b44ffeffee2dfecb0c1ae2bb0ae62b2'), <NodeRelationship.PREVIOUS: '2'>: RelatedNodeInfo(node_id='c9fe6597-e1ba-4a5e-8634-be84ae40bc1e', node_type=<ObjectType.TEXT: '1'>, metadata={'page_label': '41', 'file_name': 'uber_10q_sept_2022.pdf', 'file_path': 'data/10q/uber_10q_sept_2022.pdf', 'file_type': 'application/pdf', 'file_size': 1178622, 'creation_date': '2024-03-14', 'last_modified_date': '2024-03-14'}, hash='9360a496011f0301a144ff08eca1c08cda3323f51aea371b21bda9249fd0acce'), <NodeRelationship.NEXT: '3'>: RelatedNodeInfo(node_id='87f326d9-c336-4cd2-b76d-622c09c96492', node_type=<ObjectType.TEXT: '1'>, metadata={}, hash='b82e12b06c00fa85b960a2fb21cc734222ec758e0918d640fcf2658d2da2f0c1')}, text='Three Months Ended September 30, Nine Months Ended September 30,\\n2021 2022 2021 2022\\nRevenue 100 % 100 % 100 % 100 %\\nCosts and expenses\\nCost of revenue, exclusive of depreciation and amortization shown separately\\nbelow 50 % 62 % 53 % 62 %\\nOperations and support 10 % 7 % 11 % 8 %\\nSales and marketing 24 % 14 % 30 % 16 %\\nResearch and development 10 % 9 % 13 % 9 %\\nGeneral and administrative 13 % 11 % 15 % 10 %\\nDepreciation and amortization 4 % 3 % 6 % 3 %\\nTotal costs and expenses 112 % 106 % 128 % 107 %\\nLoss from operations (12)% (6)% (28)% (7)%\\nInterest expense (3)% (2)% (3)% (2)%\\nOther income (expense), net (38)% (6)% 16 % (34)%\\nLoss before income taxes and income (loss) from equity method\\ninvestments (52)% (14)% (16)% (43)%\\nProvision for (benefit from) income taxes (2)% 1 % (3)% — %\\nIncome (loss) from equity method investments — % — % — % — %\\nNet loss including non-controlling interests (50)% (14)% (12)% (42)%\\nLess: net income (loss) attributable to non-controlling interests,\\nnet of tax — % — % (1)% — %\\nNet loss attributable to Uber Technologies, Inc. (50)% (14)% (12)% (42)%\\n Totals of percentage of revenues may not foot due to rounding.\\nThe following discussion and analysis is for the three and nine months ended September 30, 2022 compared to same period in 2021.\\nRevenue\\nThree Months Ended September 30, Nine Months Ended September 30,\\n(In millions, except per centages) 2021 2022 % Change 2021 2022 % Change\\nRevenue $ 4,845 $ 8,343 72 %$ 11,677 $ 23,270 99 %\\nThree Months Ended September 30, 2022 Compared with the Same Period in 2021\\nRevenue increased $3.5 billion, or 72%, primarily attributable to an increase in Gross Bookings of 26%, or 32% on a constant currency basis. The increase in\\nGross Bookings was primarily driven by increases in Mobility Trip volumes as the business recovers from the impacts of COVID-19 and a $1.3 billion increase in\\nFreight Gross Bookings resulting primarily from the acquisition of Transplace in the fourth quarter of 2021. Additionally, during the third quarter of 2022, we saw a\\n$1.1 billion increase in Mobility revenue as a result of business model changes in the UK. We also saw a $164 million increase in Delivery revenue resulting from\\nan increase in certain Courier payments and incentives that are recorded in cost of revenue, exclusive of depreciation and amortization, for certain markets where\\nwe are primarily responsible for Delivery services and pay Couriers for services provided.\\nNine Months Ended September 30, 2022 Compared with the Same Period in 2021\\nRevenue increased $11.6 billion, or 99%, primarily attributable to an increase in Gross Bookings of 31%, or 36% on a constant currency basis. The increase in\\nGross Bookings was primarily driven by increases in Mobility Trip volumes as the business recovers from the impacts of COVID-19 and a $4.4 billion increase in\\nFreight Gross Bookings resulting primarily from the acquisition of Transplace in the fourth quarter of 2021. Additionally, during the first nine months of 2022, we\\nsaw a $2.2 billion net increase in Mobility revenue as a result of business model changes in the UK and an accrual made for the resolution of historical claims in\\nthe UK relating to the classification of drivers. We also saw a $751 million increase in Delivery revenue resulting from an increase in certain Courier payments and\\nincentives that are recorded in cost of revenue, exclusive of depreciation and amortization, for certain markets where we are primarily responsible for Delivery\\nservices and pay Couriers for services provided.(1)\\n41', start_char_idx=0, end_char_idx=3554, text_template='{metadata_str}\\n\\n{content}', metadata_template='{key}: {value}', metadata_seperator='\\n'), score=0.7630362081186747), NodeWithScore(node=TextNode(id_='96aa69d3-49f6-4c40-9ff0-a4f8d2a01892', embedding=None, metadata={'page_label': '14', 'file_name': 'uber_10q_sept_2022.pdf', 'file_path': 'data/10q/uber_10q_sept_2022.pdf', 'file_type': 'application/pdf', 'file_size': 1178622, 'creation_date': '2024-03-14', 'last_modified_date': '2024-03-14'}, excluded_embed_metadata_keys=['file_name', 'file_type', 'file_size', 'creation_date', 'last_modified_date', 'last_accessed_date'], excluded_llm_metadata_keys=['file_name', 'file_type', 'file_size', 'creation_date', 'last_modified_date', 'last_accessed_date'], relationships={<NodeRelationship.SOURCE: '1'>: RelatedNodeInfo(node_id='83634784-b273-4ce2-9e01-aa460e1848a1', node_type=<ObjectType.DOCUMENT: '4'>, metadata={'page_label': '14', 'file_name': 'uber_10q_sept_2022.pdf', 'file_path': 'data/10q/uber_10q_sept_2022.pdf', 'file_type': 'application/pdf', 'file_size': 1178622, 'creation_date': '2024-03-14', 'last_modified_date': '2024-03-14'}, hash='71ec5831e076febb4b74695ec6c49d9146e82ebbb7961f2672fbdfe59ac21c29'), <NodeRelationship.PREVIOUS: '2'>: RelatedNodeInfo(node_id='d75c968e-6bcd-4ba8-b7c8-2d476871745d', node_type=<ObjectType.TEXT: '1'>, metadata={'page_label': '13', 'file_name': 'uber_10q_sept_2022.pdf', 'file_path': 'data/10q/uber_10q_sept_2022.pdf', 'file_type': 'application/pdf', 'file_size': 1178622, 'creation_date': '2024-03-14', 'last_modified_date': '2024-03-14'}, hash='b4e48ea489353df656c4553d279410b202e085a635c7b89bd73be5c52fb8b3c8'), <NodeRelationship.NEXT: '3'>: RelatedNodeInfo(node_id='bc2efec6-6ce3-4e3c-90ba-90e73626d09c', node_type=<ObjectType.TEXT: '1'>, metadata={}, hash='269419bab9d5eedfb547f03d976667039ce06d4f0abea22deeffe6aec16118c5')}, text='States; the administration, adoption and efficacy of vaccines globally; the impact on capital, foreign currencies exchange and financial markets; governmental or\\nregulatory orders that impact our business; and whether the impacts may result in permanent changes to our end-users’ behavior, all of which are highly uncertain\\nand cannot be predicted.\\nRecently Adopted Accounting Pronouncements\\nIn November 2021, the FASB issued ASU 2021-10, “Government Assistance (Topic 832): Disclosures by Business Entities about Government Assistance,”\\nwhich requires disclosures about transactions with a government that are accounted for by applying a grant or contribution accounting model by analogy. The\\nstandard is effective for public companies for fiscal years beginning after December 15, 2021. Early adoption is permitted. We adopted the ASU prospectively on\\nJanuary 1, 2022. The additional required annual disclosures are not expected to have a material impact on our consolidated financial statements.\\nRecently Issued Accounting Pronouncements Not Yet Adopted\\nIn October 2021, the FASB issued ASU 2021-08, “Business Combinations (Topic 805): Accounting for Contract Assets and Contract Liabilities from Contracts\\nwith Customers,” which requires entities to apply Topic 606 to recognize and measure contract assets and contract liabilities in a business combination as if the\\nacquiring entity had originated the contracts. The standard is effective for public companies for fiscal years, and interim periods within those fiscal years, beginning\\nafter December 15, 2022. Early adoption is permitted. We are currently evaluating the impact of this accounting standard update on our consolidated financial\\nstatements.\\nIn June 2022, the FASB issued ASU 2022-03, “Fair Value Measurement (Topic 820): Fair Value Measurement of Equity Securities Subject to Contractual Sale\\nRestrictions,” which clarifies that contractual sale restrictions are not considered in measuring fair value of equity securities and requires additional disclosures for\\nequity securities subject to contractual sale restrictions. The standard is effective for public companies for fiscal years beginning after December 15, 2023. Early\\nadoption is permitted. This accounting standard update is not expected to have a material impact on our consolidated financial statements as the amendments align\\nwith our existing policy.\\nIn September 2022, the FASB issued ASU 2022-04, “Liabilities—Supplier Finance Programs (Subtopic 405-50): Disclosure of Supplier Finance Program\\nObligations,” which requires entities that use supplier finance programs in connection with the purchase of goods and services to disclose sufficient information\\nabout the program. The amendments do not affect the recognition, measurement or financial statement presentation of obligations covered by supplier finance\\nprograms. The standard is effective for public companies for fiscal years, and interim periods within those fiscal years, beginning after December 15, 2022, except\\nfor the amendment on roll-forward information, which is effective for fiscal years beginning after December 15, 2023. Early adoption is permitted. We are\\ncurrently evaluating the impact of this accounting standard update on our consolidated financial statements.\\nNote 2 – Revenue\\nThe following tables present our revenues disaggregated by offering and geographical region. Revenue by geographical region is based on where the\\ntransaction occurred. This level of disaggregation takes into consideration how the nature, amount, timing, and uncertainty of revenue and cash flows are affected\\nby economic factors (in millions):\\nThree Months Ended September 30, Nine Months Ended September 30,\\n2021 2022 2021 2022\\nMobility revenue $ 2,205 $ 3,822 $ 4,676 $ 9,893 \\nDelivery revenue 2,238 2,770 5,942 7,970 \\nFreight revenue 402 1,751 1,051 5,407 \\nAll Other revenue — — 8 — \\nTotal revenue $ 4,845 $ 8,343 $ 11,677 $ 23,270 \\nWe offer subscription memberships to end-users including Uber One, Uber Pass, Rides Pass, and Eats Pass (“Subscription”). We recognize Subscription fees\\nratably over the life of the pass. We allocate Subscription fees earned to Mobility and Delivery revenue on a proportional basis, based on usage for each offering\\nduring the respective period.', start_char_idx=0, end_char_idx=4274, text_template='{metadata_str}\\n\\n{content}', metadata_template='{key}: {value}', metadata_seperator='\\n'), score=0.7677614735930945), NodeWithScore(node=TextNode(id_='b747a2fc-beb7-4276-997d-bcf235131a1f', embedding=None, metadata={'page_label': '45', 'file_name': 'uber_10q_sept_2022.pdf', 'file_path': 'data/10q/uber_10q_sept_2022.pdf', 'file_type': 'application/pdf', 'file_size': 1178622, 'creation_date': '2024-03-14', 'last_modified_date': '2024-03-14'}, excluded_embed_metadata_keys=['file_name', 'file_type', 'file_size', 'creation_date', 'last_modified_date', 'last_accessed_date'], excluded_llm_metadata_keys=['file_name', 'file_type', 'file_size', 'creation_date', 'last_modified_date', 'last_accessed_date'], relationships={<NodeRelationship.SOURCE: '1'>: RelatedNodeInfo(node_id='1820dbc9-43b1-430e-9fc1-55b17ea993e7', node_type=<ObjectType.DOCUMENT: '4'>, metadata={'page_label': '45', 'file_name': 'uber_10q_sept_2022.pdf', 'file_path': 'data/10q/uber_10q_sept_2022.pdf', 'file_type': 'application/pdf', 'file_size': 1178622, 'creation_date': '2024-03-14', 'last_modified_date': '2024-03-14'}, hash='bf6962512aa38cacb11143f29194155d77246872c61d8b7ac53b3d522ac55c1c'), <NodeRelationship.PREVIOUS: '2'>: RelatedNodeInfo(node_id='b8031666-4242-42c5-afb1-f3fe0438fce3', node_type=<ObjectType.TEXT: '1'>, metadata={'page_label': '44', 'file_name': 'uber_10q_sept_2022.pdf', 'file_path': 'data/10q/uber_10q_sept_2022.pdf', 'file_type': 'application/pdf', 'file_size': 1178622, 'creation_date': '2024-03-14', 'last_modified_date': '2024-03-14'}, hash='f974c535428a00b8e633696d165dc5043f71627d44b96a1015fb8f089f1ccdbb'), <NodeRelationship.NEXT: '3'>: RelatedNodeInfo(node_id='8869514e-8c78-454a-8240-99fd3cab55aa', node_type=<ObjectType.TEXT: '1'>, metadata={}, hash='4c775d5a0dc95f5b0ced413953d4947e87c981946ddff084fe70e7bdd9b922e0')}, text='Interest Expense\\nThree Months Ended September 30, Nine Months Ended September 30,\\n(In millions, except per centages) 2021 2022 % Change 2021 2022 % Change\\nInterest expense $ (123) $ (146) 19 %$ (353) $ (414) 17 %\\nPercentage of revenue (3)% (2)% (3)% (2)%\\nThree Months Ended September 30, 2022 Compared with the Same Period in 2021\\nInterest expense increased $23 million, or 19%, primarily attributable to $13 million increase in interest expense on our term loans due to higher LIBOR rate\\nand $8 million interest expense resulting from the issuance of our $1.5 billion 2029 Senior Notes in August 2021.\\nNine Months Ended September 30, 2022 Compared with the Same Period in 2021\\nInterest expense increased $61 million, or 17%, primarily attributable to $43 million interest expense resulting from the issuance of our $1.5 billion 2029\\nSenior Notes in August 2021 and $18 million increase in interest expense on our term loans due to higher LIBOR rate.\\nOther Income (Expense), Net\\nThree Months Ended September 30, Nine Months Ended September 30,\\n(In millions, except per centages) 2021 2022 % Change 2021 2022 % Change\\nInterest income $ 10 $ 38 280 %$ 28 $ 66 136 %\\nForeign currency exchange gains (losses), net (13) (48) (269)% (38) (76) (100)%\\nGain on business divestitures — 14 ** 1,684 14 (99)%\\nUnrealized loss on debt and equity securities,\\nnet (2,031) (550) 73 % (56) (7,797) **\\nImpairment of equity method investment — — ** — (182) **\\nRevaluation of MLU B.V. call option — 10 ** — 180 **\\nOther, net 202 1 (100)% 203 (1) **\\nOther income (expense), net $ (1,832) $ (535) 71 %$ 1,821 $ (7,796) **\\nPercentage of revenue (38)% (6)% 16 % (34)%\\n** Percentage not meaningful.\\nThree Months Ended September 30, 2022 Compared with the Same Period in 2021\\nUnrealized loss on debt and equity securities, net decreased by $1.5 billion primarily due to changes in the fair value of our equity securities, including $641\\nmillion loss on our Didi investment, partially offset by a $90 million gain on our Aurora Investments recognized during the third quarter of 2022, compared with a\\n$3.2 billion loss on our Didi investment, partially offset by a $994 million gain on our Zomato investment, a $102 million gain on our Aurora Investments and a\\n$73 million net gain on our other investments in securities accounted for under the fair value option recognized during the third quarter of 2021. For additional\\ninformation, refer to Note 3 – Investments and Fair Value Measurement in the notes to the condensed consolidated financial statements included in Part I, Item 1, of\\nthis Quarterly Report on Form 10-Q.\\nNine Months Ended September 30, 2022 Compared with the Same Period in 2021\\nGain on business divestitures decreased $1.7 billion primarily due to a $1.6 billion gain on the sale of our ATG Business to Aurora recognized in the first\\nquarter of 2021. For additional information, refer to Note 16 – Divestiture in the notes to the condensed consolidated financial statements included in Part I, Item 1,\\nof this Quarterly Report on Form 10-Q.\\nUnrealized loss on debt and equity securities, net increased by $7.7 billion primarily due to changes in the fair value of our equity securities, including $2.7\\nbillion net loss on our Aurora Investments, a $2.4 billion net loss on our Grab investment, a $1.8 billion net loss on our Didi investment, a $747 million loss on our\\nZomato investment, as well as a $106 million net loss on our other investments in securities during the nine months ended September 30, 2022. For additional\\ninformation, refer to Note 3 – Investments and Fair Value Measurement in the notes to the condensed consolidated financial statements included in Part I, Item 1, of\\nthis Quarterly Report on Form 10-Q.\\n44', start_char_idx=0, end_char_idx=3722, text_template='{metadata_str}\\n\\n{content}', metadata_template='{key}: {value}', metadata_seperator='\\n'), score=0.7656543757992433), NodeWithScore(node=TextNode(id_='6ea809f1-0301-49cb-af11-9c4d3881bca0', embedding=None, metadata={'page_label': '42', 'file_name': 'uber_10q_sept_2022.pdf', 'file_path': 'data/10q/uber_10q_sept_2022.pdf', 'file_type': 'application/pdf', 'file_size': 1178622, 'creation_date': '2024-03-14', 'last_modified_date': '2024-03-14'}, excluded_embed_metadata_keys=['file_name', 'file_type', 'file_size', 'creation_date', 'last_modified_date', 'last_accessed_date'], excluded_llm_metadata_keys=['file_name', 'file_type', 'file_size', 'creation_date', 'last_modified_date', 'last_accessed_date'], relationships={<NodeRelationship.SOURCE: '1'>: RelatedNodeInfo(node_id='f49df15d-ea7b-4885-ac74-f741e9cb47a6', node_type=<ObjectType.DOCUMENT: '4'>, metadata={'page_label': '42', 'file_name': 'uber_10q_sept_2022.pdf', 'file_path': 'data/10q/uber_10q_sept_2022.pdf', 'file_type': 'application/pdf', 'file_size': 1178622, 'creation_date': '2024-03-14', 'last_modified_date': '2024-03-14'}, hash='8c63b6eabdd8e095caab42263394f6819b44ffeffee2dfecb0c1ae2bb0ae62b2'), <NodeRelationship.PREVIOUS: '2'>: RelatedNodeInfo(node_id='c9fe6597-e1ba-4a5e-8634-be84ae40bc1e', node_type=<ObjectType.TEXT: '1'>, metadata={'page_label': '41', 'file_name': 'uber_10q_sept_2022.pdf', 'file_path': 'data/10q/uber_10q_sept_2022.pdf', 'file_type': 'application/pdf', 'file_size': 1178622, 'creation_date': '2024-03-14', 'last_modified_date': '2024-03-14'}, hash='9360a496011f0301a144ff08eca1c08cda3323f51aea371b21bda9249fd0acce'), <NodeRelationship.NEXT: '3'>: RelatedNodeInfo(node_id='87f326d9-c336-4cd2-b76d-622c09c96492', node_type=<ObjectType.TEXT: '1'>, metadata={}, hash='b82e12b06c00fa85b960a2fb21cc734222ec758e0918d640fcf2658d2da2f0c1')}, text='Three Months Ended September 30, Nine Months Ended September 30,\\n2021 2022 2021 2022\\nRevenue 100 % 100 % 100 % 100 %\\nCosts and expenses\\nCost of revenue, exclusive of depreciation and amortization shown separately\\nbelow 50 % 62 % 53 % 62 %\\nOperations and support 10 % 7 % 11 % 8 %\\nSales and marketing 24 % 14 % 30 % 16 %\\nResearch and development 10 % 9 % 13 % 9 %\\nGeneral and administrative 13 % 11 % 15 % 10 %\\nDepreciation and amortization 4 % 3 % 6 % 3 %\\nTotal costs and expenses 112 % 106 % 128 % 107 %\\nLoss from operations (12)% (6)% (28)% (7)%\\nInterest expense (3)% (2)% (3)% (2)%\\nOther income (expense), net (38)% (6)% 16 % (34)%\\nLoss before income taxes and income (loss) from equity method\\ninvestments (52)% (14)% (16)% (43)%\\nProvision for (benefit from) income taxes (2)% 1 % (3)% — %\\nIncome (loss) from equity method investments — % — % — % — %\\nNet loss including non-controlling interests (50)% (14)% (12)% (42)%\\nLess: net income (loss) attributable to non-controlling interests,\\nnet of tax — % — % (1)% — %\\nNet loss attributable to Uber Technologies, Inc. (50)% (14)% (12)% (42)%\\n Totals of percentage of revenues may not foot due to rounding.\\nThe following discussion and analysis is for the three and nine months ended September 30, 2022 compared to same period in 2021.\\nRevenue\\nThree Months Ended September 30, Nine Months Ended September 30,\\n(In millions, except per centages) 2021 2022 % Change 2021 2022 % Change\\nRevenue $ 4,845 $ 8,343 72 %$ 11,677 $ 23,270 99 %\\nThree Months Ended September 30, 2022 Compared with the Same Period in 2021\\nRevenue increased $3.5 billion, or 72%, primarily attributable to an increase in Gross Bookings of 26%, or 32% on a constant currency basis. The increase in\\nGross Bookings was primarily driven by increases in Mobility Trip volumes as the business recovers from the impacts of COVID-19 and a $1.3 billion increase in\\nFreight Gross Bookings resulting primarily from the acquisition of Transplace in the fourth quarter of 2021. Additionally, during the third quarter of 2022, we saw a\\n$1.1 billion increase in Mobility revenue as a result of business model changes in the UK. We also saw a $164 million increase in Delivery revenue resulting from\\nan increase in certain Courier payments and incentives that are recorded in cost of revenue, exclusive of depreciation and amortization, for certain markets where\\nwe are primarily responsible for Delivery services and pay Couriers for services provided.\\nNine Months Ended September 30, 2022 Compared with the Same Period in 2021\\nRevenue increased $11.6 billion, or 99%, primarily attributable to an increase in Gross Bookings of 31%, or 36% on a constant currency basis. The increase in\\nGross Bookings was primarily driven by increases in Mobility Trip volumes as the business recovers from the impacts of COVID-19 and a $4.4 billion increase in\\nFreight Gross Bookings resulting primarily from the acquisition of Transplace in the fourth quarter of 2021. Additionally, during the first nine months of 2022, we\\nsaw a $2.2 billion net increase in Mobility revenue as a result of business model changes in the UK and an accrual made for the resolution of historical claims in\\nthe UK relating to the classification of drivers. We also saw a $751 million increase in Delivery revenue resulting from an increase in certain Courier payments and\\nincentives that are recorded in cost of revenue, exclusive of depreciation and amortization, for certain markets where we are primarily responsible for Delivery\\nservices and pay Couriers for services provided.(1)\\n41', start_char_idx=0, end_char_idx=3554, text_template='{metadata_str}\\n\\n{content}', metadata_template='{key}: {value}', metadata_seperator='\\n'), score=0.7630362081186747)])"
            ]
          },
          "metadata": {},
          "execution_count": 15
        }
      ],
      "source": [
        "context_agent.chat(\"What is the X and Z in September 2022?\")"
      ]
    },
    {
      "cell_type": "markdown",
      "id": "ad81c4e1-4ecb-405d-bb03-a4c3549816e7",
      "metadata": {
        "id": "ad81c4e1-4ecb-405d-bb03-a4c3549816e7"
      },
      "source": [
        "### Use Uber 10-Q as context, use Calculator as Tool"
      ]
    },
    {
      "cell_type": "code",
      "execution_count": 16,
      "id": "f8dc898e-5fe0-45a2-8e04-debdaeb2c1bb",
      "metadata": {
        "id": "f8dc898e-5fe0-45a2-8e04-debdaeb2c1bb"
      },
      "outputs": [],
      "source": [
        "from llama_index.core.tools import BaseTool, FunctionTool\n",
        "\n",
        "\n",
        "def magic_formula(revenue: int, cost: int) -> int:\n",
        "    \"\"\"Runs MAGIC_FORMULA on revenue and cost.\"\"\"\n",
        "    return revenue - cost\n",
        "\n",
        "\n",
        "magic_tool = FunctionTool.from_defaults(fn=magic_formula, name=\"magic_formula\")"
      ]
    },
    {
      "cell_type": "code",
      "execution_count": 17,
      "id": "4dc2e5b7-3b41-43ea-91db-847cf28fc6a8",
      "metadata": {
        "id": "4dc2e5b7-3b41-43ea-91db-847cf28fc6a8"
      },
      "outputs": [],
      "source": [
        "context_agent = ContextRetrieverOpenAIAgent.from_tools_and_retriever(\n",
        "    [magic_tool], sept_index.as_retriever(similarity_top_k=3), verbose=True\n",
        ")"
      ]
    },
    {
      "cell_type": "code",
      "execution_count": 18,
      "id": "99b9a0f8-0029-495c-a44b-913d1e0556e9",
      "metadata": {
        "id": "99b9a0f8-0029-495c-a44b-913d1e0556e9",
        "outputId": "b7ee4927-9f04-44d7-d335-46ee3f715c8c",
        "colab": {
          "base_uri": "https://localhost:8080/"
        }
      },
      "outputs": [
        {
          "output_type": "stream",
          "name": "stdout",
          "text": [
            "\u001b[1;3;33mContext information is below.\n",
            "---------------------\n",
            "UBER TECHNOLOGIES, INC.\n",
            "CONDENSED CONSOLIDATED STATEMENTS OF OPERATIONS\n",
            "(In millions, except share amounts which are reflected in thousands, and per share amounts)\n",
            "(Unaudited)\n",
            "Three Months Ended September  30, Nine Months Ended September  30,\n",
            "2021 2022 2021 2022\n",
            "Revenue $ 4,845 $ 8,343 $ 11,677 $ 23,270 \n",
            "Costs and expenses\n",
            "Cost of revenue, exclusive of depreciation and amortization shown separately\n",
            "below 2,438 5,173 6,247 14,352 \n",
            "Operations and support 475 617 1,330 1,808 \n",
            "Sales and marketing 1,168 1,153 3,527 3,634 \n",
            "Research and development 493 760 1,496 2,051 \n",
            "General and administrative 625 908 1,705 2,391 \n",
            "Depreciation and amortization 218 227 656 724 \n",
            "Total costs and expenses 5,417 8,838 14,961 24,960 \n",
            "Loss from operations (572) (495) (3,284) (1,690)\n",
            "Interest expense (123) (146) (353) (414)\n",
            "Other income (expense), net (1,832) (535) 1,821 (7,796)\n",
            "Loss before income taxes and income (loss) from equity method investments (2,527) (1,176) (1,816) (9,900)\n",
            "Provision for (benefit from) income taxes (101) 58 (395) (97)\n",
            "Income (loss) from equity method investments (13) 30 (28) 65 \n",
            "Net loss including non-controlling interests (2,439) (1,204) (1,449) (9,738)\n",
            "Less: net income (loss) attributable to non-controlling interests, net of\n",
            "tax (15) 2 (61) (2)\n",
            "Net loss attributable to Uber Technologies, Inc. $ (2,424)$ (1,206)$ (1,388)$ (9,736)\n",
            "Net loss per share attributable to Uber Technologies, Inc. common\n",
            "stockholders:\n",
            "Basic $ (1.28)$ (0.61)$ (0.74)$ (4.96)\n",
            "Diluted $ (1.28)$ (0.61)$ (0.75)$ (4.97)\n",
            "Weighted-average shares used to compute net loss per share attributable to\n",
            "common stockholders:\n",
            "Basic 1,898,954 1,979,299 1,877,655 1,964,483 \n",
            "Diluted 1,898,954 1,979,299 1,878,997 1,968,228 \n",
            "The accompanying notes are an integral part of these condensed consolidated financial statements.\n",
            "5\n",
            "Three Months Ended September 30, Nine Months Ended September 30,\n",
            "2021 2022 2021 2022\n",
            "Revenue 100 % 100 % 100 % 100 %\n",
            "Costs and expenses\n",
            "Cost of revenue, exclusive of depreciation and amortization shown separately\n",
            "below 50 % 62 % 53 % 62 %\n",
            "Operations and support 10 % 7 % 11 % 8 %\n",
            "Sales and marketing 24 % 14 % 30 % 16 %\n",
            "Research and development 10 % 9 % 13 % 9 %\n",
            "General and administrative 13 % 11 % 15 % 10 %\n",
            "Depreciation and amortization 4 % 3 % 6 % 3 %\n",
            "Total costs and expenses 112 % 106 % 128 % 107 %\n",
            "Loss from operations (12)% (6)% (28)% (7)%\n",
            "Interest expense (3)% (2)% (3)% (2)%\n",
            "Other income (expense), net (38)% (6)% 16 % (34)%\n",
            "Loss before income taxes and income (loss) from equity method\n",
            "investments (52)% (14)% (16)% (43)%\n",
            "Provision for (benefit from) income taxes (2)% 1 % (3)% — %\n",
            "Income (loss) from equity method investments — % — % — % — %\n",
            "Net loss including non-controlling interests (50)% (14)% (12)% (42)%\n",
            "Less: net income (loss) attributable to non-controlling interests,\n",
            "net of tax — % — % (1)% — %\n",
            "Net loss attributable to Uber Technologies, Inc. (50)% (14)% (12)% (42)%\n",
            " Totals of percentage of revenues may not foot due to rounding.\n",
            "The following discussion and analysis is for the three and nine months ended September 30, 2022 compared to same period in 2021.\n",
            "Revenue\n",
            "Three Months Ended September 30, Nine Months Ended September 30,\n",
            "(In millions, except per centages) 2021 2022 % Change 2021 2022 % Change\n",
            "Revenue $ 4,845 $ 8,343 72 %$ 11,677 $ 23,270 99 %\n",
            "Three Months Ended September 30, 2022 Compared with the Same Period in 2021\n",
            "Revenue increased $3.5 billion, or 72%, primarily attributable to an increase in Gross Bookings of 26%, or 32% on a constant currency basis. The increase in\n",
            "Gross Bookings was primarily driven by increases in Mobility Trip volumes as the business recovers from the impacts of COVID-19 and a $1.3 billion increase in\n",
            "Freight Gross Bookings resulting primarily from the acquisition of Transplace in the fourth quarter of 2021. Additionally, during the third quarter of 2022, we saw a\n",
            "$1.1 billion increase in Mobility revenue as a result of business model changes in the UK. We also saw a $164 million increase in Delivery revenue resulting from\n",
            "an increase in certain Courier payments and incentives that are recorded in cost of revenue, exclusive of depreciation and amortization, for certain markets where\n",
            "we are primarily responsible for Delivery services and pay Couriers for services provided.\n",
            "Nine Months Ended September 30, 2022 Compared with the Same Period in 2021\n",
            "Revenue increased $11.6 billion, or 99%, primarily attributable to an increase in Gross Bookings of 31%, or 36% on a constant currency basis. The increase in\n",
            "Gross Bookings was primarily driven by increases in Mobility Trip volumes as the business recovers from the impacts of COVID-19 and a $4.4 billion increase in\n",
            "Freight Gross Bookings resulting primarily from the acquisition of Transplace in the fourth quarter of 2021. Additionally, during the first nine months of 2022, we\n",
            "saw a $2.2 billion net increase in Mobility revenue as a result of business model changes in the UK and an accrual made for the resolution of historical claims in\n",
            "the UK relating to the classification of drivers. We also saw a $751 million increase in Delivery revenue resulting from an increase in certain Courier payments and\n",
            "incentives that are recorded in cost of revenue, exclusive of depreciation and amortization, for certain markets where we are primarily responsible for Delivery\n",
            "services and pay Couriers for services provided.(1)\n",
            "41\n",
            "Results of Operations\n",
            "The following table summarizes our condensed consolidated statements of operations for each of the periods presented (in millions):\n",
            "Three Months Ended September 30, Nine Months Ended September 30,\n",
            "2021 2022 2021 2022\n",
            "Revenue $ 4,845 $ 8,343 $ 11,677 $ 23,270 \n",
            "Costs and expenses\n",
            "Cost of revenue, exclusive of depreciation and amortization shown separately\n",
            "below 2,438 5,173 6,247 14,352 \n",
            "Operations and support 475 617 1,330 1,808 \n",
            "Sales and marketing 1,168 1,153 3,527 3,634 \n",
            "Research and development 493 760 1,496 2,051 \n",
            "General and administrative 625 908 1,705 2,391 \n",
            "Depreciation and amortization 218 227 656 724 \n",
            "Total costs and expenses 5,417 8,838 14,961 24,960 \n",
            "Loss from operations (572) (495) (3,284) (1,690)\n",
            "Interest expense (123) (146) (353) (414)\n",
            "Other income (expense), net (1,832) (535) 1,821 (7,796)\n",
            "Loss before income taxes and income (loss) from equity method\n",
            "investments (2,527) (1,176) (1,816) (9,900)\n",
            "Provision for (benefit from) income taxes (101) 58 (395) (97)\n",
            "Income (loss) from equity method investments (13) 30 (28) 65 \n",
            "Net loss including non-controlling interests (2,439) (1,204) (1,449) (9,738)\n",
            "Less: net income (loss) attributable to non-controlling interests, net\n",
            "of tax (15) 2 (61) (2)\n",
            "Net loss attributable to Uber Technologies, Inc. $ (2,424)$ (1,206)$ (1,388)$ (9,736)\n",
            "The following table sets forth the components of our condensed consolidated statements of operations for each of the periods presented as a percentage of\n",
            "revenue :(1)\n",
            "40\n",
            "---------------------\n",
            "Given the context information and not prior knowledge, either pick the corresponding tool or answer the function: Can you run MAGIC_FORMULA on Uber's revenue and cost?\n",
            "\n",
            "\u001b[0mSTARTING TURN 1\n",
            "---------------\n",
            "\n",
            "=== Calling Function ===\n",
            "Calling function: magic_formula with args: {\"revenue\":23400,\"cost\":24960}\n",
            "Got output: -1560\n",
            "========================\n",
            "\n",
            "STARTING TURN 2\n",
            "---------------\n",
            "\n"
          ]
        }
      ],
      "source": [
        "response = context_agent.chat(\n",
        "    \"Can you run MAGIC_FORMULA on Uber's revenue and cost?\"\n",
        ")"
      ]
    },
    {
      "cell_type": "code",
      "execution_count": 19,
      "id": "9830d9d8-ea62-4c23-af3a-e2fdd46d90d4",
      "metadata": {
        "id": "9830d9d8-ea62-4c23-af3a-e2fdd46d90d4",
        "outputId": "ab2e2ea9-3805-4f3e-8dd3-6a5cd0301bdb",
        "colab": {
          "base_uri": "https://localhost:8080/"
        }
      },
      "outputs": [
        {
          "output_type": "stream",
          "name": "stdout",
          "text": [
            "The result of running the MAGIC_FORMULA on Uber's revenue and cost is -1560.\n"
          ]
        }
      ],
      "source": [
        "print(response)"
      ]
    }
  ],
  "metadata": {
    "kernelspec": {
      "display_name": "llama_index_v2",
      "language": "python",
      "name": "llama_index_v2"
    },
    "language_info": {
      "codemirror_mode": {
        "name": "ipython",
        "version": 3
      },
      "file_extension": ".py",
      "mimetype": "text/x-python",
      "name": "python",
      "nbconvert_exporter": "python",
      "pygments_lexer": "ipython3"
    },
    "colab": {
      "provenance": []
    }
  },
  "nbformat": 4,
  "nbformat_minor": 5
}