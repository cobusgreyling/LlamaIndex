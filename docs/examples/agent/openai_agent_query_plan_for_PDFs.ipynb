{
  "cells": [
    {
      "cell_type": "markdown",
      "id": "fa593487",
      "metadata": {
        "id": "fa593487"
      },
      "source": [
        "<a href=\"https://colab.research.google.com/github/run-llama/llama_index/blob/main/docs/examples/agent/openai_agent_query_plan.ipynb\" target=\"_parent\"><img src=\"https://colab.research.google.com/assets/colab-badge.svg\" alt=\"Open In Colab\"/></a>"
      ]
    },
    {
      "cell_type": "markdown",
      "id": "034e355d-83a0-4bd2-877e-0f493c5f713d",
      "metadata": {
        "id": "034e355d-83a0-4bd2-877e-0f493c5f713d"
      },
      "source": [
        "# OpenAI Agent Query Planning\n",
        "In this demo, we explore adding a `QueryPlanTool` to an `OpenAIAgent`. This effectively enables the agent\n",
        "to do advanced query planning, all through a single tool!\n",
        "\n",
        "The `QueryPlanTool` is designed to work well with the OpenAI Function API. The tool takes in a set of other tools as input.\n",
        "The tool function signature contains of a QueryPlan Pydantic object, which can in turn contain a DAG of QueryNode objects defining a compute graph.\n",
        "The agent is responsible for defining this graph through the function signature when calling the tool. The tool itself executes the DAG over any corresponding tools.\n",
        "\n",
        "In this setting we use a familiar example: Uber 10Q filings in March, June, and September of 2022."
      ]
    },
    {
      "cell_type": "markdown",
      "id": "dc72e6f9",
      "metadata": {
        "id": "dc72e6f9"
      },
      "source": [
        "If you're opening this Notebook on colab, you will probably need to install LlamaIndex 🦙."
      ]
    },
    {
      "cell_type": "code",
      "execution_count": 1,
      "id": "4df080d3",
      "metadata": {
        "id": "4df080d3",
        "outputId": "e9d06dc7-705a-4efb-cf38-6424728c2701",
        "colab": {
          "base_uri": "https://localhost:8080/"
        }
      },
      "outputs": [
        {
          "output_type": "stream",
          "name": "stdout",
          "text": [
            "Collecting llama-index\n",
            "  Downloading llama_index-0.9.41-py3-none-any.whl (15.9 MB)\n",
            "\u001b[2K     \u001b[90m━━━━━━━━━━━━━━━━━━━━━━━━━━━━━━━━━━━━━━━━\u001b[0m \u001b[32m15.9/15.9 MB\u001b[0m \u001b[31m68.1 MB/s\u001b[0m eta \u001b[36m0:00:00\u001b[0m\n",
            "\u001b[?25hRequirement already satisfied: SQLAlchemy[asyncio]>=1.4.49 in /usr/local/lib/python3.10/dist-packages (from llama-index) (2.0.24)\n",
            "Requirement already satisfied: aiohttp<4.0.0,>=3.8.6 in /usr/local/lib/python3.10/dist-packages (from llama-index) (3.9.3)\n",
            "Collecting dataclasses-json (from llama-index)\n",
            "  Downloading dataclasses_json-0.6.4-py3-none-any.whl (28 kB)\n",
            "Collecting deprecated>=1.2.9.3 (from llama-index)\n",
            "  Downloading Deprecated-1.2.14-py2.py3-none-any.whl (9.6 kB)\n",
            "Collecting dirtyjson<2.0.0,>=1.0.8 (from llama-index)\n",
            "  Downloading dirtyjson-1.0.8-py3-none-any.whl (25 kB)\n",
            "Requirement already satisfied: fsspec>=2023.5.0 in /usr/local/lib/python3.10/dist-packages (from llama-index) (2023.6.0)\n",
            "Collecting httpx (from llama-index)\n",
            "  Downloading httpx-0.26.0-py3-none-any.whl (75 kB)\n",
            "\u001b[2K     \u001b[90m━━━━━━━━━━━━━━━━━━━━━━━━━━━━━━━━━━━━━━━━\u001b[0m \u001b[32m75.9/75.9 kB\u001b[0m \u001b[31m10.0 MB/s\u001b[0m eta \u001b[36m0:00:00\u001b[0m\n",
            "\u001b[?25hRequirement already satisfied: nest-asyncio<2.0.0,>=1.5.8 in /usr/local/lib/python3.10/dist-packages (from llama-index) (1.6.0)\n",
            "Requirement already satisfied: networkx>=3.0 in /usr/local/lib/python3.10/dist-packages (from llama-index) (3.2.1)\n",
            "Requirement already satisfied: nltk<4.0.0,>=3.8.1 in /usr/local/lib/python3.10/dist-packages (from llama-index) (3.8.1)\n",
            "Requirement already satisfied: numpy in /usr/local/lib/python3.10/dist-packages (from llama-index) (1.23.5)\n",
            "Collecting openai>=1.1.0 (from llama-index)\n",
            "  Downloading openai-1.10.0-py3-none-any.whl (225 kB)\n",
            "\u001b[2K     \u001b[90m━━━━━━━━━━━━━━━━━━━━━━━━━━━━━━━━━━━━━━━━\u001b[0m \u001b[32m225.1/225.1 kB\u001b[0m \u001b[31m23.1 MB/s\u001b[0m eta \u001b[36m0:00:00\u001b[0m\n",
            "\u001b[?25hRequirement already satisfied: pandas in /usr/local/lib/python3.10/dist-packages (from llama-index) (1.5.3)\n",
            "Requirement already satisfied: requests>=2.31.0 in /usr/local/lib/python3.10/dist-packages (from llama-index) (2.31.0)\n",
            "Requirement already satisfied: tenacity<9.0.0,>=8.2.0 in /usr/local/lib/python3.10/dist-packages (from llama-index) (8.2.3)\n",
            "Collecting tiktoken>=0.3.3 (from llama-index)\n",
            "  Downloading tiktoken-0.5.2-cp310-cp310-manylinux_2_17_x86_64.manylinux2014_x86_64.whl (2.0 MB)\n",
            "\u001b[2K     \u001b[90m━━━━━━━━━━━━━━━━━━━━━━━━━━━━━━━━━━━━━━━━\u001b[0m \u001b[32m2.0/2.0 MB\u001b[0m \u001b[31m68.5 MB/s\u001b[0m eta \u001b[36m0:00:00\u001b[0m\n",
            "\u001b[?25hRequirement already satisfied: typing-extensions>=4.5.0 in /usr/local/lib/python3.10/dist-packages (from llama-index) (4.5.0)\n",
            "Collecting typing-inspect>=0.8.0 (from llama-index)\n",
            "  Downloading typing_inspect-0.9.0-py3-none-any.whl (8.8 kB)\n",
            "Requirement already satisfied: aiosignal>=1.1.2 in /usr/local/lib/python3.10/dist-packages (from aiohttp<4.0.0,>=3.8.6->llama-index) (1.3.1)\n",
            "Requirement already satisfied: attrs>=17.3.0 in /usr/local/lib/python3.10/dist-packages (from aiohttp<4.0.0,>=3.8.6->llama-index) (23.2.0)\n",
            "Requirement already satisfied: frozenlist>=1.1.1 in /usr/local/lib/python3.10/dist-packages (from aiohttp<4.0.0,>=3.8.6->llama-index) (1.4.1)\n",
            "Requirement already satisfied: multidict<7.0,>=4.5 in /usr/local/lib/python3.10/dist-packages (from aiohttp<4.0.0,>=3.8.6->llama-index) (6.0.4)\n",
            "Requirement already satisfied: yarl<2.0,>=1.0 in /usr/local/lib/python3.10/dist-packages (from aiohttp<4.0.0,>=3.8.6->llama-index) (1.9.4)\n",
            "Requirement already satisfied: async-timeout<5.0,>=4.0 in /usr/local/lib/python3.10/dist-packages (from aiohttp<4.0.0,>=3.8.6->llama-index) (4.0.3)\n",
            "Requirement already satisfied: wrapt<2,>=1.10 in /usr/local/lib/python3.10/dist-packages (from deprecated>=1.2.9.3->llama-index) (1.14.1)\n",
            "Requirement already satisfied: click in /usr/local/lib/python3.10/dist-packages (from nltk<4.0.0,>=3.8.1->llama-index) (8.1.7)\n",
            "Requirement already satisfied: joblib in /usr/local/lib/python3.10/dist-packages (from nltk<4.0.0,>=3.8.1->llama-index) (1.3.2)\n",
            "Requirement already satisfied: regex>=2021.8.3 in /usr/local/lib/python3.10/dist-packages (from nltk<4.0.0,>=3.8.1->llama-index) (2023.6.3)\n",
            "Requirement already satisfied: tqdm in /usr/local/lib/python3.10/dist-packages (from nltk<4.0.0,>=3.8.1->llama-index) (4.66.1)\n",
            "Requirement already satisfied: anyio<5,>=3.5.0 in /usr/local/lib/python3.10/dist-packages (from openai>=1.1.0->llama-index) (3.7.1)\n",
            "Requirement already satisfied: distro<2,>=1.7.0 in /usr/lib/python3/dist-packages (from openai>=1.1.0->llama-index) (1.7.0)\n",
            "Requirement already satisfied: pydantic<3,>=1.9.0 in /usr/local/lib/python3.10/dist-packages (from openai>=1.1.0->llama-index) (1.10.14)\n",
            "Requirement already satisfied: sniffio in /usr/local/lib/python3.10/dist-packages (from openai>=1.1.0->llama-index) (1.3.0)\n",
            "Collecting typing-extensions>=4.5.0 (from llama-index)\n",
            "  Downloading typing_extensions-4.9.0-py3-none-any.whl (32 kB)\n",
            "Requirement already satisfied: certifi in /usr/local/lib/python3.10/dist-packages (from httpx->llama-index) (2023.11.17)\n",
            "Collecting httpcore==1.* (from httpx->llama-index)\n",
            "  Downloading httpcore-1.0.2-py3-none-any.whl (76 kB)\n",
            "\u001b[2K     \u001b[90m━━━━━━━━━━━━━━━━━━━━━━━━━━━━━━━━━━━━━━━━\u001b[0m \u001b[32m76.9/76.9 kB\u001b[0m \u001b[31m9.7 MB/s\u001b[0m eta \u001b[36m0:00:00\u001b[0m\n",
            "\u001b[?25hRequirement already satisfied: idna in /usr/local/lib/python3.10/dist-packages (from httpx->llama-index) (3.6)\n",
            "Collecting h11<0.15,>=0.13 (from httpcore==1.*->httpx->llama-index)\n",
            "  Downloading h11-0.14.0-py3-none-any.whl (58 kB)\n",
            "\u001b[2K     \u001b[90m━━━━━━━━━━━━━━━━━━━━━━━━━━━━━━━━━━━━━━━━\u001b[0m \u001b[32m58.3/58.3 kB\u001b[0m \u001b[31m7.2 MB/s\u001b[0m eta \u001b[36m0:00:00\u001b[0m\n",
            "\u001b[?25hRequirement already satisfied: charset-normalizer<4,>=2 in /usr/local/lib/python3.10/dist-packages (from requests>=2.31.0->llama-index) (3.3.2)\n",
            "Requirement already satisfied: urllib3<3,>=1.21.1 in /usr/local/lib/python3.10/dist-packages (from requests>=2.31.0->llama-index) (2.0.7)\n",
            "Requirement already satisfied: greenlet!=0.4.17 in /usr/local/lib/python3.10/dist-packages (from SQLAlchemy[asyncio]>=1.4.49->llama-index) (3.0.3)\n",
            "Collecting mypy-extensions>=0.3.0 (from typing-inspect>=0.8.0->llama-index)\n",
            "  Downloading mypy_extensions-1.0.0-py3-none-any.whl (4.7 kB)\n",
            "Collecting marshmallow<4.0.0,>=3.18.0 (from dataclasses-json->llama-index)\n",
            "  Downloading marshmallow-3.20.2-py3-none-any.whl (49 kB)\n",
            "\u001b[2K     \u001b[90m━━━━━━━━━━━━━━━━━━━━━━━━━━━━━━━━━━━━━━━━\u001b[0m \u001b[32m49.4/49.4 kB\u001b[0m \u001b[31m6.8 MB/s\u001b[0m eta \u001b[36m0:00:00\u001b[0m\n",
            "\u001b[?25hRequirement already satisfied: python-dateutil>=2.8.1 in /usr/local/lib/python3.10/dist-packages (from pandas->llama-index) (2.8.2)\n",
            "Requirement already satisfied: pytz>=2020.1 in /usr/local/lib/python3.10/dist-packages (from pandas->llama-index) (2023.4)\n",
            "Requirement already satisfied: exceptiongroup in /usr/local/lib/python3.10/dist-packages (from anyio<5,>=3.5.0->openai>=1.1.0->llama-index) (1.2.0)\n",
            "Requirement already satisfied: packaging>=17.0 in /usr/local/lib/python3.10/dist-packages (from marshmallow<4.0.0,>=3.18.0->dataclasses-json->llama-index) (23.2)\n",
            "Requirement already satisfied: six>=1.5 in /usr/local/lib/python3.10/dist-packages (from python-dateutil>=2.8.1->pandas->llama-index) (1.16.0)\n",
            "Installing collected packages: dirtyjson, typing-extensions, mypy-extensions, marshmallow, h11, deprecated, typing-inspect, tiktoken, httpcore, httpx, dataclasses-json, openai, llama-index\n",
            "  Attempting uninstall: typing-extensions\n",
            "    Found existing installation: typing_extensions 4.5.0\n",
            "    Uninstalling typing_extensions-4.5.0:\n",
            "      Successfully uninstalled typing_extensions-4.5.0\n",
            "\u001b[31mERROR: pip's dependency resolver does not currently take into account all the packages that are installed. This behaviour is the source of the following dependency conflicts.\n",
            "llmx 0.0.15a0 requires cohere, which is not installed.\n",
            "tensorflow-probability 0.22.0 requires typing-extensions<4.6.0, but you have typing-extensions 4.9.0 which is incompatible.\u001b[0m\u001b[31m\n",
            "\u001b[0mSuccessfully installed dataclasses-json-0.6.4 deprecated-1.2.14 dirtyjson-1.0.8 h11-0.14.0 httpcore-1.0.2 httpx-0.26.0 llama-index-0.9.41 marshmallow-3.20.2 mypy-extensions-1.0.0 openai-1.10.0 tiktoken-0.5.2 typing-extensions-4.9.0 typing-inspect-0.9.0\n"
          ]
        }
      ],
      "source": [
        "!pip install llama-index"
      ]
    },
    {
      "cell_type": "code",
      "execution_count": null,
      "id": "14fdc69e-4c3a-4b4a-babf-3733a0ba2d48",
      "metadata": {
        "id": "14fdc69e-4c3a-4b4a-babf-3733a0ba2d48"
      },
      "outputs": [],
      "source": [
        "# # uncomment to turn on logging\n",
        "# import logging\n",
        "# import sys\n",
        "\n",
        "# logging.basicConfig(stream=sys.stdout, level=logging.INFO)\n",
        "# logging.getLogger().addHandler(logging.StreamHandler(stream=sys.stdout))"
      ]
    },
    {
      "cell_type": "code",
      "source": [
        "pip install pypdf"
      ],
      "metadata": {
        "id": "A68lDFx3mUke",
        "outputId": "bd9874d8-e283-40d0-c5c1-d713867a0365",
        "colab": {
          "base_uri": "https://localhost:8080/"
        }
      },
      "id": "A68lDFx3mUke",
      "execution_count": 8,
      "outputs": [
        {
          "output_type": "stream",
          "name": "stdout",
          "text": [
            "Collecting pypdf\n",
            "  Downloading pypdf-4.0.1-py3-none-any.whl (283 kB)\n",
            "\u001b[2K     \u001b[90m━━━━━━━━━━━━━━━━━━━━━━━━━━━━━━━━━━━━━━━━\u001b[0m \u001b[32m284.0/284.0 kB\u001b[0m \u001b[31m4.1 MB/s\u001b[0m eta \u001b[36m0:00:00\u001b[0m\n",
            "\u001b[?25hInstalling collected packages: pypdf\n",
            "Successfully installed pypdf-4.0.1\n"
          ]
        }
      ]
    },
    {
      "cell_type": "code",
      "execution_count": 2,
      "id": "c225e522-1ebd-436f-9c47-8738eb513880",
      "metadata": {
        "id": "c225e522-1ebd-436f-9c47-8738eb513880"
      },
      "outputs": [],
      "source": [
        "%load_ext autoreload\n",
        "%autoreload 2"
      ]
    },
    {
      "cell_type": "code",
      "source": [
        "import os\n",
        "import openai\n",
        "\n",
        "os.environ[\"OPENAI_API_KEY\"] = \"Your api key goes here\""
      ],
      "metadata": {
        "id": "TroldSt2lgtl"
      },
      "id": "TroldSt2lgtl",
      "execution_count": 3,
      "outputs": []
    },
    {
      "cell_type": "code",
      "execution_count": 4,
      "id": "1c1e705a-36f2-4272-8f98-7f3785e76e8c",
      "metadata": {
        "id": "1c1e705a-36f2-4272-8f98-7f3785e76e8c"
      },
      "outputs": [],
      "source": [
        "from llama_index import (\n",
        "    SimpleDirectoryReader,\n",
        "    ServiceContext,\n",
        "    GPTVectorStoreIndex,\n",
        ")\n",
        "from llama_index.response.pprint_utils import pprint_response\n",
        "from llama_index.llms import OpenAI"
      ]
    },
    {
      "cell_type": "code",
      "execution_count": 5,
      "id": "35364259-f1c3-4df0-b8c9-79e0afca7436",
      "metadata": {
        "id": "35364259-f1c3-4df0-b8c9-79e0afca7436"
      },
      "outputs": [],
      "source": [
        "llm = OpenAI(temperature=0, model=\"gpt-4\")\n",
        "service_context = ServiceContext.from_defaults(llm=llm)"
      ]
    },
    {
      "cell_type": "markdown",
      "id": "26f545cd",
      "metadata": {
        "id": "26f545cd"
      },
      "source": [
        "## Download Data"
      ]
    },
    {
      "cell_type": "code",
      "execution_count": 6,
      "id": "e6385d12",
      "metadata": {
        "id": "e6385d12",
        "outputId": "0ecc201d-d818-4612-a55c-02696b2be95a",
        "colab": {
          "base_uri": "https://localhost:8080/"
        }
      },
      "outputs": [
        {
          "output_type": "stream",
          "name": "stdout",
          "text": [
            "--2024-02-02 06:54:02--  https://raw.githubusercontent.com/run-llama/llama_index/main/docs/examples/data/10q/uber_10q_march_2022.pdf\n",
            "Resolving raw.githubusercontent.com (raw.githubusercontent.com)... 185.199.108.133, 185.199.109.133, 185.199.110.133, ...\n",
            "Connecting to raw.githubusercontent.com (raw.githubusercontent.com)|185.199.108.133|:443... connected.\n",
            "HTTP request sent, awaiting response... 200 OK\n",
            "Length: 1260185 (1.2M) [application/octet-stream]\n",
            "Saving to: ‘data/10q/uber_10q_march_2022.pdf’\n",
            "\n",
            "\r          data/10q/   0%[                    ]       0  --.-KB/s               \rdata/10q/uber_10q_m 100%[===================>]   1.20M  --.-KB/s    in 0.009s  \n",
            "\n",
            "2024-02-02 06:54:02 (133 MB/s) - ‘data/10q/uber_10q_march_2022.pdf’ saved [1260185/1260185]\n",
            "\n",
            "--2024-02-02 06:54:02--  https://raw.githubusercontent.com/run-llama/llama_index/main/docs/examples/data/10q/uber_10q_june_2022.pdf\n",
            "Resolving raw.githubusercontent.com (raw.githubusercontent.com)... 185.199.110.133, 185.199.111.133, 185.199.108.133, ...\n",
            "Connecting to raw.githubusercontent.com (raw.githubusercontent.com)|185.199.110.133|:443... connected.\n",
            "HTTP request sent, awaiting response... 200 OK\n",
            "Length: 1238483 (1.2M) [application/octet-stream]\n",
            "Saving to: ‘data/10q/uber_10q_june_2022.pdf’\n",
            "\n",
            "data/10q/uber_10q_j 100%[===================>]   1.18M  --.-KB/s    in 0.01s   \n",
            "\n",
            "2024-02-02 06:54:02 (115 MB/s) - ‘data/10q/uber_10q_june_2022.pdf’ saved [1238483/1238483]\n",
            "\n",
            "--2024-02-02 06:54:03--  https://raw.githubusercontent.com/run-llama/llama_index/main/docs/examples/data/10q/uber_10q_sept_2022.pdf\n",
            "Resolving raw.githubusercontent.com (raw.githubusercontent.com)... 185.199.110.133, 185.199.108.133, 185.199.111.133, ...\n",
            "Connecting to raw.githubusercontent.com (raw.githubusercontent.com)|185.199.110.133|:443... connected.\n",
            "HTTP request sent, awaiting response... 200 OK\n",
            "Length: 1178622 (1.1M) [application/octet-stream]\n",
            "Saving to: ‘data/10q/uber_10q_sept_2022.pdf’\n",
            "\n",
            "data/10q/uber_10q_s 100%[===================>]   1.12M  --.-KB/s    in 0.01s   \n",
            "\n",
            "2024-02-02 06:54:03 (102 MB/s) - ‘data/10q/uber_10q_sept_2022.pdf’ saved [1178622/1178622]\n",
            "\n"
          ]
        }
      ],
      "source": [
        "!mkdir -p 'data/10q/'\n",
        "!wget 'https://raw.githubusercontent.com/run-llama/llama_index/main/docs/examples/data/10q/uber_10q_march_2022.pdf' -O 'data/10q/uber_10q_march_2022.pdf'\n",
        "!wget 'https://raw.githubusercontent.com/run-llama/llama_index/main/docs/examples/data/10q/uber_10q_june_2022.pdf' -O 'data/10q/uber_10q_june_2022.pdf'\n",
        "!wget 'https://raw.githubusercontent.com/run-llama/llama_index/main/docs/examples/data/10q/uber_10q_sept_2022.pdf' -O 'data/10q/uber_10q_sept_2022.pdf'"
      ]
    },
    {
      "cell_type": "markdown",
      "id": "e7113434-0e41-46b6-a74e-284ce211fd38",
      "metadata": {
        "id": "e7113434-0e41-46b6-a74e-284ce211fd38"
      },
      "source": [
        "## Load data"
      ]
    },
    {
      "cell_type": "code",
      "execution_count": 9,
      "id": "d036819a-754e-460b-8734-8af7071287e5",
      "metadata": {
        "id": "d036819a-754e-460b-8734-8af7071287e5"
      },
      "outputs": [],
      "source": [
        "march_2022 = SimpleDirectoryReader(\n",
        "    input_files=[\"./data/10q/uber_10q_march_2022.pdf\"]\n",
        ").load_data()\n",
        "june_2022 = SimpleDirectoryReader(\n",
        "    input_files=[\"./data/10q/uber_10q_june_2022.pdf\"]\n",
        ").load_data()\n",
        "sept_2022 = SimpleDirectoryReader(\n",
        "    input_files=[\"./data/10q/uber_10q_sept_2022.pdf\"]\n",
        ").load_data()"
      ]
    },
    {
      "cell_type": "markdown",
      "id": "fd541b68-c67f-4cbf-b579-5437d48e5b8f",
      "metadata": {
        "id": "fd541b68-c67f-4cbf-b579-5437d48e5b8f"
      },
      "source": [
        "## Build indices\n",
        "\n",
        "We build a vector index / query engine over each of the documents (March, June, September)."
      ]
    },
    {
      "cell_type": "code",
      "execution_count": 10,
      "id": "4e6c3178-6aab-4fdc-99f6-c820661e7a73",
      "metadata": {
        "id": "4e6c3178-6aab-4fdc-99f6-c820661e7a73"
      },
      "outputs": [],
      "source": [
        "march_index = GPTVectorStoreIndex.from_documents(march_2022)\n",
        "june_index = GPTVectorStoreIndex.from_documents(june_2022)\n",
        "sept_index = GPTVectorStoreIndex.from_documents(sept_2022)"
      ]
    },
    {
      "cell_type": "code",
      "execution_count": 11,
      "id": "3af29f86-9a18-4b8e-af38-8ddc24b550e8",
      "metadata": {
        "id": "3af29f86-9a18-4b8e-af38-8ddc24b550e8"
      },
      "outputs": [],
      "source": [
        "march_engine = march_index.as_query_engine(\n",
        "    similarity_top_k=3, service_context=service_context\n",
        ")\n",
        "june_engine = june_index.as_query_engine(\n",
        "    similarity_top_k=3, service_context=service_context\n",
        ")\n",
        "sept_engine = sept_index.as_query_engine(\n",
        "    similarity_top_k=3, service_context=service_context\n",
        ")"
      ]
    },
    {
      "cell_type": "markdown",
      "id": "2d6471ed-5645-4bb0-b8db-1b964ff7cd23",
      "metadata": {
        "id": "2d6471ed-5645-4bb0-b8db-1b964ff7cd23"
      },
      "source": [
        "## OpenAI Function Agent with a Query Plan Tool\n",
        "\n",
        "Use OpenAIAgent, built on top of the OpenAI tool use interface.\n",
        "\n",
        "Feed it our QueryPlanTool, which is a Tool that takes in other tools. And the agent to generate a query plan DAG over these tools."
      ]
    },
    {
      "cell_type": "code",
      "execution_count": 12,
      "id": "a89972cc-f7b8-4ebd-9c39-935e8a3671ba",
      "metadata": {
        "id": "a89972cc-f7b8-4ebd-9c39-935e8a3671ba"
      },
      "outputs": [],
      "source": [
        "from llama_index.tools import QueryEngineTool\n",
        "\n",
        "\n",
        "query_tool_sept = QueryEngineTool.from_defaults(\n",
        "    query_engine=sept_engine,\n",
        "    name=\"sept_2022\",\n",
        "    description=(\n",
        "        f\"Provides information about Uber quarterly financials ending\"\n",
        "        f\" September 2022\"\n",
        "    ),\n",
        ")\n",
        "query_tool_june = QueryEngineTool.from_defaults(\n",
        "    query_engine=june_engine,\n",
        "    name=\"june_2022\",\n",
        "    description=(\n",
        "        f\"Provides information about Uber quarterly financials ending June\"\n",
        "        f\" 2022\"\n",
        "    ),\n",
        ")\n",
        "query_tool_march = QueryEngineTool.from_defaults(\n",
        "    query_engine=march_engine,\n",
        "    name=\"march_2022\",\n",
        "    description=(\n",
        "        f\"Provides information about Uber quarterly financials ending March\"\n",
        "        f\" 2022\"\n",
        "    ),\n",
        ")"
      ]
    },
    {
      "cell_type": "code",
      "execution_count": 13,
      "id": "8ae6d0bd-bd85-4f99-8363-96e203156933",
      "metadata": {
        "id": "8ae6d0bd-bd85-4f99-8363-96e203156933"
      },
      "outputs": [],
      "source": [
        "# define query plan tool\n",
        "from llama_index.tools import QueryPlanTool\n",
        "from llama_index import get_response_synthesizer\n",
        "\n",
        "response_synthesizer = get_response_synthesizer(\n",
        "    service_context=service_context\n",
        ")\n",
        "query_plan_tool = QueryPlanTool.from_defaults(\n",
        "    query_engine_tools=[query_tool_sept, query_tool_june, query_tool_march],\n",
        "    response_synthesizer=response_synthesizer,\n",
        ")"
      ]
    },
    {
      "cell_type": "code",
      "execution_count": 14,
      "id": "320e8bde-6afc-4896-94bf-7a186f94fa49",
      "metadata": {
        "id": "320e8bde-6afc-4896-94bf-7a186f94fa49",
        "outputId": "17896c8e-b92b-412a-f63d-ee372aeaa225",
        "colab": {
          "base_uri": "https://localhost:8080/"
        }
      },
      "outputs": [
        {
          "output_type": "execute_result",
          "data": {
            "text/plain": [
              "{'type': 'function',\n",
              " 'function': {'name': 'query_plan_tool',\n",
              "  'description': '        This is a query plan tool that takes in a list of tools and executes a query plan over these tools to answer a query. The query plan is a DAG of query nodes.\\n\\nGiven a list of tool names and the query plan schema, you can choose to generate a query plan to answer a question.\\n\\nThe tool names and descriptions are as follows:\\n\\n\\n\\n        Tool Name: sept_2022\\nTool Description: Provides information about Uber quarterly financials ending September 2022 \\n\\nTool Name: june_2022\\nTool Description: Provides information about Uber quarterly financials ending June 2022 \\n\\nTool Name: march_2022\\nTool Description: Provides information about Uber quarterly financials ending March 2022 \\n        ',\n",
              "  'parameters': {'type': 'object',\n",
              "   'properties': {'nodes': {'title': 'Nodes',\n",
              "     'description': 'The original question we are asking.',\n",
              "     'type': 'array',\n",
              "     'items': {'$ref': '#/definitions/QueryNode'}}},\n",
              "   'required': ['nodes'],\n",
              "   'definitions': {'QueryNode': {'title': 'QueryNode',\n",
              "     'description': 'Query node.\\n\\nA query node represents a query (query_str) that must be answered.\\nIt can either be answered by a tool (tool_name), or by a list of child nodes\\n(child_nodes).\\nThe tool_name and child_nodes fields are mutually exclusive.',\n",
              "     'type': 'object',\n",
              "     'properties': {'id': {'title': 'Id',\n",
              "       'description': 'ID of the query node.',\n",
              "       'type': 'integer'},\n",
              "      'query_str': {'title': 'Query Str',\n",
              "       'description': 'Question we are asking. This is the query string that will be executed. ',\n",
              "       'type': 'string'},\n",
              "      'tool_name': {'title': 'Tool Name',\n",
              "       'description': 'Name of the tool to execute the `query_str`.',\n",
              "       'type': 'string'},\n",
              "      'dependencies': {'title': 'Dependencies',\n",
              "       'description': 'List of sub-questions that need to be answered in order to answer the question given by `query_str`.Should be blank if there are no sub-questions to be specified, in which case `tool_name` is specified.',\n",
              "       'type': 'array',\n",
              "       'items': {'type': 'integer'}}},\n",
              "     'required': ['id', 'query_str']}}}}}"
            ]
          },
          "metadata": {},
          "execution_count": 14
        }
      ],
      "source": [
        "query_plan_tool.metadata.to_openai_tool()  # to_openai_function() deprecated"
      ]
    },
    {
      "cell_type": "code",
      "execution_count": 15,
      "id": "6466d4bf-59bd-4916-bf28-c1eb71a0a650",
      "metadata": {
        "id": "6466d4bf-59bd-4916-bf28-c1eb71a0a650"
      },
      "outputs": [],
      "source": [
        "from llama_index.agent import OpenAIAgent\n",
        "from llama_index.llms import OpenAI\n",
        "\n",
        "\n",
        "agent = OpenAIAgent.from_tools(\n",
        "    [query_plan_tool],\n",
        "    max_function_calls=10,\n",
        "    llm=OpenAI(temperature=0, model=\"gpt-4-0613\"),\n",
        "    verbose=True,\n",
        ")"
      ]
    },
    {
      "cell_type": "code",
      "execution_count": 16,
      "id": "51cb85a5-8539-4218-b337-521ba77771a3",
      "metadata": {
        "id": "51cb85a5-8539-4218-b337-521ba77771a3",
        "outputId": "45e2a166-7534-49c3-d416-517c73c2c00c",
        "colab": {
          "base_uri": "https://localhost:8080/"
        }
      },
      "outputs": [
        {
          "output_type": "stream",
          "name": "stdout",
          "text": [
            "Added user message to memory: What were the risk factors in sept 2022?\n",
            "=== Calling Function ===\n",
            "Calling function: query_plan_tool with args: {\n",
            "  \"nodes\": [\n",
            "    {\n",
            "      \"id\": 1,\n",
            "      \"query_str\": \"What were the risk factors in sept 2022?\",\n",
            "      \"tool_name\": \"sept_2022\",\n",
            "      \"dependencies\": []\n",
            "    }\n",
            "  ]\n",
            "}\n",
            "\u001b[1;3;34mExecuting node {\"id\": 1, \"query_str\": \"What were the risk factors in sept 2022?\", \"tool_name\": \"sept_2022\", \"dependencies\": []}\n",
            "\u001b[0m\u001b[1;3;38;5;200mSelected Tool: ToolMetadata(description='Provides information about Uber quarterly financials ending September 2022', name='sept_2022', fn_schema=<class 'llama_index.tools.types.DefaultToolFnSchema'>)\n",
            "\u001b[0m\u001b[1;3;34mExecuted query, got response.\n",
            "Query: What were the risk factors in sept 2022?\n",
            "Response: The risk factors in September 2022 included failure to meet regulatory requirements related to climate change or to meet stated climate change commitments, which could impact costs, operations, brand, and reputation. Outbreaks of contagious diseases like the COVID-19 pandemic could continue to adversely impact the business, financial condition, and results of operations. Catastrophic events such as disease, weather events, war, or terrorist attacks could also have adverse impacts. The use of artificial intelligence presented additional risks, including potential flaws in algorithms or biased information in datasets. Climate change related physical and transition risks were also a concern, including market shifts towards electric vehicles and lower carbon business models, and risks related to extreme weather events or natural disasters. Economic conditions and their impact on discretionary consumer spending could harm the business and operating results. Increases in fuel, food, labor, energy, and other costs due to inflation and other factors could adversely affect operating results.\n",
            "\u001b[0mGot output: The risk factors in September 2022 included failure to meet regulatory requirements related to climate change or to meet stated climate change commitments, which could impact costs, operations, brand, and reputation. Outbreaks of contagious diseases like the COVID-19 pandemic could continue to adversely impact the business, financial condition, and results of operations. Catastrophic events such as disease, weather events, war, or terrorist attacks could also have adverse impacts. The use of artificial intelligence presented additional risks, including potential flaws in algorithms or biased information in datasets. Climate change related physical and transition risks were also a concern, including market shifts towards electric vehicles and lower carbon business models, and risks related to extreme weather events or natural disasters. Economic conditions and their impact on discretionary consumer spending could harm the business and operating results. Increases in fuel, food, labor, energy, and other costs due to inflation and other factors could adversely affect operating results.\n",
            "========================\n",
            "\n"
          ]
        }
      ],
      "source": [
        "response = agent.query(\"What were the risk factors in sept 2022?\")"
      ]
    },
    {
      "cell_type": "code",
      "execution_count": 17,
      "id": "c4778a8b-c2de-494c-b825-d0fe3c1d4aac",
      "metadata": {
        "id": "c4778a8b-c2de-494c-b825-d0fe3c1d4aac"
      },
      "outputs": [],
      "source": [
        "from llama_index.tools.query_plan import QueryPlan, QueryNode\n",
        "\n",
        "query_plan = QueryPlan(\n",
        "    nodes=[\n",
        "        QueryNode(\n",
        "            id=1,\n",
        "            query_str=\"risk factors\",\n",
        "            tool_name=\"sept_2022\",\n",
        "            dependencies=[],\n",
        "        )\n",
        "    ]\n",
        ")"
      ]
    },
    {
      "cell_type": "code",
      "execution_count": 18,
      "id": "7f056a81-cf16-4c05-aa3b-4439f2dc808d",
      "metadata": {
        "id": "7f056a81-cf16-4c05-aa3b-4439f2dc808d",
        "outputId": "a41a08a1-1a6f-4f20-d981-0819565675c3",
        "colab": {
          "base_uri": "https://localhost:8080/"
        }
      },
      "outputs": [
        {
          "output_type": "execute_result",
          "data": {
            "text/plain": [
              "{'title': 'QueryPlan',\n",
              " 'description': \"Query plan.\\n\\nContains a list of QueryNode objects (which is a recursive object).\\nOut of the list of QueryNode objects, one of them must be the root node.\\nThe root node is the one that isn't a dependency of any other node.\",\n",
              " 'type': 'object',\n",
              " 'properties': {'nodes': {'title': 'Nodes',\n",
              "   'description': 'The original question we are asking.',\n",
              "   'type': 'array',\n",
              "   'items': {'$ref': '#/definitions/QueryNode'}}},\n",
              " 'required': ['nodes'],\n",
              " 'definitions': {'QueryNode': {'title': 'QueryNode',\n",
              "   'description': 'Query node.\\n\\nA query node represents a query (query_str) that must be answered.\\nIt can either be answered by a tool (tool_name), or by a list of child nodes\\n(child_nodes).\\nThe tool_name and child_nodes fields are mutually exclusive.',\n",
              "   'type': 'object',\n",
              "   'properties': {'id': {'title': 'Id',\n",
              "     'description': 'ID of the query node.',\n",
              "     'type': 'integer'},\n",
              "    'query_str': {'title': 'Query Str',\n",
              "     'description': 'Question we are asking. This is the query string that will be executed. ',\n",
              "     'type': 'string'},\n",
              "    'tool_name': {'title': 'Tool Name',\n",
              "     'description': 'Name of the tool to execute the `query_str`.',\n",
              "     'type': 'string'},\n",
              "    'dependencies': {'title': 'Dependencies',\n",
              "     'description': 'List of sub-questions that need to be answered in order to answer the question given by `query_str`.Should be blank if there are no sub-questions to be specified, in which case `tool_name` is specified.',\n",
              "     'type': 'array',\n",
              "     'items': {'type': 'integer'}}},\n",
              "   'required': ['id', 'query_str']}}}"
            ]
          },
          "metadata": {},
          "execution_count": 18
        }
      ],
      "source": [
        "QueryPlan.schema()"
      ]
    },
    {
      "cell_type": "code",
      "execution_count": 19,
      "id": "feeb0afc-96c8-4be5-839c-ce8a64fb9e71",
      "metadata": {
        "id": "feeb0afc-96c8-4be5-839c-ce8a64fb9e71",
        "outputId": "7fcd6e85-295a-4b25-d78a-f8a54da9d914",
        "colab": {
          "base_uri": "https://localhost:8080/"
        }
      },
      "outputs": [
        {
          "output_type": "stream",
          "name": "stdout",
          "text": [
            "Added user message to memory: Analyze Uber revenue growth in March, June, and September\n",
            "=== Calling Function ===\n",
            "Calling function: query_plan_tool with args: {\n",
            "  \"nodes\": [\n",
            "    {\n",
            "      \"id\": 1,\n",
            "      \"query_str\": \"What is Uber's revenue for March 2022?\",\n",
            "      \"tool_name\": \"march_2022\",\n",
            "      \"dependencies\": []\n",
            "    },\n",
            "    {\n",
            "      \"id\": 2,\n",
            "      \"query_str\": \"What is Uber's revenue for June 2022?\",\n",
            "      \"tool_name\": \"june_2022\",\n",
            "      \"dependencies\": []\n",
            "    },\n",
            "    {\n",
            "      \"id\": 3,\n",
            "      \"query_str\": \"What is Uber's revenue for September 2022?\",\n",
            "      \"tool_name\": \"sept_2022\",\n",
            "      \"dependencies\": []\n",
            "    },\n",
            "    {\n",
            "      \"id\": 4,\n",
            "      \"query_str\": \"Analyze Uber revenue growth in March, June, and September\",\n",
            "      \"tool_name\": \"revenue_growth_analyzer\",\n",
            "      \"dependencies\": [1, 2, 3]\n",
            "    }\n",
            "  ]\n",
            "}\n",
            "\u001b[1;3;34mExecuting node {\"id\": 4, \"query_str\": \"Analyze Uber revenue growth in March, June, and September\", \"tool_name\": \"revenue_growth_analyzer\", \"dependencies\": [1, 2, 3]}\n",
            "\u001b[0m\u001b[1;3;38;5;200mExecuting 3 child nodes\n",
            "\u001b[0m\u001b[1;3;34mExecuting node {\"id\": 1, \"query_str\": \"What is Uber's revenue for March 2022?\", \"tool_name\": \"march_2022\", \"dependencies\": []}\n",
            "\u001b[0m\u001b[1;3;38;5;200mSelected Tool: ToolMetadata(description='Provides information about Uber quarterly financials ending March 2022', name='march_2022', fn_schema=<class 'llama_index.tools.types.DefaultToolFnSchema'>)\n",
            "\u001b[0m\u001b[1;3;34mExecuted query, got response.\n",
            "Query: What is Uber's revenue for March 2022?\n",
            "Response: Uber's revenue for March 2022 was $6.854 billion.\n",
            "\u001b[0m\u001b[1;3;34mExecuting node {\"id\": 2, \"query_str\": \"What is Uber's revenue for June 2022?\", \"tool_name\": \"june_2022\", \"dependencies\": []}\n",
            "\u001b[0m\u001b[1;3;38;5;200mSelected Tool: ToolMetadata(description='Provides information about Uber quarterly financials ending June 2022', name='june_2022', fn_schema=<class 'llama_index.tools.types.DefaultToolFnSchema'>)\n",
            "\u001b[0m\u001b[1;3;34mExecuted query, got response.\n",
            "Query: What is Uber's revenue for June 2022?\n",
            "Response: Uber's revenue for June 2022 was $8.073 billion.\n",
            "\u001b[0m\u001b[1;3;34mExecuting node {\"id\": 3, \"query_str\": \"What is Uber's revenue for September 2022?\", \"tool_name\": \"sept_2022\", \"dependencies\": []}\n",
            "\u001b[0m\u001b[1;3;38;5;200mSelected Tool: ToolMetadata(description='Provides information about Uber quarterly financials ending September 2022', name='sept_2022', fn_schema=<class 'llama_index.tools.types.DefaultToolFnSchema'>)\n",
            "\u001b[0m\u001b[1;3;34mExecuted query, got response.\n",
            "Query: What is Uber's revenue for September 2022?\n",
            "Response: Uber's revenue for September 2022 is not explicitly stated in the context. However, for the third quarter of 2022 (which includes July, August, and September), the revenue was $8.343 billion.\n",
            "\u001b[0m\u001b[1;3;34mExecuted query, got response.\n",
            "Query: Analyze Uber revenue growth in March, June, and September\n",
            "Response: Uber's revenue has shown a growth trend from March to June 2022. In March, the revenue was $6.854 billion, which increased to $8.073 billion in June. The exact revenue for September is not specified, but the total revenue for the third quarter, which includes July, August, and September, was $8.343 billion.\n",
            "\u001b[0mGot output: Uber's revenue has shown a growth trend from March to June 2022. In March, the revenue was $6.854 billion, which increased to $8.073 billion in June. The exact revenue for September is not specified, but the total revenue for the third quarter, which includes July, August, and September, was $8.343 billion.\n",
            "========================\n",
            "\n"
          ]
        }
      ],
      "source": [
        "response = agent.query(\n",
        "    \"Analyze Uber revenue growth in March, June, and September\"\n",
        ")"
      ]
    },
    {
      "cell_type": "code",
      "execution_count": 20,
      "id": "53bfd23d-cbb8-40ce-8bb7-feb3001398dc",
      "metadata": {
        "id": "53bfd23d-cbb8-40ce-8bb7-feb3001398dc",
        "outputId": "f4c99ad3-fd35-4f76-c8a1-e379424b69cc",
        "colab": {
          "base_uri": "https://localhost:8080/"
        }
      },
      "outputs": [
        {
          "output_type": "stream",
          "name": "stdout",
          "text": [
            "Uber's revenue has shown a growth trend from March to June 2022. In March, the revenue was $6.854 billion, which increased to $8.073 billion in June. The exact revenue for September is not specified, but the total revenue for the third quarter, which includes July, August, and September, was $8.343 billion.\n"
          ]
        }
      ],
      "source": [
        "print(str(response))"
      ]
    },
    {
      "cell_type": "code",
      "execution_count": 21,
      "id": "5bae0b65-59f5-4b5b-b5a7-1d8c5c4aa308",
      "metadata": {
        "id": "5bae0b65-59f5-4b5b-b5a7-1d8c5c4aa308",
        "outputId": "2ad73f01-b2cb-416b-f82e-dabb145134ee",
        "colab": {
          "base_uri": "https://localhost:8080/"
        }
      },
      "outputs": [
        {
          "output_type": "stream",
          "name": "stdout",
          "text": [
            "Added user message to memory: Analyze changes in risk factors in march, june, and september for Uber\n",
            "=== Calling Function ===\n",
            "Calling function: query_plan_tool with args: {\n",
            "  \"nodes\": [\n",
            "    {\n",
            "      \"id\": 1,\n",
            "      \"query_str\": \"What were the risk factors for Uber in March 2022?\",\n",
            "      \"tool_name\": \"march_2022\",\n",
            "      \"dependencies\": []\n",
            "    },\n",
            "    {\n",
            "      \"id\": 2,\n",
            "      \"query_str\": \"What were the risk factors for Uber in June 2022?\",\n",
            "      \"tool_name\": \"june_2022\",\n",
            "      \"dependencies\": []\n",
            "    },\n",
            "    {\n",
            "      \"id\": 3,\n",
            "      \"query_str\": \"What were the risk factors for Uber in September 2022?\",\n",
            "      \"tool_name\": \"sept_2022\",\n",
            "      \"dependencies\": []\n",
            "    },\n",
            "    {\n",
            "      \"id\": 4,\n",
            "      \"query_str\": \"Analyze changes in risk factors in March, June, and September for Uber\",\n",
            "      \"tool_name\": \"risk_analysis_tool\",\n",
            "      \"dependencies\": [1, 2, 3]\n",
            "    }\n",
            "  ]\n",
            "}\n",
            "\u001b[1;3;34mExecuting node {\"id\": 4, \"query_str\": \"Analyze changes in risk factors in March, June, and September for Uber\", \"tool_name\": \"risk_analysis_tool\", \"dependencies\": [1, 2, 3]}\n",
            "\u001b[0m\u001b[1;3;38;5;200mExecuting 3 child nodes\n",
            "\u001b[0m\u001b[1;3;34mExecuting node {\"id\": 1, \"query_str\": \"What were the risk factors for Uber in March 2022?\", \"tool_name\": \"march_2022\", \"dependencies\": []}\n",
            "\u001b[0m\u001b[1;3;38;5;200mSelected Tool: ToolMetadata(description='Provides information about Uber quarterly financials ending March 2022', name='march_2022', fn_schema=<class 'llama_index.tools.types.DefaultToolFnSchema'>)\n",
            "\u001b[0m\u001b[1;3;34mExecuted query, got response.\n",
            "Query: What were the risk factors for Uber in March 2022?\n",
            "Response: In March 2022, Uber identified several risk factors that could potentially impact their business. These included:\n",
            "\n",
            "1. A significant portion of their Gross Bookings came from trips in large metropolitan areas, which could be negatively affected by economic, social, weather, and regulatory conditions, including COVID-19.\n",
            "2. The possibility of failing to offer autonomous vehicle technologies on their platform, or these technologies failing to perform as expected.\n",
            "3. The need to retain and attract high-quality personnel, with attrition or unsuccessful succession planning potentially adversely affecting their business.\n",
            "4. The risk of experiencing security or data privacy breaches.\n",
            "5. The potential harm to their reputation, business, and operating results from cyberattacks.\n",
            "6. The impact of climate change risks on their business.\n",
            "7. The reliance on third parties for distributing their platform and providing software for their products and offerings.\n",
            "8. The need for additional capital to support business growth, which might not be available on reasonable terms or at all.\n",
            "9. The risk of being unable to successfully identify, acquire and integrate suitable businesses.\n",
            "10. The possibility of being blocked from or limited in providing or operating their products and offerings in certain jurisdictions.\n",
            "11. The impact of numerous legal and regulatory risks on their business and future prospects.\n",
            "12. The risk related to their collection, use, transfer, disclosure, and other processing of data.\n",
            "13. The potential inability to protect their intellectual property.\n",
            "14. The volatility of the market price of their common stock.\n",
            "15. The impact of the COVID-19 pandemic on their business, financial condition and results of operations.\n",
            "16. The potential adverse effect on their business if Drivers were classified as employees, workers or quasi-employees.\n",
            "17. The legal and regulatory risks they face in the various jurisdictions in which they provide their offerings.\n",
            "\u001b[0m\u001b[1;3;34mExecuting node {\"id\": 2, \"query_str\": \"What were the risk factors for Uber in June 2022?\", \"tool_name\": \"june_2022\", \"dependencies\": []}\n",
            "\u001b[0m\u001b[1;3;38;5;200mSelected Tool: ToolMetadata(description='Provides information about Uber quarterly financials ending June 2022', name='june_2022', fn_schema=<class 'llama_index.tools.types.DefaultToolFnSchema'>)\n",
            "\u001b[0m\u001b[1;3;34mExecuted query, got response.\n",
            "Query: What were the risk factors for Uber in June 2022?\n",
            "Response: In June 2022, Uber faced several risk factors. One of the main risks was the inherent danger of operating motor vehicles, especially with the growth of their Delivery offering which increased the number of Couriers on two-wheel vehicles like scooters and bicycles. These Couriers are more vulnerable to accidents and injuries, particularly in congested urban areas. Their auto liability and general liability insurance policies may not cover all potential claims, which could increase their operating costs and negatively affect their business.\n",
            "\n",
            "Uber also faced risks related to their substantial investments in new offerings and technologies. These ventures are inherently risky and there's no guarantee that they will realize any expected benefits from them. If they fail to spend their development budget efficiently or if their new initiatives do not gain sufficient market acceptance, their business could be harmed.\n",
            "\n",
            "Another risk factor was their dependence on operations outside the United States, particularly in markets where they have limited experience. As of June 2022, they operated in approximately 70 countries, and markets outside the United States accounted for approximately 75% of all Trips. If they are unable to manage the risks presented by their international business model, their financial results and future prospects could be adversely impacted.\n",
            "\n",
            "Lastly, the COVID-19 pandemic posed a significant risk to Uber. The pandemic had adversely affected their near-term financial results and could continue to impact their long-term financial results. The extent of the impact of COVID-19 on their business and financial results was uncertain and depended on future developments, including the duration of the spread of the outbreak, the administration and efficacy of vaccines, the impact on capital and financial markets, and potential permanent changes to end-user behaviors.\n",
            "\u001b[0m\u001b[1;3;34mExecuting node {\"id\": 3, \"query_str\": \"What were the risk factors for Uber in September 2022?\", \"tool_name\": \"sept_2022\", \"dependencies\": []}\n",
            "\u001b[0m\u001b[1;3;38;5;200mSelected Tool: ToolMetadata(description='Provides information about Uber quarterly financials ending September 2022', name='sept_2022', fn_schema=<class 'llama_index.tools.types.DefaultToolFnSchema'>)\n",
            "\u001b[0m\u001b[1;3;34mExecuted query, got response.\n",
            "Query: What were the risk factors for Uber in September 2022?\n",
            "Response: In September 2022, Uber identified several risk factors that could potentially impact their business. These included:\n",
            "\n",
            "1. Criminal activities involving drivers or consumers using their platform, which could deter other users and negatively affect their reputation and financial results.\n",
            "2. The possibility of significant liability claims due to traffic accidents, injuries, or other incidents involving drivers, consumers, or third parties.\n",
            "3. The inherent risks associated with their substantial investments in new offerings and technologies, which may not yield the expected benefits.\n",
            "4. Seasonal fluctuations and other factors such as competition, regulatory changes, and brand reputation that could affect their operating results.\n",
            "5. The slowing growth rates of their Gross Bookings and revenue, particularly for their ridesharing products.\n",
            "6. Their dependence on large metropolitan areas and airport trips for a significant percentage of their Gross Bookings.\n",
            "7. The potential for additional liability or regulatory scrutiny due to data security incidents.\n",
            "8. The need to successfully introduce new or upgraded products, offerings, or features to retain and attract users to their platform.\n",
            "\u001b[0m\u001b[1;3;34mExecuted query, got response.\n",
            "Query: Analyze changes in risk factors in March, June, and September for Uber\n",
            "Response: In March 2022, Uber's risk factors were largely centered around the impact of COVID-19, the reliance on large metropolitan areas for a significant portion of their Gross Bookings, the potential failure of autonomous vehicle technologies, and the need for additional capital to support business growth. They also faced risks related to data privacy and security breaches, the impact of climate change, and the potential inability to protect their intellectual property.\n",
            "\n",
            "By June 2022, the risk factors had evolved. The inherent danger of operating motor vehicles became more prominent due to the growth of their Delivery offering. The risk associated with their substantial investments in new offerings and technologies also became more significant. Their dependence on operations outside the United States, particularly in markets where they had limited experience, was another risk factor that emerged. The COVID-19 pandemic continued to pose a significant risk.\n",
            "\n",
            "In September 2022, the risk factors shifted again. Criminal activities involving drivers or consumers using their platform became a concern. The possibility of significant liability claims due to traffic accidents, injuries, or other incidents involving drivers, consumers, or third parties also emerged as a risk. The slowing growth rates of their Gross Bookings and revenue, particularly for their ridesharing products, was another new risk factor. The need to successfully introduce new or upgraded products, offerings, or features to retain and attract users to their platform was also identified as a risk.\n",
            "\u001b[0mGot output: In March 2022, Uber's risk factors were largely centered around the impact of COVID-19, the reliance on large metropolitan areas for a significant portion of their Gross Bookings, the potential failure of autonomous vehicle technologies, and the need for additional capital to support business growth. They also faced risks related to data privacy and security breaches, the impact of climate change, and the potential inability to protect their intellectual property.\n",
            "\n",
            "By June 2022, the risk factors had evolved. The inherent danger of operating motor vehicles became more prominent due to the growth of their Delivery offering. The risk associated with their substantial investments in new offerings and technologies also became more significant. Their dependence on operations outside the United States, particularly in markets where they had limited experience, was another risk factor that emerged. The COVID-19 pandemic continued to pose a significant risk.\n",
            "\n",
            "In September 2022, the risk factors shifted again. Criminal activities involving drivers or consumers using their platform became a concern. The possibility of significant liability claims due to traffic accidents, injuries, or other incidents involving drivers, consumers, or third parties also emerged as a risk. The slowing growth rates of their Gross Bookings and revenue, particularly for their ridesharing products, was another new risk factor. The need to successfully introduce new or upgraded products, offerings, or features to retain and attract users to their platform was also identified as a risk.\n",
            "========================\n",
            "\n"
          ]
        }
      ],
      "source": [
        "response = agent.query(\n",
        "    \"Analyze changes in risk factors in march, june, and september for Uber\"\n",
        ")"
      ]
    },
    {
      "cell_type": "code",
      "execution_count": 22,
      "id": "01703941-f016-47d3-9cf9-fefac0fb54e7",
      "metadata": {
        "id": "01703941-f016-47d3-9cf9-fefac0fb54e7",
        "outputId": "e195a6d2-1e71-4183-c52b-101d43c458ba",
        "colab": {
          "base_uri": "https://localhost:8080/"
        }
      },
      "outputs": [
        {
          "output_type": "stream",
          "name": "stdout",
          "text": [
            "In March 2022, Uber's risk factors were largely centered around the impact of COVID-19, the reliance on large metropolitan areas for a significant portion of their Gross Bookings, the potential failure of autonomous vehicle technologies, and the need for additional capital to support business growth. They also faced risks related to data privacy and security breaches, the impact of climate change, and the potential inability to protect their intellectual property.\n",
            "\n",
            "By June 2022, the risk factors had evolved. The inherent danger of operating motor vehicles became more prominent due to the growth of their Delivery offering. The risk associated with their substantial investments in new offerings and technologies also became more significant. Their dependence on operations outside the United States, particularly in markets where they had limited experience, was another risk factor that emerged. The COVID-19 pandemic continued to pose a significant risk.\n",
            "\n",
            "In September 2022, the risk factors shifted again. Criminal activities involving drivers or consumers using their platform became a concern. The possibility of significant liability claims due to traffic accidents, injuries, or other incidents involving drivers, consumers, or third parties also emerged as a risk. The slowing growth rates of their Gross Bookings and revenue, particularly for their ridesharing products, was another new risk factor. The need to successfully introduce new or upgraded products, offerings, or features to retain and attract users to their platform was also identified as a risk.\n",
            "\n",
            "In summary, while some risks such as the impact of COVID-19 and the need for additional capital remained constant, new risks emerged as the company expanded its offerings and entered new markets. These included the dangers associated with motor vehicle operation, the risks of international operations, and the challenges of introducing new products and features.\n"
          ]
        }
      ],
      "source": [
        "print(str(response))"
      ]
    },
    {
      "cell_type": "code",
      "execution_count": null,
      "id": "ebd52c07-0e46-4edd-8201-caa72b25ae1c",
      "metadata": {
        "id": "ebd52c07-0e46-4edd-8201-caa72b25ae1c"
      },
      "outputs": [],
      "source": [
        "# response = agent.query(\"Analyze both Uber revenue growth and risk factors over march, june, and september\")"
      ]
    },
    {
      "cell_type": "code",
      "execution_count": 23,
      "id": "c47e41be-d61c-4992-b1c7-e038e1860d33",
      "metadata": {
        "id": "c47e41be-d61c-4992-b1c7-e038e1860d33",
        "outputId": "1cd2ef5c-2a3c-4040-e314-a494aebfa1d9",
        "colab": {
          "base_uri": "https://localhost:8080/"
        }
      },
      "outputs": [
        {
          "output_type": "stream",
          "name": "stdout",
          "text": [
            "In March 2022, Uber's risk factors were largely centered around the impact of COVID-19, the reliance on large metropolitan areas for a significant portion of their Gross Bookings, the potential failure of autonomous vehicle technologies, and the need for additional capital to support business growth. They also faced risks related to data privacy and security breaches, the impact of climate change, and the potential inability to protect their intellectual property.\n",
            "\n",
            "By June 2022, the risk factors had evolved. The inherent danger of operating motor vehicles became more prominent due to the growth of their Delivery offering. The risk associated with their substantial investments in new offerings and technologies also became more significant. Their dependence on operations outside the United States, particularly in markets where they had limited experience, was another risk factor that emerged. The COVID-19 pandemic continued to pose a significant risk.\n",
            "\n",
            "In September 2022, the risk factors shifted again. Criminal activities involving drivers or consumers using their platform became a concern. The possibility of significant liability claims due to traffic accidents, injuries, or other incidents involving drivers, consumers, or third parties also emerged as a risk. The slowing growth rates of their Gross Bookings and revenue, particularly for their ridesharing products, was another new risk factor. The need to successfully introduce new or upgraded products, offerings, or features to retain and attract users to their platform was also identified as a risk.\n",
            "\n",
            "In summary, while some risks such as the impact of COVID-19 and the need for additional capital remained constant, new risks emerged as the company expanded its offerings and entered new markets. These included the dangers associated with motor vehicle operation, the risks of international operations, and the challenges of introducing new products and features.\n"
          ]
        }
      ],
      "source": [
        "print(str(response))"
      ]
    },
    {
      "cell_type": "code",
      "execution_count": 24,
      "id": "ba9d02e4-4c5c-47d2-8cf4-62bcc967e6f2",
      "metadata": {
        "id": "ba9d02e4-4c5c-47d2-8cf4-62bcc967e6f2",
        "outputId": "18f0b472-ac67-4e92-b708-00138af0b918",
        "colab": {
          "base_uri": "https://localhost:8080/"
        }
      },
      "outputs": [
        {
          "output_type": "stream",
          "name": "stdout",
          "text": [
            "Added user message to memory: First look at Uber's revenue growth and risk factors in March, then revenue growth and risk factors in September, and then compare and contrast the two documents?\n",
            "=== Calling Function ===\n",
            "Calling function: query_plan_tool with args: {\n",
            "  \"nodes\": [\n",
            "    {\n",
            "      \"id\": 1,\n",
            "      \"query_str\": \"What is Uber's revenue growth and risk factors in March 2022?\",\n",
            "      \"tool_name\": \"march_2022\",\n",
            "      \"dependencies\": []\n",
            "    },\n",
            "    {\n",
            "      \"id\": 2,\n",
            "      \"query_str\": \"What is Uber's revenue growth and risk factors in September 2022?\",\n",
            "      \"tool_name\": \"sept_2022\",\n",
            "      \"dependencies\": []\n",
            "    },\n",
            "    {\n",
            "      \"id\": 3,\n",
            "      \"query_str\": \"Compare and contrast the revenue growth and risk factors of Uber in March 2022 and September 2022.\",\n",
            "      \"tool_name\": \"comparison_tool\",\n",
            "      \"dependencies\": [1, 2]\n",
            "    }\n",
            "  ]\n",
            "}\n",
            "\u001b[1;3;34mExecuting node {\"id\": 3, \"query_str\": \"Compare and contrast the revenue growth and risk factors of Uber in March 2022 and September 2022.\", \"tool_name\": \"comparison_tool\", \"dependencies\": [1, 2]}\n",
            "\u001b[0m\u001b[1;3;38;5;200mExecuting 2 child nodes\n",
            "\u001b[0m\u001b[1;3;34mExecuting node {\"id\": 1, \"query_str\": \"What is Uber's revenue growth and risk factors in March 2022?\", \"tool_name\": \"march_2022\", \"dependencies\": []}\n",
            "\u001b[0m\u001b[1;3;38;5;200mSelected Tool: ToolMetadata(description='Provides information about Uber quarterly financials ending March 2022', name='march_2022', fn_schema=<class 'llama_index.tools.types.DefaultToolFnSchema'>)\n",
            "\u001b[0m\u001b[1;3;34mExecuted query, got response.\n",
            "Query: What is Uber's revenue growth and risk factors in March 2022?\n",
            "Response: Uber's revenue in March 2022 was $6.9 billion, which was a 136% increase year-over-year. The growth in revenue outpaced Gross Bookings growth primarily due to a $1.5 billion increase in the Freight business, a favorable impact to revenue of $200 million due to a change in the accounting model for the UK Mobility business, and a favorable comparative impact to the same period in 2021.\n",
            "\n",
            "However, Uber also identified several risk factors. The COVID-19 pandemic has created uncertainty and has had an adverse impact on Uber's business and operations, particularly by reducing the global demand for Mobility offerings. The extent of the pandemic's impact on Uber's business and financial results will depend on future developments, including the duration of the outbreak, the efficacy of vaccines, the impact on financial markets, and potential permanent changes to end-users’ behavior. \n",
            "\n",
            "Uber's operating results may also fluctuate due to a variety of factors, some of which are beyond their control, such as seasonal fluctuations in financial results. For instance, Mobility typically generates higher revenue in the fourth quarter due to holiday and business demand, and lower revenue in the third quarter due to less usage of the platform during peak vacation season in certain cities. \n",
            "\n",
            "Furthermore, if Uber's growth slows more significantly than expected, it may not be able to achieve profitability, which would adversely affect its financial results and future prospects. Factors that could impact Uber's growth include its ability to grow supply and demand on its platform, compete with competitors' products and offerings, develop new products, and maintain existing local regulations in key markets where it operates.\n",
            "\u001b[0m\u001b[1;3;34mExecuting node {\"id\": 2, \"query_str\": \"What is Uber's revenue growth and risk factors in September 2022?\", \"tool_name\": \"sept_2022\", \"dependencies\": []}\n",
            "\u001b[0m\u001b[1;3;38;5;200mSelected Tool: ToolMetadata(description='Provides information about Uber quarterly financials ending September 2022', name='sept_2022', fn_schema=<class 'llama_index.tools.types.DefaultToolFnSchema'>)\n",
            "\u001b[0m\u001b[1;3;34mExecuted query, got response.\n",
            "Query: What is Uber's revenue growth and risk factors in September 2022?\n",
            "Response: In September 2022, Uber's revenue increased by 72% for the three months ended, and by 99% for the nine months ended, compared to the same periods in 2021. This growth was primarily due to an increase in Gross Bookings, recovery from the impacts of COVID-19, and a significant increase in Freight Gross Bookings resulting from the acquisition of Transplace in the fourth quarter of 2021.\n",
            "\n",
            "However, Uber also faced several risk factors. These included the ability to attract and retain new platform users, increased competition, the ability to expand operations in new and existing markets, changes in governmental regulations affecting the business, and harm to the brand or reputation. The company's growth rates have slowed in recent periods and are expected to continue to slow in the future. Additionally, a significant portion of Uber's expenses and investments are fixed, and if revenue is less than expected, it could result in losses exceeding expectations. The company also generates a significant percentage of its Gross Bookings from trips in large metropolitan areas and trips to and from airports, making it susceptible to conditions in these areas.\n",
            "\u001b[0m\u001b[1;3;34mExecuted query, got response.\n",
            "Query: Compare and contrast the revenue growth and risk factors of Uber in March 2022 and September 2022.\n",
            "Response: In March 2022, Uber's revenue was $6.9 billion, marking a 136% increase year-over-year. This growth was primarily due to a $1.5 billion increase in the Freight business, a favorable impact to revenue of $200 million due to a change in the accounting model for the UK Mobility business, and a favorable comparative impact to the same period in 2021. In contrast, in September 2022, Uber's revenue increased by 72% for the three months ended, and by 99% for the nine months ended, compared to the same periods in 2021. This growth was mainly due to an increase in Gross Bookings, recovery from the impacts of COVID-19, and a significant increase in Freight Gross Bookings resulting from the acquisition of Transplace in the fourth quarter of 2021.\n",
            "\n",
            "In terms of risk factors, in March 2022, Uber identified the COVID-19 pandemic, seasonal fluctuations in financial results, and the possibility of slower-than-expected growth as potential risks. The pandemic reduced global demand for Mobility offerings, and the company's operating results fluctuated due to factors such as seasonal demand changes. If Uber's growth slowed more significantly than expected, it could impact its profitability. \n",
            "\n",
            "In September 2022, the risk factors included the ability to attract and retain new platform users, increased competition, the ability to expand operations in new and existing markets, changes in governmental regulations, and harm to the brand or reputation. The company's growth rates had slowed in recent periods and were expected to continue to slow. A significant portion of Uber's expenses and investments were fixed, and if revenue was less than expected, it could result in losses exceeding expectations. The company was also susceptible to conditions in large metropolitan areas and trips to and from airports, where it generates a significant percentage of its Gross Bookings.\n",
            "\u001b[0mGot output: In March 2022, Uber's revenue was $6.9 billion, marking a 136% increase year-over-year. This growth was primarily due to a $1.5 billion increase in the Freight business, a favorable impact to revenue of $200 million due to a change in the accounting model for the UK Mobility business, and a favorable comparative impact to the same period in 2021. In contrast, in September 2022, Uber's revenue increased by 72% for the three months ended, and by 99% for the nine months ended, compared to the same periods in 2021. This growth was mainly due to an increase in Gross Bookings, recovery from the impacts of COVID-19, and a significant increase in Freight Gross Bookings resulting from the acquisition of Transplace in the fourth quarter of 2021.\n",
            "\n",
            "In terms of risk factors, in March 2022, Uber identified the COVID-19 pandemic, seasonal fluctuations in financial results, and the possibility of slower-than-expected growth as potential risks. The pandemic reduced global demand for Mobility offerings, and the company's operating results fluctuated due to factors such as seasonal demand changes. If Uber's growth slowed more significantly than expected, it could impact its profitability. \n",
            "\n",
            "In September 2022, the risk factors included the ability to attract and retain new platform users, increased competition, the ability to expand operations in new and existing markets, changes in governmental regulations, and harm to the brand or reputation. The company's growth rates had slowed in recent periods and were expected to continue to slow. A significant portion of Uber's expenses and investments were fixed, and if revenue was less than expected, it could result in losses exceeding expectations. The company was also susceptible to conditions in large metropolitan areas and trips to and from airports, where it generates a significant percentage of its Gross Bookings.\n",
            "========================\n",
            "\n"
          ]
        }
      ],
      "source": [
        "response = agent.query(\n",
        "    \"First look at Uber's revenue growth and risk factors in March, \"\n",
        "    + \"then revenue growth and risk factors in September, and then compare and\"\n",
        "    \" contrast the two documents?\"\n",
        ")"
      ]
    },
    {
      "cell_type": "code",
      "execution_count": 25,
      "id": "598f6f3c-e5ac-401b-925a-7a6cce0620bd",
      "metadata": {
        "id": "598f6f3c-e5ac-401b-925a-7a6cce0620bd",
        "outputId": "98a9a47b-92f1-4965-83f4-fdea223fc71d",
        "colab": {
          "base_uri": "https://localhost:8080/"
        }
      },
      "outputs": [
        {
          "output_type": "execute_result",
          "data": {
            "text/plain": [
              "Response(response=\"In March 2022, Uber's revenue was $6.9 billion, marking a 136% increase year-over-year. This growth was primarily due to a $1.5 billion increase in the Freight business, a favorable impact to revenue of $200 million due to a change in the accounting model for the UK Mobility business, and a favorable comparative impact to the same period in 2021. The risk factors identified during this period were the COVID-19 pandemic, seasonal fluctuations in financial results, and the possibility of slower-than-expected growth. The pandemic reduced global demand for Mobility offerings, and the company's operating results fluctuated due to factors such as seasonal demand changes. If Uber's growth slowed more significantly than expected, it could impact its profitability.\\n\\nIn contrast, in September 2022, Uber's revenue increased by 72% for the three months ended, and by 99% for the nine months ended, compared to the same periods in 2021. This growth was mainly due to an increase in Gross Bookings, recovery from the impacts of COVID-19, and a significant increase in Freight Gross Bookings resulting from the acquisition of Transplace in the fourth quarter of 2021. The risk factors during this period included the ability to attract and retain new platform users, increased competition, the ability to expand operations in new and existing markets, changes in governmental regulations, and harm to the brand or reputation. The company's growth rates had slowed in recent periods and were expected to continue to slow. A significant portion of Uber's expenses and investments were fixed, and if revenue was less than expected, it could result in losses exceeding expectations. The company was also susceptible to conditions in large metropolitan areas and trips to and from airports, where it generates a significant percentage of its Gross Bookings.\\n\\nIn summary, while Uber's revenue growth was higher in March 2022, the risk factors became more diverse and complex by September 2022, reflecting the company's evolving business environment and challenges.\", source_nodes=[NodeWithScore(node=TextNode(id_='96129294-eba9-4857-b9c2-7bb51423d5e4', embedding=None, metadata={}, excluded_embed_metadata_keys=[], excluded_llm_metadata_keys=[], relationships={}, text=\"Query: What is Uber's revenue growth and risk factors in March 2022?\\nResponse: Uber's revenue in March 2022 was $6.9 billion, which was a 136% increase year-over-year. The growth in revenue outpaced Gross Bookings growth primarily due to a $1.5 billion increase in the Freight business, a favorable impact to revenue of $200 million due to a change in the accounting model for the UK Mobility business, and a favorable comparative impact to the same period in 2021.\\n\\nHowever, Uber also identified several risk factors. The COVID-19 pandemic has created uncertainty and has had an adverse impact on Uber's business and operations, particularly by reducing the global demand for Mobility offerings. The extent of the pandemic's impact on Uber's business and financial results will depend on future developments, including the duration of the outbreak, the efficacy of vaccines, the impact on financial markets, and potential permanent changes to end-users’ behavior. \\n\\nUber's operating results may also fluctuate due to a variety of factors, some of which are beyond their control, such as seasonal fluctuations in financial results. For instance, Mobility typically generates higher revenue in the fourth quarter due to holiday and business demand, and lower revenue in the third quarter due to less usage of the platform during peak vacation season in certain cities. \\n\\nFurthermore, if Uber's growth slows more significantly than expected, it may not be able to achieve profitability, which would adversely affect its financial results and future prospects. Factors that could impact Uber's growth include its ability to grow supply and demand on its platform, compete with competitors' products and offerings, develop new products, and maintain existing local regulations in key markets where it operates.\\n\", start_char_idx=None, end_char_idx=None, text_template='{metadata_str}\\n\\n{content}', metadata_template='{key}: {value}', metadata_seperator='\\n'), score=1.0), NodeWithScore(node=TextNode(id_='1117164a-6412-4ccf-b4e9-48fd5fe870d9', embedding=None, metadata={}, excluded_embed_metadata_keys=[], excluded_llm_metadata_keys=[], relationships={}, text=\"Query: What is Uber's revenue growth and risk factors in September 2022?\\nResponse: In September 2022, Uber's revenue increased by 72% for the three months ended, and by 99% for the nine months ended, compared to the same periods in 2021. This growth was primarily due to an increase in Gross Bookings, recovery from the impacts of COVID-19, and a significant increase in Freight Gross Bookings resulting from the acquisition of Transplace in the fourth quarter of 2021.\\n\\nHowever, Uber also faced several risk factors. These included the ability to attract and retain new platform users, increased competition, the ability to expand operations in new and existing markets, changes in governmental regulations affecting the business, and harm to the brand or reputation. The company's growth rates have slowed in recent periods and are expected to continue to slow in the future. Additionally, a significant portion of Uber's expenses and investments are fixed, and if revenue is less than expected, it could result in losses exceeding expectations. The company also generates a significant percentage of its Gross Bookings from trips in large metropolitan areas and trips to and from airports, making it susceptible to conditions in these areas.\\n\", start_char_idx=None, end_char_idx=None, text_template='{metadata_str}\\n\\n{content}', metadata_template='{key}: {value}', metadata_seperator='\\n'), score=1.0)], metadata=None)"
            ]
          },
          "metadata": {},
          "execution_count": 25
        }
      ],
      "source": [
        "response"
      ]
    }
  ],
  "metadata": {
    "kernelspec": {
      "display_name": "llama_index_v2",
      "language": "python",
      "name": "llama_index_v2"
    },
    "language_info": {
      "codemirror_mode": {
        "name": "ipython",
        "version": 3
      },
      "file_extension": ".py",
      "mimetype": "text/x-python",
      "name": "python",
      "nbconvert_exporter": "python",
      "pygments_lexer": "ipython3"
    },
    "colab": {
      "provenance": []
    }
  },
  "nbformat": 4,
  "nbformat_minor": 5
}